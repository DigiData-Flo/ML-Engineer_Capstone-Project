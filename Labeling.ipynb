{
 "cells": [
  {
   "cell_type": "markdown",
   "id": "76610029",
   "metadata": {},
   "source": [
    "# Labeling\n",
    "## Creating the groundtruth\n",
    "\n",
    "With out cleaned data we can find out which received offers are viewed and completed\n",
    "\n",
    "### Import the python libaries"
   ]
  },
  {
   "cell_type": "code",
   "execution_count": 2,
   "id": "e1242750",
   "metadata": {},
   "outputs": [],
   "source": [
    "import pandas as pd\n",
    "import numpy as np\n",
    "import math\n",
    "import json\n",
    "import matplotlib.pyplot as plt\n",
    "import seaborn as sns\n",
    "%matplotlib inline\n",
    "%config InlineBackend.figure_format = 'retina'\n",
    "\n"
   ]
  },
  {
   "cell_type": "markdown",
   "id": "4d39aad3",
   "metadata": {},
   "source": [
    "### Read the cleaned data files"
   ]
  },
  {
   "cell_type": "code",
   "execution_count": 3,
   "id": "c03dc233",
   "metadata": {},
   "outputs": [],
   "source": [
    "full_df = pd.read_csv('data/full.csv', low_memory=False)"
   ]
  },
  {
   "cell_type": "code",
   "execution_count": 77,
   "id": "dd969711",
   "metadata": {},
   "outputs": [
    {
     "name": "stdout",
     "output_type": "stream",
     "text": [
      "<class 'pandas.core.frame.DataFrame'>\n",
      "RangeIndex: 306137 entries, 0 to 306136\n",
      "Data columns (total 33 columns):\n",
      " #   Column             Non-Null Count   Dtype  \n",
      "---  ------             --------------   -----  \n",
      " 0   gender             306137 non-null  object \n",
      " 1   age                306137 non-null  float64\n",
      " 2   person_id          306137 non-null  object \n",
      " 3   became_member_on   306137 non-null  object \n",
      " 4   income             306137 non-null  float64\n",
      " 5   year               306137 non-null  int64  \n",
      " 6   month              306137 non-null  int64  \n",
      " 7   day                306137 non-null  int64  \n",
      " 8   member_since_days  306137 non-null  int64  \n",
      " 9   F                  306137 non-null  int64  \n",
      " 10  M                  306137 non-null  int64  \n",
      " 11  O                  306137 non-null  int64  \n",
      " 12  U                  306137 non-null  int64  \n",
      " 13  time               306137 non-null  int64  \n",
      " 14  completed          306137 non-null  int64  \n",
      " 15  received           306137 non-null  int64  \n",
      " 16  viewed             306137 non-null  int64  \n",
      " 17  transaction        306137 non-null  int64  \n",
      " 18  amount             138953 non-null  float64\n",
      " 19  offer_id           167184 non-null  object \n",
      " 20  reward             167184 non-null  float64\n",
      " 21  difficulty         167184 non-null  float64\n",
      " 22  duration           167184 non-null  float64\n",
      " 23  offer_type         167184 non-null  object \n",
      " 24  email              167184 non-null  float64\n",
      " 25  mobile             167184 non-null  float64\n",
      " 26  social             167184 non-null  float64\n",
      " 27  web                167184 non-null  float64\n",
      " 28  ticks              167184 non-null  object \n",
      " 29  bogo               167184 non-null  float64\n",
      " 30  discount           167184 non-null  float64\n",
      " 31  informational      167184 non-null  float64\n",
      " 32  validity           167184 non-null  float64\n",
      "dtypes: float64(14), int64(13), object(6)\n",
      "memory usage: 77.1+ MB\n"
     ]
    }
   ],
   "source": [
    "full_df.info()"
   ]
  },
  {
   "cell_type": "code",
   "execution_count": 88,
   "id": "fbff69d3",
   "metadata": {},
   "outputs": [
    {
     "data": {
      "text/html": [
       "<div>\n",
       "<style scoped>\n",
       "    .dataframe tbody tr th:only-of-type {\n",
       "        vertical-align: middle;\n",
       "    }\n",
       "\n",
       "    .dataframe tbody tr th {\n",
       "        vertical-align: top;\n",
       "    }\n",
       "\n",
       "    .dataframe thead th {\n",
       "        text-align: right;\n",
       "    }\n",
       "</style>\n",
       "<table border=\"1\" class=\"dataframe\">\n",
       "  <thead>\n",
       "    <tr style=\"text-align: right;\">\n",
       "      <th>index</th>\n",
       "      <th>person_id</th>\n",
       "      <th>ticks</th>\n",
       "      <th>time</th>\n",
       "      <th>offer_type</th>\n",
       "      <th>received</th>\n",
       "      <th>viewed</th>\n",
       "      <th>completed</th>\n",
       "    </tr>\n",
       "  </thead>\n",
       "  <tbody>\n",
       "    <tr>\n",
       "      <th>168338</th>\n",
       "      <td>68be06ca386d4c31939f3a4f0e3dd783</td>\n",
       "      <td>discount_2_10_10</td>\n",
       "      <td>408</td>\n",
       "      <td>discount</td>\n",
       "      <td>1</td>\n",
       "      <td>0</td>\n",
       "      <td>0</td>\n",
       "    </tr>\n",
       "    <tr>\n",
       "      <th>168339</th>\n",
       "      <td>68be06ca386d4c31939f3a4f0e3dd783</td>\n",
       "      <td>discount_2_10_10</td>\n",
       "      <td>408</td>\n",
       "      <td>discount</td>\n",
       "      <td>0</td>\n",
       "      <td>1</td>\n",
       "      <td>0</td>\n",
       "    </tr>\n",
       "    <tr>\n",
       "      <th>168340</th>\n",
       "      <td>68be06ca386d4c31939f3a4f0e3dd783</td>\n",
       "      <td>discount_2_10_10</td>\n",
       "      <td>552</td>\n",
       "      <td>discount</td>\n",
       "      <td>0</td>\n",
       "      <td>0</td>\n",
       "      <td>1</td>\n",
       "    </tr>\n",
       "  </tbody>\n",
       "</table>\n",
       "</div>"
      ],
      "text/plain": [
       "index                          person_id             ticks  time offer_type  \\\n",
       "168338  68be06ca386d4c31939f3a4f0e3dd783  discount_2_10_10   408   discount   \n",
       "168339  68be06ca386d4c31939f3a4f0e3dd783  discount_2_10_10   408   discount   \n",
       "168340  68be06ca386d4c31939f3a4f0e3dd783  discount_2_10_10   552   discount   \n",
       "\n",
       "index   received  viewed  completed  \n",
       "168338         1       0          0  \n",
       "168339         0       1          0  \n",
       "168340         0       0          1  "
      ]
     },
     "execution_count": 88,
     "metadata": {},
     "output_type": "execute_result"
    }
   ],
   "source": [
    "columns = ['person_id', 'ticks', 'time', 'offer_type', 'received', 'viewed', 'completed' ]\n",
    "\n",
    "full_df.columns.name='index'\n",
    "full_df.query('person_id == \"68be06ca386d4c31939f3a4f0e3dd783\"').loc[[168338, 168339, 168340], columns]\n"
   ]
  },
  {
   "cell_type": "markdown",
   "id": "321176fa",
   "metadata": {},
   "source": [
    "### How many offers are provided for customers?\n",
    "\n",
    "\n",
    "Wieviel unterschiedliche Angebote hat jeder Kunde erhalten. Da wir zehn verschiedene Angebote haben, aber nur 3 Typen von Angebten, nämlich \"Bogo\", \"Discount\" und \"Informational\", möchte ich wissen, wieviele unterschiedliche Typen die Kunden bekommen haben.\n",
    "\n",
    "How many different offers did each customer receive. Since we have ten different offers, but only three types of offers, namely \"Bogo\", \"Discount\" and \"Informational\", I would like to know how many different types the customers received.\n"
   ]
  },
  {
   "cell_type": "markdown",
   "id": "47424082",
   "metadata": {},
   "source": [
    "### Create sub dataframes for the labeling process\n",
    "\n",
    "To find the viewed and completed satus for each received offer I have to create several sub dataframes.\n",
    "\n",
    "**received**: All rows from full dataframe with column received == 1. This is the baseline dataframe I will update with the vsalues for viewed and completed.\n",
    "\n",
    "**viewed**: All rows from full dataframe with column viewed == 1.\n",
    "\n",
    "**completed**: All rows from full dataframe with column completed == 1.\n",
    "\n",
    "\n",
    "**transaction**: All rows from full dataframe with column transaction == 1.\n",
    "\n",
    "**offer_received**: Based on received dataframe but without informational offers.\n",
    "\n",
    "**advert_received**: Based on received dataframe but only informational offers.\n",
    "\n",
    "**offer_viewed**: Based on viewed dataframe but without informational offers.\n",
    "\n",
    "**offer_completed**: Based on completed dataframe but without informational offers.\n",
    "\n",
    "**advert_viewed**: Based on viewed dataframe but only informational offers.\n",
    "\n"
   ]
  },
  {
   "cell_type": "code",
   "execution_count": 33,
   "id": "12e6b109",
   "metadata": {},
   "outputs": [],
   "source": [
    "# create a sub dataframe only with offer received events\n",
    "received = full_df[full_df['received'] == 1]\n",
    "# create a sub dataframe only with offer viewed events\n",
    "viewed = full_df[full_df['viewed'] == 1]\n",
    "# create a sub dataframe only with offer completed events\n",
    "completed = full_df[full_df['completed'] == 1]\n",
    "# create a sub dataframe only with transaction events\n",
    "transaction = full_df[full_df['transaction'] == 1]\n",
    "# create a subreceived dataframe only with offer_type != Informational\n",
    "offer_received = received[received.offer_type != 'informational']\n",
    "# create a subreceived dataframe only with offer_type == Informational\n",
    "advert_received = received[received.offer_type == 'informational']\n",
    "# create a subviewed dataframe only with offer_type != Informational\n",
    "offer_viewed = viewed[viewed.offer_type != 'informational']\n",
    "# create a subviewed dataframe only with offer_type == Informational\n",
    "advert_viewed = viewed[viewed.offer_type == 'informational']\n",
    "# create a subcompleted dataframe only with offer_type != Informational\n",
    "offer_completed = completed[completed.offer_type != 'informational']\n"
   ]
  },
  {
   "cell_type": "code",
   "execution_count": 34,
   "id": "7591b8f5",
   "metadata": {},
   "outputs": [
    {
     "data": {
      "text/html": [
       "<div>\n",
       "<style scoped>\n",
       "    .dataframe tbody tr th:only-of-type {\n",
       "        vertical-align: middle;\n",
       "    }\n",
       "\n",
       "    .dataframe tbody tr th {\n",
       "        vertical-align: top;\n",
       "    }\n",
       "\n",
       "    .dataframe thead th {\n",
       "        text-align: right;\n",
       "    }\n",
       "</style>\n",
       "<table border=\"1\" class=\"dataframe\">\n",
       "  <thead>\n",
       "    <tr style=\"text-align: right;\">\n",
       "      <th>offer_type</th>\n",
       "      <th>bogo</th>\n",
       "      <th>discount</th>\n",
       "      <th>informational</th>\n",
       "      <th>unique_offers</th>\n",
       "      <th>total_offers</th>\n",
       "    </tr>\n",
       "    <tr>\n",
       "      <th>person_id</th>\n",
       "      <th></th>\n",
       "      <th></th>\n",
       "      <th></th>\n",
       "      <th></th>\n",
       "      <th></th>\n",
       "    </tr>\n",
       "  </thead>\n",
       "  <tbody>\n",
       "    <tr>\n",
       "      <th>0009655768c64bdeb2e877511632db8f</th>\n",
       "      <td>1.0</td>\n",
       "      <td>2.0</td>\n",
       "      <td>2.0</td>\n",
       "      <td>3</td>\n",
       "      <td>5.0</td>\n",
       "    </tr>\n",
       "    <tr>\n",
       "      <th>00116118485d4dfda04fdbaba9a87b5c</th>\n",
       "      <td>2.0</td>\n",
       "      <td>NaN</td>\n",
       "      <td>NaN</td>\n",
       "      <td>1</td>\n",
       "      <td>2.0</td>\n",
       "    </tr>\n",
       "    <tr>\n",
       "      <th>0011e0d4e6b944f998e987f904e8c1e5</th>\n",
       "      <td>1.0</td>\n",
       "      <td>2.0</td>\n",
       "      <td>2.0</td>\n",
       "      <td>3</td>\n",
       "      <td>5.0</td>\n",
       "    </tr>\n",
       "    <tr>\n",
       "      <th>0020c2b971eb4e9188eac86d93036a77</th>\n",
       "      <td>2.0</td>\n",
       "      <td>2.0</td>\n",
       "      <td>1.0</td>\n",
       "      <td>3</td>\n",
       "      <td>5.0</td>\n",
       "    </tr>\n",
       "    <tr>\n",
       "      <th>0020ccbbb6d84e358d3414a3ff76cffd</th>\n",
       "      <td>2.0</td>\n",
       "      <td>1.0</td>\n",
       "      <td>1.0</td>\n",
       "      <td>3</td>\n",
       "      <td>4.0</td>\n",
       "    </tr>\n",
       "    <tr>\n",
       "      <th>...</th>\n",
       "      <td>...</td>\n",
       "      <td>...</td>\n",
       "      <td>...</td>\n",
       "      <td>...</td>\n",
       "      <td>...</td>\n",
       "    </tr>\n",
       "    <tr>\n",
       "      <th>fff3ba4757bd42088c044ca26d73817a</th>\n",
       "      <td>1.0</td>\n",
       "      <td>3.0</td>\n",
       "      <td>2.0</td>\n",
       "      <td>3</td>\n",
       "      <td>6.0</td>\n",
       "    </tr>\n",
       "    <tr>\n",
       "      <th>fff7576017104bcc8677a8d63322b5e1</th>\n",
       "      <td>3.0</td>\n",
       "      <td>2.0</td>\n",
       "      <td>NaN</td>\n",
       "      <td>2</td>\n",
       "      <td>5.0</td>\n",
       "    </tr>\n",
       "    <tr>\n",
       "      <th>fff8957ea8b240a6b5e634b6ee8eafcf</th>\n",
       "      <td>1.0</td>\n",
       "      <td>1.0</td>\n",
       "      <td>1.0</td>\n",
       "      <td>3</td>\n",
       "      <td>3.0</td>\n",
       "    </tr>\n",
       "    <tr>\n",
       "      <th>fffad4f4828548d1b5583907f2e9906b</th>\n",
       "      <td>3.0</td>\n",
       "      <td>NaN</td>\n",
       "      <td>1.0</td>\n",
       "      <td>2</td>\n",
       "      <td>4.0</td>\n",
       "    </tr>\n",
       "    <tr>\n",
       "      <th>ffff82501cea40309d5fdd7edcca4a07</th>\n",
       "      <td>1.0</td>\n",
       "      <td>5.0</td>\n",
       "      <td>NaN</td>\n",
       "      <td>2</td>\n",
       "      <td>6.0</td>\n",
       "    </tr>\n",
       "  </tbody>\n",
       "</table>\n",
       "<p>16994 rows × 5 columns</p>\n",
       "</div>"
      ],
      "text/plain": [
       "offer_type                        bogo  discount  informational  \\\n",
       "person_id                                                         \n",
       "0009655768c64bdeb2e877511632db8f   1.0       2.0            2.0   \n",
       "00116118485d4dfda04fdbaba9a87b5c   2.0       NaN            NaN   \n",
       "0011e0d4e6b944f998e987f904e8c1e5   1.0       2.0            2.0   \n",
       "0020c2b971eb4e9188eac86d93036a77   2.0       2.0            1.0   \n",
       "0020ccbbb6d84e358d3414a3ff76cffd   2.0       1.0            1.0   \n",
       "...                                ...       ...            ...   \n",
       "fff3ba4757bd42088c044ca26d73817a   1.0       3.0            2.0   \n",
       "fff7576017104bcc8677a8d63322b5e1   3.0       2.0            NaN   \n",
       "fff8957ea8b240a6b5e634b6ee8eafcf   1.0       1.0            1.0   \n",
       "fffad4f4828548d1b5583907f2e9906b   3.0       NaN            1.0   \n",
       "ffff82501cea40309d5fdd7edcca4a07   1.0       5.0            NaN   \n",
       "\n",
       "offer_type                        unique_offers  total_offers  \n",
       "person_id                                                      \n",
       "0009655768c64bdeb2e877511632db8f              3           5.0  \n",
       "00116118485d4dfda04fdbaba9a87b5c              1           2.0  \n",
       "0011e0d4e6b944f998e987f904e8c1e5              3           5.0  \n",
       "0020c2b971eb4e9188eac86d93036a77              3           5.0  \n",
       "0020ccbbb6d84e358d3414a3ff76cffd              3           4.0  \n",
       "...                                         ...           ...  \n",
       "fff3ba4757bd42088c044ca26d73817a              3           6.0  \n",
       "fff7576017104bcc8677a8d63322b5e1              2           5.0  \n",
       "fff8957ea8b240a6b5e634b6ee8eafcf              3           3.0  \n",
       "fffad4f4828548d1b5583907f2e9906b              2           4.0  \n",
       "ffff82501cea40309d5fdd7edcca4a07              2           6.0  \n",
       "\n",
       "[16994 rows x 5 columns]"
      ]
     },
     "execution_count": 34,
     "metadata": {},
     "output_type": "execute_result"
    }
   ],
   "source": [
    "# Group the dataframe by offer_type and aggregate the size per group\n",
    "offer_count = received.groupby(['person_id', 'offer_type']).size().reset_index()\n",
    "# Use pd pivot fuction to create a dataframe with index=persons cloumns=offer_types and as the values the values from size\n",
    "offer_count = offer_count.pivot(index='person_id', columns='offer_type', values=0)\n",
    "# Create a column unique_offers with count in axis=1 for type columns\n",
    "offer_count['unique_offers'] = offer_count.iloc[:,:3].count(axis=1).values\n",
    "# Create a column total_offers with sum in axis=1 for type columns\n",
    "offer_count['total_offers'] = offer_count.iloc[:,:3].sum(axis=1).values\n",
    "\n",
    "offer_count"
   ]
  },
  {
   "cell_type": "markdown",
   "id": "58434ab6",
   "metadata": {},
   "source": [
    "### Working process\n",
    "\n",
    "We have 306137 trabscript rows. 167184 rows are affected by offer events, while 138953 event are regular transactions.\n",
    "The events affected by offers are recieved, viewed and completed. Accept for informational offers. Here is no completed event available. Instead an informational offer is completed, when within the duration a transaction is performed to the corresponding informational offer.\n",
    "Another problem is that offers have \"received\" as event but do not necessarily have a \"viewed\" or \"completed\" one. It is therefore necessary to carry out a preprocessing step that adds the information about \"viewed\" and \"completed\" to the \"received\" offers.\n",
    "\n"
   ]
  },
  {
   "cell_type": "markdown",
   "id": "5308586f",
   "metadata": {},
   "source": [
    "### Method to extract viewed and completed informations for each received offer\n",
    "\n",
    "The input for this method is the received dataframe and a corresponding match dataframe, this means the viewed or the completed dataframe.\n",
    "* The method loops over all unique customers from received dataframe.\n",
    "\n",
    "```python\n",
    "for i, person in enumerate(tqdm(received_df.person_id.unique())):\n",
    "```\n",
    "* For each customer an received and match sub dataframe will be created.\n",
    "\n",
    "```python\n",
    "sub_received = received_df[received_df.person_id == person]\n",
    "sub_match = match_df[match_df.person_id == person]\n",
    "```\n",
    "* Loop  over events in customer received sub dataframe\n",
    "\n",
    "```python\n",
    "for j, (time, offer_id, validity) in enumerate(zip(sub_received.time, sub_received.offer_id, sub_received.validity)):\n",
    "```\n",
    "* Try to find a match to customer viewed sub dataframe\n",
    "\n",
    "```python\n",
    "match = sub_viewed.query('@time <= time <= @validity')\n",
    "```\n",
    "* Dependet if a match is found add the index to an in_idx or out_idx list\n",
    "\n",
    "```python\n",
    "if len(match) == 0:\n",
    "    out_idx.append(sub_received.iloc[j].name)\n",
    "else:\n",
    "    in_idx.append((sub_received.iloc[j].name))\n",
    "```\n",
    "\n"
   ]
  },
  {
   "cell_type": "code",
   "execution_count": 35,
   "id": "0388f84a",
   "metadata": {},
   "outputs": [],
   "source": [
    "from tqdm import tqdm\n",
    "\n",
    "\n",
    "def find_matches(received_df, match_df, transaction=False):\n",
    "    \n",
    "    '''This function loops over the received DataFrame and search for corresponding events in the match DataFrame. \n",
    "    A corresponding event has same offer_id, same person, and the time is in the validity timeframe.\n",
    "    This function takes two dataframes. The received dataframe as baseline and the match dataframe to find a match'''\n",
    "    \n",
    "    out_idx = []  ## index for received df where no match is located\n",
    "    in_idx = [] ## index for received df where match is located\n",
    "    match_length = [] ## For each match the length\n",
    "    out_df = pd.DataFrame() ## DataFrame with matches\n",
    "    in_amount = []\n",
    "    \n",
    "    \n",
    "    for i, person in enumerate(tqdm(received_df.person_id.unique())):\n",
    "        \n",
    "\n",
    "        # Erstelle für die aktuelle Person und sub DataFrame aus dem offer received DataFrame\n",
    "        sub_received = received_df[received_df.person_id == person]\n",
    "\n",
    "        # Erstelle für die aktuelle Person und sub DataFrame aus dem offer completed DataFrame\n",
    "        sub_match = match_df[match_df.person_id == person]\n",
    "\n",
    "        # Loop über den sub offer received Dataframe\n",
    "        # iloc position, time, offer_id, validity\n",
    "        for j, (time, offer_id, validity) in enumerate(zip(sub_received.time, sub_received.offer_id, sub_received.validity)):\n",
    "\n",
    "            # Finde in den sub offer completed einen match mit gleicher offer id und Zeit innerhalb der Gültigkeit\n",
    "            if transaction:\n",
    "                match = sub_match.query('@time <= time <= @validity')\n",
    "                match.loc[:, 'offer_id'] = offer_id\n",
    "                match['offer_received'] = '1'\n",
    "                match['offer_viewed'] = '1'\n",
    "                match['offer_completed'] = str(len(match))\n",
    "            else:\n",
    "                match = sub_match.query('offer_id == @offer_id and @time <= time <= @validity')\n",
    "            \n",
    "            # Wenn kein Match gefunden wurde, nehme den globalen index namen des sub offer received\n",
    "            # Und speichere ihn in eine Liste\n",
    "            if len(match) == 0:\n",
    "                out_idx.append(sub_received.iloc[j].name)\n",
    "            else:\n",
    "                in_idx.append((sub_received.iloc[j].name))\n",
    "                in_amount.append(sub_received.iloc[j].amount)\n",
    "                # Information ob es mehr als einen match gegeben hat\n",
    "                match_length.append(len(match))\n",
    "                # Der in der Funktion sich aufbauende matched DataFrame\n",
    "                out_df = pd.concat([out_df, match])\n",
    "    \n",
    "    match_length = pd.DataFrame({'length': match_length})\n",
    "    \n",
    "    if transaction:\n",
    "        return out_idx, in_idx, out_df, match_length, in_amount\n",
    "    else:\n",
    "        return out_idx, in_idx, out_df, match_length\n",
    "    \n",
    "\n",
    "\n"
   ]
  },
  {
   "cell_type": "markdown",
   "id": "2bfac141",
   "metadata": {},
   "source": [
    "### Extract offer viewed informations\n",
    "\n",
    "Use the offer_received and offer_viewed sub dataframes as input"
   ]
  },
  {
   "cell_type": "code",
   "execution_count": 36,
   "id": "e8019c99",
   "metadata": {},
   "outputs": [
    {
     "name": "stderr",
     "output_type": "stream",
     "text": [
      "100%|██████████| 16928/16928 [15:44<00:00, 17.92it/s]\n"
     ]
    }
   ],
   "source": [
    "# Check for offer viewed matches from viewed dataframe\n",
    "offer_not_viewed_idx, offer_viewed_idx, offer_viewed_build, offer_viewed_match_length = \\\n",
    "find_matches(offer_received, offer_viewed)"
   ]
  },
  {
   "cell_type": "markdown",
   "id": "8b1587ce",
   "metadata": {},
   "source": [
    "Use the `in_idx` and `out_idx` list to fill the viewed columns with labels 1 for matched offers and -1 for offers where no viewed offer could be found."
   ]
  },
  {
   "cell_type": "code",
   "execution_count": 37,
   "id": "c5967217",
   "metadata": {},
   "outputs": [
    {
     "name": "stderr",
     "output_type": "stream",
     "text": [
      "/home/ec2-user/anaconda3/envs/python3/lib/python3.6/site-packages/pandas/core/indexing.py:1763: SettingWithCopyWarning: \n",
      "A value is trying to be set on a copy of a slice from a DataFrame.\n",
      "Try using .loc[row_indexer,col_indexer] = value instead\n",
      "\n",
      "See the caveats in the documentation: https://pandas.pydata.org/pandas-docs/stable/user_guide/indexing.html#returning-a-view-versus-a-copy\n",
      "  isetter(loc, value)\n"
     ]
    }
   ],
   "source": [
    "# Add -1 to event_offer viewed column where no match was located\n",
    "received.loc[offer_not_viewed_idx, 'viewed'] = -1\n",
    "# Add 1 to event_offer viewed columns where match was located\n",
    "received.loc[offer_viewed_idx, 'viewed'] = 1\n"
   ]
  },
  {
   "cell_type": "markdown",
   "id": "88c01453",
   "metadata": {},
   "source": [
    "### Extract offer completed informations\n",
    "\n",
    "Use the offer_received and offer_completed sub dataframes as input"
   ]
  },
  {
   "cell_type": "code",
   "execution_count": 38,
   "id": "cbf699a6",
   "metadata": {},
   "outputs": [
    {
     "name": "stderr",
     "output_type": "stream",
     "text": [
      "100%|██████████| 16928/16928 [12:04<00:00, 23.38it/s]\n"
     ]
    }
   ],
   "source": [
    "# Check for offer completed matches from completed dataframe\n",
    "offer_not_completed_idx, offer_completed_idx, offer_completed_build, offer_completed_match_length = \\\n",
    "find_matches(offer_received, offer_completed)"
   ]
  },
  {
   "cell_type": "markdown",
   "id": "0263d561",
   "metadata": {},
   "source": [
    "Use the `in_idx` and `out_idx` list to fill the completed columns with labels 1 for matched offers and -1 for offers where no completed offer could be found."
   ]
  },
  {
   "cell_type": "code",
   "execution_count": 39,
   "id": "e5ee4faf",
   "metadata": {},
   "outputs": [],
   "source": [
    "# Add -1 to event_offer viewed column where no match was located\n",
    "received.loc[offer_not_completed_idx, 'completed'] = -1\n",
    "# Add 1 to event_offer viewed columns where match was located\n",
    "received.loc[offer_completed_idx, 'completed'] = 1\n",
    "\n"
   ]
  },
  {
   "cell_type": "markdown",
   "id": "50d66b49",
   "metadata": {},
   "source": [
    "### Extract advert viewed informations\n",
    "Use the offer_received and advert_viewed sub dataframes as input"
   ]
  },
  {
   "cell_type": "code",
   "execution_count": 43,
   "id": "58ce3ab0",
   "metadata": {},
   "outputs": [
    {
     "name": "stderr",
     "output_type": "stream",
     "text": [
      "100%|██████████| 10547/10547 [03:03<00:00, 57.53it/s]\n"
     ]
    }
   ],
   "source": [
    "# Check for offer viewed matches from transaction dataframe\n",
    "advert_not_viewed_idx, advert_viewed_idx, advert_viewed_build, advert_viewed_match_length = \\\n",
    "find_matches(advert_received, advert_viewed)"
   ]
  },
  {
   "cell_type": "markdown",
   "id": "94609d22",
   "metadata": {},
   "source": [
    "Use the `in_idx` and `out_idx` list to fill the viewed columns with labels 1 for matched offers and -1 for offers where no viewed offer could be found."
   ]
  },
  {
   "cell_type": "code",
   "execution_count": 44,
   "id": "876f63d3",
   "metadata": {},
   "outputs": [],
   "source": [
    "# Add -1 to event_offer viewed column where no match was located\n",
    "received.loc[advert_not_viewed_idx, 'viewed'] = -1\n",
    "# Add 1 to event_offer viewed columns where match was located\n",
    "received.loc[advert_viewed_idx, 'viewed'] = 1\n",
    "\n",
    "\n"
   ]
  },
  {
   "cell_type": "markdown",
   "id": "fc25eafa",
   "metadata": {},
   "source": [
    "### Extract advert completed informations\n",
    "\n",
    "Use the advert_received and transaction sub dataframes as input. For the informational offers there are no completed offers as match available. I have to extract the completed event from regular transaction. In this case the method get an additional argument `transaction=True`.\n",
    "\n",
    "The offer_id from advert_received will not checked again the offer_id from transaction, because there is no offer_id.\n"
   ]
  },
  {
   "cell_type": "code",
   "execution_count": 45,
   "id": "d21715c3",
   "metadata": {},
   "outputs": [
    {
     "name": "stderr",
     "output_type": "stream",
     "text": [
      "  0%|          | 0/10547 [00:00<?, ?it/s]/home/ec2-user/anaconda3/envs/python3/lib/python3.6/site-packages/ipykernel/__main__.py:34: SettingWithCopyWarning: \n",
      "A value is trying to be set on a copy of a slice from a DataFrame.\n",
      "Try using .loc[row_indexer,col_indexer] = value instead\n",
      "\n",
      "See the caveats in the documentation: https://pandas.pydata.org/pandas-docs/stable/user_guide/indexing.html#returning-a-view-versus-a-copy\n",
      "/home/ec2-user/anaconda3/envs/python3/lib/python3.6/site-packages/ipykernel/__main__.py:35: SettingWithCopyWarning: \n",
      "A value is trying to be set on a copy of a slice from a DataFrame.\n",
      "Try using .loc[row_indexer,col_indexer] = value instead\n",
      "\n",
      "See the caveats in the documentation: https://pandas.pydata.org/pandas-docs/stable/user_guide/indexing.html#returning-a-view-versus-a-copy\n",
      "/home/ec2-user/anaconda3/envs/python3/lib/python3.6/site-packages/ipykernel/__main__.py:36: SettingWithCopyWarning: \n",
      "A value is trying to be set on a copy of a slice from a DataFrame.\n",
      "Try using .loc[row_indexer,col_indexer] = value instead\n",
      "\n",
      "See the caveats in the documentation: https://pandas.pydata.org/pandas-docs/stable/user_guide/indexing.html#returning-a-view-versus-a-copy\n",
      "100%|██████████| 10547/10547 [04:40<00:00, 37.61it/s]\n"
     ]
    }
   ],
   "source": [
    "# Check for offer completed matches from transaction dataframe\n",
    "advert_not_completed_idx, advert_completed_idx, advert_completed_build, advert_completed_match_length, amount= \\\n",
    "find_matches(advert_received, transaction, transaction=True)"
   ]
  },
  {
   "cell_type": "markdown",
   "id": "d26cc980",
   "metadata": {},
   "source": [
    "Use the `in_idx` and `out_idx` list to fill the completed columns with labels 1 for matched offers and -1 for offers where no completed offer could be found."
   ]
  },
  {
   "cell_type": "code",
   "execution_count": 46,
   "id": "19792bf6",
   "metadata": {},
   "outputs": [],
   "source": [
    "# Add -1 to event_offer viewed column where no match was located\n",
    "received.loc[advert_not_completed_idx, 'completed'] = -1\n",
    "# Add 1 to event_offer viewed columns where match was located\n",
    "received.loc[advert_completed_idx, 'completed'] = 1\n"
   ]
  },
  {
   "cell_type": "markdown",
   "id": "4c59db09",
   "metadata": {},
   "source": [
    "### Check of received dataframe\n",
    "Now I have for each received offer labels created for viewed and completed. Let's check if there are still null values in the received offers."
   ]
  },
  {
   "cell_type": "code",
   "execution_count": 47,
   "id": "5dd2e40f",
   "metadata": {},
   "outputs": [
    {
     "name": "stdout",
     "output_type": "stream",
     "text": [
      "Offer viewed\n",
      " 1    56895\n",
      "-1    19382\n",
      "Name: viewed, dtype: int64\n",
      "Offer completed\n",
      " 1    43114\n",
      "-1    33163\n",
      "Name: completed, dtype: int64\n"
     ]
    }
   ],
   "source": [
    "print('Offer viewed')\n",
    "print(received['viewed'].value_counts())\n",
    "print('Offer completed')\n",
    "print(received['completed'].value_counts())"
   ]
  },
  {
   "cell_type": "markdown",
   "id": "73fadcf3",
   "metadata": {},
   "source": [
    "### Write the received dataframe to a csv file\n",
    "\n",
    "The received dataframe does not contain null values in viewed and completed column. All received offers have the information wether they viewed or not viewed and wether they completed or not completed."
   ]
  },
  {
   "cell_type": "code",
   "execution_count": 48,
   "id": "8084036a",
   "metadata": {},
   "outputs": [],
   "source": [
    "# Write csv file for received dataframe\n",
    "received.to_csv('data/received.csv', index=True)"
   ]
  },
  {
   "cell_type": "markdown",
   "id": "cd655a5c",
   "metadata": {},
   "source": [
    "### Go on with Explorative Data Analysis."
   ]
  },
  {
   "cell_type": "code",
   "execution_count": null,
   "id": "ca7f3939",
   "metadata": {},
   "outputs": [],
   "source": [
    "received.info"
   ]
  },
  {
   "cell_type": "code",
   "execution_count": null,
   "id": "6e7317fd",
   "metadata": {},
   "outputs": [],
   "source": []
  },
  {
   "cell_type": "code",
   "execution_count": null,
   "id": "09bc30a4",
   "metadata": {},
   "outputs": [],
   "source": []
  }
 ],
 "metadata": {
  "kernelspec": {
   "display_name": "conda_python3",
   "language": "python",
   "name": "conda_python3"
  },
  "language_info": {
   "codemirror_mode": {
    "name": "ipython",
    "version": 3
   },
   "file_extension": ".py",
   "mimetype": "text/x-python",
   "name": "python",
   "nbconvert_exporter": "python",
   "pygments_lexer": "ipython3",
   "version": "3.6.13"
  }
 },
 "nbformat": 4,
 "nbformat_minor": 5
}
