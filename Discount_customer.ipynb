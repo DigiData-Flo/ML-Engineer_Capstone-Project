{
 "cells": [
  {
   "cell_type": "code",
   "execution_count": null,
   "id": "261c8e81",
   "metadata": {},
   "outputs": [],
   "source": []
  },
  {
   "cell_type": "code",
   "execution_count": 1,
   "id": "e918506d",
   "metadata": {},
   "outputs": [],
   "source": [
    "import pandas as pd\n",
    "import numpy as np\n",
    "import math\n",
    "import json\n",
    "import matplotlib.pyplot as plt\n",
    "import seaborn as sns\n",
    "%matplotlib inline\n",
    "%config InlineBackend.figure_format = 'retina'\n",
    "\n"
   ]
  },
  {
   "cell_type": "code",
   "execution_count": 17,
   "id": "489b93d0",
   "metadata": {},
   "outputs": [],
   "source": [
    "from tqdm import tqdm"
   ]
  },
  {
   "cell_type": "markdown",
   "id": "48ca6e78",
   "metadata": {},
   "source": [
    "### Read the cleaned data files"
   ]
  },
  {
   "cell_type": "code",
   "execution_count": 2,
   "id": "87d8e740",
   "metadata": {},
   "outputs": [],
   "source": [
    "full_df = pd.read_csv('data/full.csv', low_memory=False)"
   ]
  },
  {
   "cell_type": "code",
   "execution_count": 16,
   "id": "612d8cf2",
   "metadata": {},
   "outputs": [],
   "source": [
    "df = full_df.query('transaction == 1 or offer_type == \"discount\"')\n",
    "df = df.query('completed == 1 or transaction == 1')\n",
    "customers = df.person_id.unique()\n",
    "\n",
    "\n"
   ]
  },
  {
   "cell_type": "code",
   "execution_count": 19,
   "id": "7fab2c6c",
   "metadata": {},
   "outputs": [
    {
     "name": "stderr",
     "output_type": "stream",
     "text": [
      "  0%|          | 8/16578 [00:00<03:48, 72.58it/s]"
     ]
    },
    {
     "name": "stdout",
     "output_type": "stream",
     "text": [
      "Int64Index([498, 600], dtype='int64', name='time')\n",
      "Int64Index([78, 222, 426, 510, 600], dtype='int64', name='time')\n",
      "Int64Index([414], dtype='int64', name='time')\n",
      "Int64Index([300, 432], dtype='int64', name='time')\n",
      "Int64Index([390], dtype='int64', name='time')\n",
      "Int64Index([132, 612], dtype='int64', name='time')\n",
      "Int64Index([120], dtype='int64', name='time')\n",
      "Int64Index([312, 396, 498], dtype='int64', name='time')\n",
      "Int64Index([168, 558], dtype='int64', name='time')\n",
      "Int64Index([450, 624], dtype='int64', name='time')\n",
      "Int64Index([624], dtype='int64', name='time')\n",
      "Int64Index([462, 564], dtype='int64', name='time')\n",
      "Int64Index([0, 354, 474], dtype='int64', name='time')\n",
      "Int64Index([24, 270], dtype='int64', name='time')\n",
      "Int64Index([], dtype='int64', name='time')\n"
     ]
    },
    {
     "name": "stderr",
     "output_type": "stream",
     "text": [
      "  0%|          | 24/16578 [00:00<03:49, 72.14it/s]"
     ]
    },
    {
     "name": "stdout",
     "output_type": "stream",
     "text": [
      "Int64Index([420], dtype='int64', name='time')\n",
      "Int64Index([450], dtype='int64', name='time')\n",
      "Int64Index([36, 420, 594], dtype='int64', name='time')\n",
      "Int64Index([516], dtype='int64', name='time')\n",
      "Int64Index([258, 408, 504, 582], dtype='int64', name='time')\n",
      "Int64Index([30, 180, 510], dtype='int64', name='time')\n",
      "Int64Index([576], dtype='int64', name='time')\n",
      "Int64Index([60, 252, 420], dtype='int64', name='time')\n",
      "Int64Index([480], dtype='int64', name='time')\n",
      "Int64Index([528], dtype='int64', name='time')\n",
      "Int64Index([174, 474], dtype='int64', name='time')\n",
      "Int64Index([24, 228, 468, 546], dtype='int64', name='time')\n",
      "Int64Index([18, 228, 462], dtype='int64', name='time')\n",
      "Int64Index([120, 348, 642], dtype='int64', name='time')\n",
      "Int64Index([480], dtype='int64', name='time')\n",
      "Int64Index([282, 660], dtype='int64', name='time')\n"
     ]
    },
    {
     "name": "stderr",
     "output_type": "stream",
     "text": [
      "  0%|          | 40/16578 [00:00<03:48, 72.52it/s]"
     ]
    },
    {
     "name": "stdout",
     "output_type": "stream",
     "text": [
      "Int64Index([336, 714], dtype='int64', name='time')\n",
      "Int64Index([186, 420, 630], dtype='int64', name='time')\n",
      "Int64Index([276], dtype='int64', name='time')\n",
      "Int64Index([564, 648], dtype='int64', name='time')\n",
      "Int64Index([], dtype='int64', name='time')\n",
      "Int64Index([336, 492], dtype='int64', name='time')\n",
      "Int64Index([432, 666], dtype='int64', name='time')\n",
      "Int64Index([504], dtype='int64', name='time')\n",
      "Int64Index([228, 468, 486, 648, 702], dtype='int64', name='time')\n",
      "Int64Index([450, 576], dtype='int64', name='time')\n",
      "Int64Index([414, 540], dtype='int64', name='time')\n",
      "Int64Index([444, 552], dtype='int64', name='time')\n",
      "Int64Index([576], dtype='int64', name='time')\n",
      "Int64Index([24, 354, 492], dtype='int64', name='time')\n",
      "Int64Index([510], dtype='int64', name='time')\n",
      "Int64Index([264], dtype='int64', name='time')\n"
     ]
    },
    {
     "name": "stderr",
     "output_type": "stream",
     "text": [
      "  0%|          | 56/16578 [00:00<03:48, 72.31it/s]"
     ]
    },
    {
     "name": "stdout",
     "output_type": "stream",
     "text": [
      "Int64Index([264], dtype='int64', name='time')\n",
      "Int64Index([168], dtype='int64', name='time')\n",
      "Int64Index([162, 474, 552], dtype='int64', name='time')\n",
      "Int64Index([378, 522, 594], dtype='int64', name='time')\n",
      "Int64Index([198, 438, 504], dtype='int64', name='time')\n",
      "Int64Index([624], dtype='int64', name='time')\n",
      "Int64Index([462, 588], dtype='int64', name='time')\n",
      "Int64Index([336], dtype='int64', name='time')\n",
      "Int64Index([444, 612], dtype='int64', name='time')\n",
      "Int64Index([372], dtype='int64', name='time')\n",
      "Int64Index([420, 648], dtype='int64', name='time')\n",
      "Int64Index([150, 522, 630], dtype='int64', name='time')\n",
      "Int64Index([], dtype='int64', name='time')\n",
      "Int64Index([198, 576], dtype='int64', name='time')\n",
      "Int64Index([6, 204], dtype='int64', name='time')\n"
     ]
    },
    {
     "name": "stderr",
     "output_type": "stream",
     "text": [
      "  0%|          | 72/16578 [00:00<03:45, 73.32it/s]"
     ]
    },
    {
     "name": "stdout",
     "output_type": "stream",
     "text": [
      "Int64Index([], dtype='int64', name='time')\n",
      "Int64Index([390], dtype='int64', name='time')\n",
      "Int64Index([438, 612], dtype='int64', name='time')\n",
      "Int64Index([12], dtype='int64', name='time')\n",
      "Int64Index([12], dtype='int64', name='time')\n",
      "Int64Index([600], dtype='int64', name='time')\n",
      "Int64Index([210], dtype='int64', name='time')\n",
      "Int64Index([42, 408, 564], dtype='int64', name='time')\n",
      "Int64Index([498], dtype='int64', name='time')\n",
      "Int64Index([432, 696], dtype='int64', name='time')\n",
      "Int64Index([528], dtype='int64', name='time')\n",
      "Int64Index([114, 354, 600], dtype='int64', name='time')\n",
      "Int64Index([132, 366], dtype='int64', name='time')\n",
      "Int64Index([198, 378, 528], dtype='int64', name='time')\n",
      "Int64Index([30], dtype='int64', name='time')\n"
     ]
    },
    {
     "name": "stderr",
     "output_type": "stream",
     "text": [
      "  1%|          | 88/16578 [00:01<03:46, 72.78it/s]"
     ]
    },
    {
     "name": "stdout",
     "output_type": "stream",
     "text": [
      "Int64Index([450], dtype='int64', name='time')\n",
      "Int64Index([684], dtype='int64', name='time')\n",
      "Int64Index([30, 366], dtype='int64', name='time')\n",
      "Int64Index([], dtype='int64', name='time')\n",
      "Int64Index([198], dtype='int64', name='time')\n",
      "Int64Index([378, 690], dtype='int64', name='time')\n",
      "Int64Index([228, 390, 606], dtype='int64', name='time')\n",
      "Int64Index([54, 282], dtype='int64', name='time')\n",
      "Int64Index([240, 600], dtype='int64', name='time')\n",
      "Int64Index([282, 606], dtype='int64', name='time')\n",
      "Int64Index([402, 672], dtype='int64', name='time')\n",
      "Int64Index([180], dtype='int64', name='time')\n",
      "Int64Index([204, 390, 486, 534], dtype='int64', name='time')\n",
      "Int64Index([288], dtype='int64', name='time')\n",
      "Int64Index([438], dtype='int64', name='time')\n",
      "Int64Index([252, 492, 582], dtype='int64', name='time')\n"
     ]
    },
    {
     "name": "stderr",
     "output_type": "stream",
     "text": [
      "  1%|          | 104/16578 [00:01<03:43, 73.85it/s]"
     ]
    },
    {
     "name": "stdout",
     "output_type": "stream",
     "text": [
      "Int64Index([270], dtype='int64', name='time')\n",
      "Int64Index([48, 492], dtype='int64', name='time')\n",
      "Int64Index([108], dtype='int64', name='time')\n",
      "Int64Index([204, 354], dtype='int64', name='time')\n",
      "Int64Index([366, 696], dtype='int64', name='time')\n",
      "Int64Index([414, 534], dtype='int64', name='time')\n",
      "Int64Index([192, 588], dtype='int64', name='time')\n",
      "Int64Index([384], dtype='int64', name='time')\n",
      "Int64Index([372, 408], dtype='int64', name='time')\n",
      "Int64Index([600], dtype='int64', name='time')\n",
      "Int64Index([468, 600], dtype='int64', name='time')\n",
      "Int64Index([138, 624], dtype='int64', name='time')\n",
      "Int64Index([180, 546], dtype='int64', name='time')\n",
      "Int64Index([84, 216], dtype='int64', name='time')\n",
      "Int64Index([396, 606], dtype='int64', name='time')\n",
      "Int64Index([372], dtype='int64', name='time')\n"
     ]
    },
    {
     "name": "stderr",
     "output_type": "stream",
     "text": [
      "  1%|          | 120/16578 [00:01<03:38, 75.32it/s]"
     ]
    },
    {
     "name": "stdout",
     "output_type": "stream",
     "text": [
      "Int64Index([180, 714], dtype='int64', name='time')\n",
      "Int64Index([456, 558], dtype='int64', name='time')\n",
      "Int64Index([672], dtype='int64', name='time')\n",
      "Int64Index([330, 606], dtype='int64', name='time')\n",
      "Int64Index([474], dtype='int64', name='time')\n",
      "Int64Index([174, 354], dtype='int64', name='time')\n",
      "Int64Index([84, 414], dtype='int64', name='time')\n",
      "Int64Index([324], dtype='int64', name='time')\n",
      "Int64Index([486], dtype='int64', name='time')\n",
      "Int64Index([432], dtype='int64', name='time')\n",
      "Int64Index([], dtype='int64', name='time')\n",
      "Int64Index([90, 552], dtype='int64', name='time')\n",
      "Int64Index([216, 372, 462], dtype='int64', name='time')\n",
      "Int64Index([108, 330], dtype='int64', name='time')\n",
      "Int64Index([456], dtype='int64', name='time')\n",
      "Int64Index([252, 450], dtype='int64', name='time')\n"
     ]
    },
    {
     "name": "stderr",
     "output_type": "stream",
     "text": [
      "  1%|          | 136/16578 [00:01<03:41, 74.23it/s]"
     ]
    },
    {
     "name": "stdout",
     "output_type": "stream",
     "text": [
      "Int64Index([306, 528, 696], dtype='int64', name='time')\n",
      "Int64Index([264, 714], dtype='int64', name='time')\n",
      "Int64Index([372, 420, 612], dtype='int64', name='time')\n",
      "Int64Index([534], dtype='int64', name='time')\n",
      "Int64Index([480, 528], dtype='int64', name='time')\n",
      "Int64Index([714], dtype='int64', name='time')\n",
      "Int64Index([498, 618], dtype='int64', name='time')\n",
      "Int64Index([12, 288], dtype='int64', name='time')\n",
      "Int64Index([336, 408], dtype='int64', name='time')\n",
      "Int64Index([150, 426, 678], dtype='int64', name='time')\n",
      "Int64Index([48, 210, 492, 606], dtype='int64', name='time')\n",
      "Int64Index([306, 408, 642], dtype='int64', name='time')\n",
      "Int64Index([216, 504], dtype='int64', name='time')\n",
      "Int64Index([342, 540, 624], dtype='int64', name='time')\n",
      "Int64Index([48, 498, 660], dtype='int64', name='time')\n"
     ]
    },
    {
     "name": "stderr",
     "output_type": "stream",
     "text": [
      "  1%|          | 152/16578 [00:02<03:39, 74.77it/s]"
     ]
    },
    {
     "name": "stdout",
     "output_type": "stream",
     "text": [
      "Int64Index([114, 270, 378, 618], dtype='int64', name='time')\n",
      "Int64Index([528], dtype='int64', name='time')\n",
      "Int64Index([0], dtype='int64', name='time')\n",
      "Int64Index([138, 546, 684], dtype='int64', name='time')\n",
      "Int64Index([654], dtype='int64', name='time')\n",
      "Int64Index([228, 618], dtype='int64', name='time')\n",
      "Int64Index([72, 540, 654], dtype='int64', name='time')\n",
      "Int64Index([624, 636], dtype='int64', name='time')\n",
      "Int64Index([246, 672], dtype='int64', name='time')\n",
      "Int64Index([468, 708], dtype='int64', name='time')\n",
      "Int64Index([30], dtype='int64', name='time')\n",
      "Int64Index([636], dtype='int64', name='time')\n",
      "Int64Index([594], dtype='int64', name='time')\n",
      "Int64Index([534, 684], dtype='int64', name='time')\n",
      "Int64Index([192], dtype='int64', name='time')\n",
      "Int64Index([84, 516], dtype='int64', name='time')\n"
     ]
    },
    {
     "name": "stderr",
     "output_type": "stream",
     "text": [
      "  1%|          | 168/16578 [00:02<03:41, 74.18it/s]"
     ]
    },
    {
     "name": "stdout",
     "output_type": "stream",
     "text": [
      "Int64Index([402, 510], dtype='int64', name='time')\n",
      "Int64Index([150, 456, 522, 624], dtype='int64', name='time')\n",
      "Int64Index([582], dtype='int64', name='time')\n",
      "Int64Index([612], dtype='int64', name='time')\n",
      "Int64Index([168, 414], dtype='int64', name='time')\n",
      "Int64Index([354, 426, 540], dtype='int64', name='time')\n",
      "Int64Index([276], dtype='int64', name='time')\n",
      "Int64Index([504], dtype='int64', name='time')\n",
      "Int64Index([390, 624], dtype='int64', name='time')\n",
      "Int64Index([516], dtype='int64', name='time')\n",
      "Int64Index([102], dtype='int64', name='time')\n",
      "Int64Index([], dtype='int64', name='time')\n",
      "Int64Index([528, 660], dtype='int64', name='time')\n",
      "Int64Index([474, 546, 576], dtype='int64', name='time')\n",
      "Int64Index([30, 336, 606, 612], dtype='int64', name='time')\n"
     ]
    },
    {
     "name": "stderr",
     "output_type": "stream",
     "text": [
      "  1%|          | 184/16578 [00:02<03:43, 73.49it/s]"
     ]
    },
    {
     "name": "stdout",
     "output_type": "stream",
     "text": [
      "Int64Index([336, 618], dtype='int64', name='time')\n",
      "Int64Index([84, 426, 648], dtype='int64', name='time')\n",
      "Int64Index([534, 630], dtype='int64', name='time')\n",
      "Int64Index([390], dtype='int64', name='time')\n",
      "Int64Index([0, 606], dtype='int64', name='time')\n",
      "Int64Index([180], dtype='int64', name='time')\n",
      "Int64Index([222, 528, 606], dtype='int64', name='time')\n",
      "Int64Index([342, 414], dtype='int64', name='time')\n",
      "Int64Index([426], dtype='int64', name='time')\n",
      "Int64Index([72, 198], dtype='int64', name='time')\n",
      "Int64Index([12, 624], dtype='int64', name='time')\n",
      "Int64Index([168, 492], dtype='int64', name='time')\n",
      "Int64Index([558, 714], dtype='int64', name='time')\n",
      "Int64Index([90, 492, 606], dtype='int64', name='time')\n",
      "Int64Index([48, 444], dtype='int64', name='time')\n",
      "Int64Index([474, 672], dtype='int64', name='time')\n"
     ]
    },
    {
     "name": "stderr",
     "output_type": "stream",
     "text": [
      "  1%|          | 200/16578 [00:02<03:44, 72.91it/s]"
     ]
    },
    {
     "name": "stdout",
     "output_type": "stream",
     "text": [
      "Int64Index([36, 246, 378, 660], dtype='int64', name='time')\n",
      "Int64Index([42, 462, 588], dtype='int64', name='time')\n",
      "Int64Index([258, 600], dtype='int64', name='time')\n",
      "Int64Index([], dtype='int64', name='time')\n",
      "Int64Index([60, 642], dtype='int64', name='time')\n",
      "Int64Index([60, 354, 414], dtype='int64', name='time')\n",
      "Int64Index([270, 504], dtype='int64', name='time')\n",
      "Int64Index([42, 396], dtype='int64', name='time')\n",
      "Int64Index([48, 414, 510], dtype='int64', name='time')\n",
      "Int64Index([384, 534], dtype='int64', name='time')\n",
      "Int64Index([582], dtype='int64', name='time')\n",
      "Int64Index([24, 186], dtype='int64', name='time')\n",
      "Int64Index([6, 546], dtype='int64', name='time')\n",
      "Int64Index([516], dtype='int64', name='time')\n",
      "Int64Index([408, 444], dtype='int64', name='time')\n"
     ]
    },
    {
     "name": "stderr",
     "output_type": "stream",
     "text": [
      "  1%|▏         | 216/16578 [00:02<03:46, 72.15it/s]"
     ]
    },
    {
     "name": "stdout",
     "output_type": "stream",
     "text": [
      "Int64Index([168, 336, 528], dtype='int64', name='time')\n",
      "Int64Index([300, 366, 468], dtype='int64', name='time')\n",
      "Int64Index([540], dtype='int64', name='time')\n",
      "Int64Index([24, 438], dtype='int64', name='time')\n",
      "Int64Index([66, 498, 672], dtype='int64', name='time')\n",
      "Int64Index([48, 462, 510], dtype='int64', name='time')\n",
      "Int64Index([], dtype='int64', name='time')\n",
      "Int64Index([462, 618], dtype='int64', name='time')\n",
      "Int64Index([588], dtype='int64', name='time')\n",
      "Int64Index([414, 660], dtype='int64', name='time')\n",
      "Int64Index([0, 462], dtype='int64', name='time')\n",
      "Int64Index([360, 558], dtype='int64', name='time')\n",
      "Int64Index([192, 552], dtype='int64', name='time')\n",
      "Int64Index([300, 504, 540], dtype='int64', name='time')\n",
      "Int64Index([366], dtype='int64', name='time')\n"
     ]
    },
    {
     "name": "stderr",
     "output_type": "stream",
     "text": [
      "  1%|▏         | 232/16578 [00:03<03:44, 72.67it/s]"
     ]
    },
    {
     "name": "stdout",
     "output_type": "stream",
     "text": [
      "Int64Index([210, 336, 408], dtype='int64', name='time')\n",
      "Int64Index([540, 576], dtype='int64', name='time')\n",
      "Int64Index([0, 696], dtype='int64', name='time')\n",
      "Int64Index([582], dtype='int64', name='time')\n",
      "Int64Index([408, 426, 510, 618], dtype='int64', name='time')\n",
      "Int64Index([54, 186], dtype='int64', name='time')\n",
      "Int64Index([12, 480], dtype='int64', name='time')\n",
      "Int64Index([336, 444], dtype='int64', name='time')\n",
      "Int64Index([198, 336, 654], dtype='int64', name='time')\n",
      "Int64Index([42], dtype='int64', name='time')\n",
      "Int64Index([186, 390], dtype='int64', name='time')\n",
      "Int64Index([210], dtype='int64', name='time')\n",
      "Int64Index([0, 258, 378, 522, 588], dtype='int64', name='time')\n",
      "Int64Index([84, 534], dtype='int64', name='time')\n",
      "Int64Index([348, 492, 636], dtype='int64', name='time')\n"
     ]
    },
    {
     "name": "stderr",
     "output_type": "stream",
     "text": [
      "  1%|▏         | 248/16578 [00:03<03:40, 74.08it/s]"
     ]
    },
    {
     "name": "stdout",
     "output_type": "stream",
     "text": [
      "Int64Index([], dtype='int64', name='time')\n",
      "Int64Index([12, 390, 618], dtype='int64', name='time')\n",
      "Int64Index([18, 600], dtype='int64', name='time')\n",
      "Int64Index([462, 582], dtype='int64', name='time')\n",
      "Int64Index([264, 636, 684], dtype='int64', name='time')\n",
      "Int64Index([72, 582], dtype='int64', name='time')\n",
      "Int64Index([300, 540], dtype='int64', name='time')\n",
      "Int64Index([402], dtype='int64', name='time')\n",
      "Int64Index([258], dtype='int64', name='time')\n",
      "Int64Index([474, 666], dtype='int64', name='time')\n",
      "Int64Index([192, 600], dtype='int64', name='time')\n",
      "Int64Index([186], dtype='int64', name='time')\n",
      "Int64Index([180], dtype='int64', name='time')\n",
      "Int64Index([144, 516], dtype='int64', name='time')\n",
      "Int64Index([102, 174, 432, 528], dtype='int64', name='time')\n",
      "Int64Index([276, 342, 654], dtype='int64', name='time')\n",
      "Int64Index([414, 600], dtype='int64', name='time')\n"
     ]
    },
    {
     "name": "stderr",
     "output_type": "stream",
     "text": [
      "  2%|▏         | 264/16578 [00:03<03:39, 74.25it/s]"
     ]
    },
    {
     "name": "stdout",
     "output_type": "stream",
     "text": [
      "Int64Index([540], dtype='int64', name='time')\n",
      "Int64Index([438], dtype='int64', name='time')\n",
      "Int64Index([210, 480, 576], dtype='int64', name='time')\n",
      "Int64Index([432, 648], dtype='int64', name='time')\n",
      "Int64Index([516], dtype='int64', name='time')\n",
      "Int64Index([126, 516], dtype='int64', name='time')\n",
      "Int64Index([504], dtype='int64', name='time')\n",
      "Int64Index([204, 366], dtype='int64', name='time')\n",
      "Int64Index([456], dtype='int64', name='time')\n",
      "Int64Index([600], dtype='int64', name='time')\n",
      "Int64Index([420, 504], dtype='int64', name='time')\n",
      "Int64Index([240, 420], dtype='int64', name='time')\n",
      "Int64Index([528, 582], dtype='int64', name='time')\n",
      "Int64Index([84], dtype='int64', name='time')\n",
      "Int64Index([36, 234, 384, 444, 522, 600], dtype='int64', name='time')\n"
     ]
    },
    {
     "name": "stderr",
     "output_type": "stream",
     "text": [
      "  2%|▏         | 280/16578 [00:03<03:39, 74.24it/s]"
     ]
    },
    {
     "name": "stdout",
     "output_type": "stream",
     "text": [
      "Int64Index([96, 612, 690], dtype='int64', name='time')\n",
      "Int64Index([48, 666], dtype='int64', name='time')\n",
      "Int64Index([42, 462, 552], dtype='int64', name='time')\n",
      "Int64Index([378, 546], dtype='int64', name='time')\n",
      "Int64Index([594], dtype='int64', name='time')\n",
      "Int64Index([240, 354, 516], dtype='int64', name='time')\n",
      "Int64Index([108, 210], dtype='int64', name='time')\n",
      "Int64Index([84, 180], dtype='int64', name='time')\n",
      "Int64Index([342, 618], dtype='int64', name='time')\n",
      "Int64Index([324], dtype='int64', name='time')\n",
      "Int64Index([72, 600], dtype='int64', name='time')\n",
      "Int64Index([30, 510, 702], dtype='int64', name='time')\n",
      "Int64Index([234, 372, 492], dtype='int64', name='time')\n",
      "Int64Index([12, 186, 408, 618], dtype='int64', name='time')\n",
      "Int64Index([], dtype='int64', name='time')\n",
      "Int64Index([6, 210], dtype='int64', name='time')\n"
     ]
    },
    {
     "name": "stderr",
     "output_type": "stream",
     "text": [
      "  2%|▏         | 296/16578 [00:04<03:37, 74.89it/s]"
     ]
    },
    {
     "name": "stdout",
     "output_type": "stream",
     "text": [
      "Int64Index([], dtype='int64', name='time')\n",
      "Int64Index([192, 234, 516], dtype='int64', name='time')\n",
      "Int64Index([252, 576], dtype='int64', name='time')\n",
      "Int64Index([210, 558, 612], dtype='int64', name='time')\n",
      "Int64Index([510], dtype='int64', name='time')\n",
      "Int64Index([48], dtype='int64', name='time')\n",
      "Int64Index([606], dtype='int64', name='time')\n",
      "Int64Index([168], dtype='int64', name='time')\n",
      "Int64Index([66, 348, 450, 564], dtype='int64', name='time')\n",
      "Int64Index([378, 588], dtype='int64', name='time')\n",
      "Int64Index([66, 354], dtype='int64', name='time')\n",
      "Int64Index([12, 390, 582], dtype='int64', name='time')\n",
      "Int64Index([18, 204], dtype='int64', name='time')\n",
      "Int64Index([210, 618], dtype='int64', name='time')\n",
      "Int64Index([576], dtype='int64', name='time')\n",
      "Int64Index([180, 510, 672], dtype='int64', name='time')\n"
     ]
    },
    {
     "name": "stderr",
     "output_type": "stream",
     "text": [
      "  2%|▏         | 312/16578 [00:04<03:36, 75.01it/s]"
     ]
    },
    {
     "name": "stdout",
     "output_type": "stream",
     "text": [
      "Int64Index([210, 426, 522, 600], dtype='int64', name='time')\n",
      "Int64Index([534], dtype='int64', name='time')\n",
      "Int64Index([78, 198, 558], dtype='int64', name='time')\n",
      "Int64Index([648], dtype='int64', name='time')\n",
      "Int64Index([90], dtype='int64', name='time')\n",
      "Int64Index([174], dtype='int64', name='time')\n",
      "Int64Index([54, 258, 396], dtype='int64', name='time')\n",
      "Int64Index([498, 672], dtype='int64', name='time')\n",
      "Int64Index([300, 372], dtype='int64', name='time')\n",
      "Int64Index([252, 354], dtype='int64', name='time')\n",
      "Int64Index([228, 546, 636], dtype='int64', name='time')\n",
      "Int64Index([234, 516], dtype='int64', name='time')\n",
      "Int64Index([54, 240, 642], dtype='int64', name='time')\n",
      "Int64Index([588], dtype='int64', name='time')\n",
      "Int64Index([552, 696], dtype='int64', name='time')\n",
      "Int64Index([486], dtype='int64', name='time')\n"
     ]
    },
    {
     "name": "stderr",
     "output_type": "stream",
     "text": [
      "  2%|▏         | 328/16578 [00:04<03:36, 75.23it/s]"
     ]
    },
    {
     "name": "stdout",
     "output_type": "stream",
     "text": [
      "Int64Index([636], dtype='int64', name='time')\n",
      "Int64Index([180, 438], dtype='int64', name='time')\n",
      "Int64Index([552], dtype='int64', name='time')\n",
      "Int64Index([498], dtype='int64', name='time')\n",
      "Int64Index([198, 714], dtype='int64', name='time')\n",
      "Int64Index([354, 570], dtype='int64', name='time')\n",
      "Int64Index([276, 462], dtype='int64', name='time')\n",
      "Int64Index([390, 474], dtype='int64', name='time')\n",
      "Int64Index([102, 576], dtype='int64', name='time')\n",
      "Int64Index([], dtype='int64', name='time')\n",
      "Int64Index([300], dtype='int64', name='time')\n",
      "Int64Index([], dtype='int64', name='time')\n",
      "Int64Index([390, 576], dtype='int64', name='time')\n",
      "Int64Index([600], dtype='int64', name='time')\n",
      "Int64Index([480], dtype='int64', name='time')\n",
      "Int64Index([486], dtype='int64', name='time')\n"
     ]
    },
    {
     "name": "stderr",
     "output_type": "stream",
     "text": [
      "  2%|▏         | 344/16578 [00:04<03:36, 75.09it/s]"
     ]
    },
    {
     "name": "stdout",
     "output_type": "stream",
     "text": [
      "Int64Index([414, 618], dtype='int64', name='time')\n",
      "Int64Index([156], dtype='int64', name='time')\n",
      "Int64Index([210, 606], dtype='int64', name='time')\n",
      "Int64Index([390, 450, 510, 588], dtype='int64', name='time')\n",
      "Int64Index([24, 468, 606], dtype='int64', name='time')\n",
      "Int64Index([528, 708], dtype='int64', name='time')\n",
      "Int64Index([324], dtype='int64', name='time')\n",
      "Int64Index([438], dtype='int64', name='time')\n",
      "Int64Index([336, 582], dtype='int64', name='time')\n",
      "Int64Index([228, 516, 558], dtype='int64', name='time')\n",
      "Int64Index([270], dtype='int64', name='time')\n",
      "Int64Index([60, 240, 570], dtype='int64', name='time')\n",
      "Int64Index([102, 522], dtype='int64', name='time')\n",
      "Int64Index([342, 420], dtype='int64', name='time')\n",
      "Int64Index([66], dtype='int64', name='time')\n",
      "Int64Index([696], dtype='int64', name='time')\n"
     ]
    },
    {
     "name": "stderr",
     "output_type": "stream",
     "text": [
      "  2%|▏         | 360/16578 [00:04<03:36, 74.87it/s]"
     ]
    },
    {
     "name": "stdout",
     "output_type": "stream",
     "text": [
      "Int64Index([66, 696], dtype='int64', name='time')\n",
      "Int64Index([30], dtype='int64', name='time')\n",
      "Int64Index([24, 516, 630], dtype='int64', name='time')\n",
      "Int64Index([558], dtype='int64', name='time')\n",
      "Int64Index([240], dtype='int64', name='time')\n",
      "Int64Index([120, 312], dtype='int64', name='time')\n",
      "Int64Index([564, 654], dtype='int64', name='time')\n",
      "Int64Index([66, 534, 648], dtype='int64', name='time')\n",
      "Int64Index([360], dtype='int64', name='time')\n",
      "Int64Index([48, 420, 588], dtype='int64', name='time')\n",
      "Int64Index([102, 390], dtype='int64', name='time')\n",
      "Int64Index([180, 432, 570], dtype='int64', name='time')\n",
      "Int64Index([594], dtype='int64', name='time')\n",
      "Int64Index([192, 378, 450, 618], dtype='int64', name='time')\n",
      "Int64Index([], dtype='int64', name='time')\n",
      "Int64Index([12, 180, 474], dtype='int64', name='time')\n"
     ]
    },
    {
     "name": "stderr",
     "output_type": "stream",
     "text": [
      "  2%|▏         | 376/16578 [00:05<03:36, 74.99it/s]"
     ]
    },
    {
     "name": "stdout",
     "output_type": "stream",
     "text": [
      "Int64Index([186], dtype='int64', name='time')\n",
      "Int64Index([588], dtype='int64', name='time')\n",
      "Int64Index([216, 456], dtype='int64', name='time')\n",
      "Int64Index([], dtype='int64', name='time')\n",
      "Int64Index([450], dtype='int64', name='time')\n",
      "Int64Index([60, 246, 648], dtype='int64', name='time')\n",
      "Int64Index([480, 696], dtype='int64', name='time')\n",
      "Int64Index([402], dtype='int64', name='time')\n",
      "Int64Index([180, 348, 480, 588], dtype='int64', name='time')\n",
      "Int64Index([24, 552], dtype='int64', name='time')\n",
      "Int64Index([426], dtype='int64', name='time')\n",
      "Int64Index([414], dtype='int64', name='time')\n",
      "Int64Index([480, 564, 618], dtype='int64', name='time')\n",
      "Int64Index([210, 408], dtype='int64', name='time')\n",
      "Int64Index([78], dtype='int64', name='time')\n",
      "Int64Index([12, 348, 450], dtype='int64', name='time')\n"
     ]
    },
    {
     "name": "stderr",
     "output_type": "stream",
     "text": [
      "  2%|▏         | 392/16578 [00:05<03:33, 75.86it/s]"
     ]
    },
    {
     "name": "stdout",
     "output_type": "stream",
     "text": [
      "Int64Index([504], dtype='int64', name='time')\n",
      "Int64Index([204], dtype='int64', name='time')\n",
      "Int64Index([318], dtype='int64', name='time')\n",
      "Int64Index([678], dtype='int64', name='time')\n",
      "Int64Index([60, 198, 384, 414, 576], dtype='int64', name='time')\n",
      "Int64Index([516, 624], dtype='int64', name='time')\n",
      "Int64Index([180, 696], dtype='int64', name='time')\n",
      "Int64Index([198], dtype='int64', name='time')\n",
      "Int64Index([], dtype='int64', name='time')\n",
      "Int64Index([342, 474], dtype='int64', name='time')\n",
      "Int64Index([18, 420, 588], dtype='int64', name='time')\n",
      "Int64Index([48, 174, 642], dtype='int64', name='time')\n",
      "Int64Index([456], dtype='int64', name='time')\n",
      "Int64Index([390], dtype='int64', name='time')\n",
      "Int64Index([], dtype='int64', name='time')\n",
      "Int64Index([252, 516], dtype='int64', name='time')\n"
     ]
    },
    {
     "name": "stderr",
     "output_type": "stream",
     "text": [
      "  2%|▏         | 408/16578 [00:05<03:32, 76.02it/s]"
     ]
    },
    {
     "name": "stdout",
     "output_type": "stream",
     "text": [
      "Int64Index([444, 552], dtype='int64', name='time')\n",
      "Int64Index([378, 564, 624], dtype='int64', name='time')\n",
      "Int64Index([180, 552, 576], dtype='int64', name='time')\n",
      "Int64Index([420], dtype='int64', name='time')\n",
      "Int64Index([336], dtype='int64', name='time')\n",
      "Int64Index([108], dtype='int64', name='time')\n",
      "Int64Index([228, 570], dtype='int64', name='time')\n",
      "Int64Index([168, 468], dtype='int64', name='time')\n",
      "Int64Index([], dtype='int64', name='time')\n",
      "Int64Index([444], dtype='int64', name='time')\n",
      "Int64Index([414], dtype='int64', name='time')\n",
      "Int64Index([324], dtype='int64', name='time')\n",
      "Int64Index([420, 540], dtype='int64', name='time')\n",
      "Int64Index([168, 414, 654], dtype='int64', name='time')\n",
      "Int64Index([342], dtype='int64', name='time')\n",
      "Int64Index([624], dtype='int64', name='time')\n"
     ]
    },
    {
     "name": "stderr",
     "output_type": "stream",
     "text": [
      "  3%|▎         | 424/16578 [00:05<03:35, 74.81it/s]"
     ]
    },
    {
     "name": "stdout",
     "output_type": "stream",
     "text": [
      "Int64Index([42, 414, 570, 630], dtype='int64', name='time')\n",
      "Int64Index([438], dtype='int64', name='time')\n",
      "Int64Index([222, 504, 570, 582], dtype='int64', name='time')\n",
      "Int64Index([0, 504], dtype='int64', name='time')\n",
      "Int64Index([102, 528, 600], dtype='int64', name='time')\n",
      "Int64Index([84, 246, 360, 630], dtype='int64', name='time')\n",
      "Int64Index([66, 588], dtype='int64', name='time')\n",
      "Int64Index([414, 462], dtype='int64', name='time')\n",
      "Int64Index([534, 594], dtype='int64', name='time')\n",
      "Int64Index([408], dtype='int64', name='time')\n",
      "Int64Index([144, 498], dtype='int64', name='time')\n",
      "Int64Index([618], dtype='int64', name='time')\n",
      "Int64Index([372, 420], dtype='int64', name='time')\n",
      "Int64Index([546], dtype='int64', name='time')\n",
      "Int64Index([360, 420], dtype='int64', name='time')\n",
      "Int64Index([198, 498, 600], dtype='int64', name='time')\n"
     ]
    },
    {
     "name": "stderr",
     "output_type": "stream",
     "text": [
      "  3%|▎         | 432/16578 [00:05<03:36, 74.41it/s]"
     ]
    },
    {
     "name": "stdout",
     "output_type": "stream",
     "text": [
      "Int64Index([402], dtype='int64', name='time')\n",
      "Int64Index([60, 180, 474], dtype='int64', name='time')\n",
      "Int64Index([288, 516, 678], dtype='int64', name='time')\n",
      "Int64Index([78, 168], dtype='int64', name='time')\n",
      "Int64Index([258, 438], dtype='int64', name='time')\n",
      "Int64Index([522], dtype='int64', name='time')\n",
      "Int64Index([12], dtype='int64', name='time')\n",
      "Int64Index([630], dtype='int64', name='time')\n",
      "Int64Index([456, 546], dtype='int64', name='time')\n",
      "Int64Index([96, 186, 414], dtype='int64', name='time')\n",
      "Int64Index([330], dtype='int64', name='time')\n",
      "Int64Index([72], dtype='int64', name='time')\n",
      "Int64Index([516, 630], dtype='int64', name='time')\n",
      "Int64Index([516], dtype='int64', name='time')\n",
      "Int64Index([258, 672], dtype='int64', name='time')\n"
     ]
    },
    {
     "name": "stderr",
     "output_type": "stream",
     "text": [
      "  3%|▎         | 448/16578 [00:06<03:36, 74.49it/s]"
     ]
    },
    {
     "name": "stdout",
     "output_type": "stream",
     "text": [
      "Int64Index([150, 588], dtype='int64', name='time')\n",
      "Int64Index([168, 354, 426, 690], dtype='int64', name='time')\n",
      "Int64Index([12, 444], dtype='int64', name='time')\n",
      "Int64Index([408], dtype='int64', name='time')\n",
      "Int64Index([], dtype='int64', name='time')\n",
      "Int64Index([444, 534, 594], dtype='int64', name='time')\n",
      "Int64Index([696], dtype='int64', name='time')\n",
      "Int64Index([564], dtype='int64', name='time')\n",
      "Int64Index([378, 534], dtype='int64', name='time')\n",
      "Int64Index([216, 654], dtype='int64', name='time')\n",
      "Int64Index([546], dtype='int64', name='time')\n",
      "Int64Index([258, 432, 504], dtype='int64', name='time')\n",
      "Int64Index([102, 462], dtype='int64', name='time')\n",
      "Int64Index([6, 180, 360, 408, 516], dtype='int64', name='time')\n",
      "Int64Index([42, 552], dtype='int64', name='time')\n",
      "Int64Index([204, 444, 594], dtype='int64', name='time')\n"
     ]
    },
    {
     "name": "stderr",
     "output_type": "stream",
     "text": [
      "  3%|▎         | 464/16578 [00:06<03:36, 74.44it/s]"
     ]
    },
    {
     "name": "stdout",
     "output_type": "stream",
     "text": [
      "Int64Index([504], dtype='int64', name='time')\n",
      "Int64Index([330, 408, 594], dtype='int64', name='time')\n",
      "Int64Index([144], dtype='int64', name='time')\n",
      "Int64Index([246, 588], dtype='int64', name='time')\n",
      "Int64Index([48, 510], dtype='int64', name='time')\n",
      "Int64Index([6, 192, 708], dtype='int64', name='time')\n",
      "Int64Index([216, 360], dtype='int64', name='time')\n",
      "Int64Index([432, 588], dtype='int64', name='time')\n",
      "Int64Index([474, 624], dtype='int64', name='time')\n",
      "Int64Index([90, 168, 354, 444, 522], dtype='int64', name='time')\n",
      "Int64Index([294, 636], dtype='int64', name='time')\n",
      "Int64Index([198, 570], dtype='int64', name='time')\n",
      "Int64Index([168, 684], dtype='int64', name='time')\n",
      "Int64Index([582, 642], dtype='int64', name='time')\n",
      "Int64Index([486, 570, 618], dtype='int64', name='time')\n",
      "Int64Index([240, 342], dtype='int64', name='time')\n"
     ]
    },
    {
     "name": "stderr",
     "output_type": "stream",
     "text": [
      "  3%|▎         | 480/16578 [00:06<03:35, 74.75it/s]"
     ]
    },
    {
     "name": "stdout",
     "output_type": "stream",
     "text": [
      "Int64Index([510], dtype='int64', name='time')\n",
      "Int64Index([216, 390, 654], dtype='int64', name='time')\n",
      "Int64Index([156, 486], dtype='int64', name='time')\n",
      "Int64Index([144], dtype='int64', name='time')\n",
      "Int64Index([], dtype='int64', name='time')\n",
      "Int64Index([198], dtype='int64', name='time')\n",
      "Int64Index([114, 570], dtype='int64', name='time')\n",
      "Int64Index([78, 258, 492], dtype='int64', name='time')\n",
      "Int64Index([372], dtype='int64', name='time')\n",
      "Int64Index([36, 408, 582], dtype='int64', name='time')\n",
      "Int64Index([522], dtype='int64', name='time')\n",
      "Int64Index([486, 522], dtype='int64', name='time')\n",
      "Int64Index([36, 438, 576], dtype='int64', name='time')\n",
      "Int64Index([306, 600], dtype='int64', name='time')\n",
      "Int64Index([60, 324], dtype='int64', name='time')\n",
      "Int64Index([192], dtype='int64', name='time')\n"
     ]
    },
    {
     "name": "stderr",
     "output_type": "stream",
     "text": [
      "  3%|▎         | 496/16578 [00:06<03:35, 74.61it/s]"
     ]
    },
    {
     "name": "stdout",
     "output_type": "stream",
     "text": [
      "Int64Index([90, 504], dtype='int64', name='time')\n",
      "Int64Index([138, 678], dtype='int64', name='time')\n",
      "Int64Index([186, 378], dtype='int64', name='time')\n",
      "Int64Index([360], dtype='int64', name='time')\n",
      "Int64Index([492], dtype='int64', name='time')\n",
      "Int64Index([24, 408, 492], dtype='int64', name='time')\n",
      "Int64Index([198, 552], dtype='int64', name='time')\n",
      "Int64Index([384, 600], dtype='int64', name='time')\n",
      "Int64Index([384, 414], dtype='int64', name='time')\n",
      "Int64Index([150], dtype='int64', name='time')\n",
      "Int64Index([378, 426, 432, 648], dtype='int64', name='time')\n",
      "Int64Index([342, 510], dtype='int64', name='time')\n",
      "Int64Index([576, 642], dtype='int64', name='time')\n",
      "Int64Index([294, 534], dtype='int64', name='time')\n",
      "Int64Index([], dtype='int64', name='time')\n"
     ]
    },
    {
     "name": "stderr",
     "output_type": "stream",
     "text": [
      "  3%|▎         | 512/16578 [00:06<03:37, 74.00it/s]"
     ]
    },
    {
     "name": "stdout",
     "output_type": "stream",
     "text": [
      "Int64Index([234, 390], dtype='int64', name='time')\n",
      "Int64Index([360], dtype='int64', name='time')\n",
      "Int64Index([186, 390, 420], dtype='int64', name='time')\n",
      "Int64Index([438, 600, 636], dtype='int64', name='time')\n",
      "Int64Index([360], dtype='int64', name='time')\n",
      "Int64Index([648], dtype='int64', name='time')\n",
      "Int64Index([624], dtype='int64', name='time')\n",
      "Int64Index([666], dtype='int64', name='time')\n",
      "Int64Index([192, 480], dtype='int64', name='time')\n",
      "Int64Index([288, 564, 672], dtype='int64', name='time')\n",
      "Int64Index([636], dtype='int64', name='time')\n",
      "Int64Index([42], dtype='int64', name='time')\n",
      "Int64Index([342, 564, 606], dtype='int64', name='time')\n",
      "Int64Index([510, 576], dtype='int64', name='time')\n",
      "Int64Index([], dtype='int64', name='time')\n"
     ]
    },
    {
     "name": "stderr",
     "output_type": "stream",
     "text": [
      "  3%|▎         | 528/16578 [00:07<03:46, 71.00it/s]"
     ]
    },
    {
     "name": "stdout",
     "output_type": "stream",
     "text": [
      "Int64Index([252, 594], dtype='int64', name='time')\n",
      "Int64Index([90, 558, 606], dtype='int64', name='time')\n",
      "Int64Index([492, 588], dtype='int64', name='time')\n",
      "Int64Index([0, 180, 456], dtype='int64', name='time')\n",
      "Int64Index([18, 198, 354], dtype='int64', name='time')\n",
      "Int64Index([24], dtype='int64', name='time')\n",
      "Int64Index([510], dtype='int64', name='time')\n",
      "Int64Index([444, 450], dtype='int64', name='time')\n",
      "Int64Index([426, 612], dtype='int64', name='time')\n",
      "Int64Index([], dtype='int64', name='time')\n",
      "Int64Index([216, 444, 522], dtype='int64', name='time')\n",
      "Int64Index([630], dtype='int64', name='time')\n",
      "Int64Index([342, 414], dtype='int64', name='time')\n",
      "Int64Index([504], dtype='int64', name='time')\n"
     ]
    },
    {
     "name": "stderr",
     "output_type": "stream",
     "text": [
      "  3%|▎         | 543/16578 [00:07<03:53, 68.70it/s]"
     ]
    },
    {
     "name": "stdout",
     "output_type": "stream",
     "text": [
      "Int64Index([516, 588], dtype='int64', name='time')\n",
      "Int64Index([282, 420], dtype='int64', name='time')\n",
      "Int64Index([102, 516], dtype='int64', name='time')\n",
      "Int64Index([378], dtype='int64', name='time')\n",
      "Int64Index([252, 402, 546, 660], dtype='int64', name='time')\n",
      "Int64Index([180, 414], dtype='int64', name='time')\n",
      "Int64Index([240, 354, 540], dtype='int64', name='time')\n",
      "Int64Index([498], dtype='int64', name='time')\n",
      "Int64Index([6, 426], dtype='int64', name='time')\n",
      "Int64Index([426], dtype='int64', name='time')\n",
      "Int64Index([450], dtype='int64', name='time')\n",
      "Int64Index([234, 486, 564, 630], dtype='int64', name='time')\n",
      "Int64Index([324, 636], dtype='int64', name='time')\n",
      "Int64Index([132, 498], dtype='int64', name='time')\n"
     ]
    },
    {
     "name": "stderr",
     "output_type": "stream",
     "text": [
      "  3%|▎         | 557/16578 [00:07<03:54, 68.31it/s]"
     ]
    },
    {
     "name": "stdout",
     "output_type": "stream",
     "text": [
      "Int64Index([378, 588], dtype='int64', name='time')\n",
      "Int64Index([462, 684], dtype='int64', name='time')\n",
      "Int64Index([102, 186], dtype='int64', name='time')\n",
      "Int64Index([246], dtype='int64', name='time')\n",
      "Int64Index([492], dtype='int64', name='time')\n",
      "Int64Index([36, 582], dtype='int64', name='time')\n",
      "Int64Index([162, 222], dtype='int64', name='time')\n",
      "Int64Index([198, 468], dtype='int64', name='time')\n",
      "Int64Index([90], dtype='int64', name='time')\n",
      "Int64Index([438], dtype='int64', name='time')\n",
      "Int64Index([456, 630], dtype='int64', name='time')\n",
      "Int64Index([12, 306, 546], dtype='int64', name='time')\n",
      "Int64Index([228, 522, 588], dtype='int64', name='time')\n",
      "Int64Index([300, 708], dtype='int64', name='time')\n",
      "Int64Index([78, 312, 714], dtype='int64', name='time')\n"
     ]
    },
    {
     "name": "stderr",
     "output_type": "stream",
     "text": [
      "  3%|▎         | 574/16578 [00:07<03:38, 73.23it/s]"
     ]
    },
    {
     "name": "stdout",
     "output_type": "stream",
     "text": [
      "Int64Index([516], dtype='int64', name='time')\n",
      "Int64Index([264, 342], dtype='int64', name='time')\n",
      "Int64Index([204], dtype='int64', name='time')\n",
      "Int64Index([246], dtype='int64', name='time')\n",
      "Int64Index([444, 510, 618], dtype='int64', name='time')\n",
      "Int64Index([438], dtype='int64', name='time')\n",
      "Int64Index([546], dtype='int64', name='time')\n",
      "Int64Index([12, 528], dtype='int64', name='time')\n",
      "Int64Index([690], dtype='int64', name='time')\n",
      "Int64Index([], dtype='int64', name='time')\n",
      "Int64Index([540], dtype='int64', name='time')\n",
      "Int64Index([366, 576], dtype='int64', name='time')\n",
      "Int64Index([432, 576], dtype='int64', name='time')\n",
      "Int64Index([420], dtype='int64', name='time')\n"
     ]
    },
    {
     "name": "stderr",
     "output_type": "stream",
     "text": [
      "\n"
     ]
    },
    {
     "ename": "KeyboardInterrupt",
     "evalue": "",
     "output_type": "error",
     "traceback": [
      "\u001b[0;31m---------------------------------------------------------------------------\u001b[0m",
      "\u001b[0;31mKeyboardInterrupt\u001b[0m                         Traceback (most recent call last)",
      "\u001b[0;32m<ipython-input-19-6278572caaa8>\u001b[0m in \u001b[0;36m<module>\u001b[0;34m\u001b[0m\n\u001b[1;32m      2\u001b[0m \u001b[0;32mfor\u001b[0m \u001b[0mcustomer\u001b[0m \u001b[0;32min\u001b[0m \u001b[0mtqdm\u001b[0m\u001b[0;34m(\u001b[0m\u001b[0mcustomers\u001b[0m\u001b[0;34m)\u001b[0m\u001b[0;34m:\u001b[0m\u001b[0;34m\u001b[0m\u001b[0;34m\u001b[0m\u001b[0m\n\u001b[1;32m      3\u001b[0m     \u001b[0mtemp\u001b[0m \u001b[0;34m=\u001b[0m \u001b[0mdf\u001b[0m\u001b[0;34m.\u001b[0m\u001b[0mquery\u001b[0m\u001b[0;34m(\u001b[0m\u001b[0;34m'person_id == @customer'\u001b[0m\u001b[0;34m)\u001b[0m\u001b[0;34m\u001b[0m\u001b[0;34m\u001b[0m\u001b[0m\n\u001b[0;32m----> 4\u001b[0;31m     \u001b[0midx\u001b[0m \u001b[0;34m=\u001b[0m \u001b[0mtemp\u001b[0m\u001b[0;34m.\u001b[0m\u001b[0mgroupby\u001b[0m\u001b[0;34m(\u001b[0m\u001b[0;34m'time'\u001b[0m\u001b[0;34m)\u001b[0m\u001b[0;34m.\u001b[0m\u001b[0msum\u001b[0m\u001b[0;34m(\u001b[0m\u001b[0;34m)\u001b[0m\u001b[0;34m.\u001b[0m\u001b[0mquery\u001b[0m\u001b[0;34m(\u001b[0m\u001b[0;34m'amount > 0 and completed == 1'\u001b[0m\u001b[0;34m)\u001b[0m\u001b[0;34m.\u001b[0m\u001b[0mindex\u001b[0m\u001b[0;34m\u001b[0m\u001b[0;34m\u001b[0m\u001b[0m\n\u001b[0m\u001b[1;32m      5\u001b[0m     \u001b[0mprint\u001b[0m\u001b[0;34m(\u001b[0m\u001b[0midx\u001b[0m\u001b[0;34m)\u001b[0m\u001b[0;34m\u001b[0m\u001b[0;34m\u001b[0m\u001b[0m\n\u001b[1;32m      6\u001b[0m     \u001b[0;31m#temp = temp[temp.time.isin(idx)].query('received != 1')\u001b[0m\u001b[0;34m\u001b[0m\u001b[0;34m\u001b[0m\u001b[0;34m\u001b[0m\u001b[0m\n",
      "\u001b[0;32m~/anaconda3/envs/python3/lib/python3.6/site-packages/pandas/core/frame.py\u001b[0m in \u001b[0;36mquery\u001b[0;34m(self, expr, inplace, **kwargs)\u001b[0m\n\u001b[1;32m   3343\u001b[0m         \u001b[0mkwargs\u001b[0m\u001b[0;34m[\u001b[0m\u001b[0;34m\"level\"\u001b[0m\u001b[0;34m]\u001b[0m \u001b[0;34m=\u001b[0m \u001b[0mkwargs\u001b[0m\u001b[0;34m.\u001b[0m\u001b[0mpop\u001b[0m\u001b[0;34m(\u001b[0m\u001b[0;34m\"level\"\u001b[0m\u001b[0;34m,\u001b[0m \u001b[0;36m0\u001b[0m\u001b[0;34m)\u001b[0m \u001b[0;34m+\u001b[0m \u001b[0;36m1\u001b[0m\u001b[0;34m\u001b[0m\u001b[0;34m\u001b[0m\u001b[0m\n\u001b[1;32m   3344\u001b[0m         \u001b[0mkwargs\u001b[0m\u001b[0;34m[\u001b[0m\u001b[0;34m\"target\"\u001b[0m\u001b[0;34m]\u001b[0m \u001b[0;34m=\u001b[0m \u001b[0;32mNone\u001b[0m\u001b[0;34m\u001b[0m\u001b[0;34m\u001b[0m\u001b[0m\n\u001b[0;32m-> 3345\u001b[0;31m         \u001b[0mres\u001b[0m \u001b[0;34m=\u001b[0m \u001b[0mself\u001b[0m\u001b[0;34m.\u001b[0m\u001b[0meval\u001b[0m\u001b[0;34m(\u001b[0m\u001b[0mexpr\u001b[0m\u001b[0;34m,\u001b[0m \u001b[0;34m**\u001b[0m\u001b[0mkwargs\u001b[0m\u001b[0;34m)\u001b[0m\u001b[0;34m\u001b[0m\u001b[0;34m\u001b[0m\u001b[0m\n\u001b[0m\u001b[1;32m   3346\u001b[0m \u001b[0;34m\u001b[0m\u001b[0m\n\u001b[1;32m   3347\u001b[0m         \u001b[0;32mtry\u001b[0m\u001b[0;34m:\u001b[0m\u001b[0;34m\u001b[0m\u001b[0;34m\u001b[0m\u001b[0m\n",
      "\u001b[0;32m~/anaconda3/envs/python3/lib/python3.6/site-packages/pandas/core/frame.py\u001b[0m in \u001b[0;36meval\u001b[0;34m(self, expr, inplace, **kwargs)\u001b[0m\n\u001b[1;32m   3467\u001b[0m         \u001b[0;32mif\u001b[0m \u001b[0mresolvers\u001b[0m \u001b[0;32mis\u001b[0m \u001b[0;32mNone\u001b[0m\u001b[0;34m:\u001b[0m\u001b[0;34m\u001b[0m\u001b[0;34m\u001b[0m\u001b[0m\n\u001b[1;32m   3468\u001b[0m             \u001b[0mindex_resolvers\u001b[0m \u001b[0;34m=\u001b[0m \u001b[0mself\u001b[0m\u001b[0;34m.\u001b[0m\u001b[0m_get_index_resolvers\u001b[0m\u001b[0;34m(\u001b[0m\u001b[0;34m)\u001b[0m\u001b[0;34m\u001b[0m\u001b[0;34m\u001b[0m\u001b[0m\n\u001b[0;32m-> 3469\u001b[0;31m             \u001b[0mcolumn_resolvers\u001b[0m \u001b[0;34m=\u001b[0m \u001b[0mself\u001b[0m\u001b[0;34m.\u001b[0m\u001b[0m_get_cleaned_column_resolvers\u001b[0m\u001b[0;34m(\u001b[0m\u001b[0;34m)\u001b[0m\u001b[0;34m\u001b[0m\u001b[0;34m\u001b[0m\u001b[0m\n\u001b[0m\u001b[1;32m   3470\u001b[0m             \u001b[0mresolvers\u001b[0m \u001b[0;34m=\u001b[0m \u001b[0mcolumn_resolvers\u001b[0m\u001b[0;34m,\u001b[0m \u001b[0mindex_resolvers\u001b[0m\u001b[0;34m\u001b[0m\u001b[0;34m\u001b[0m\u001b[0m\n\u001b[1;32m   3471\u001b[0m         \u001b[0;32mif\u001b[0m \u001b[0;34m\"target\"\u001b[0m \u001b[0;32mnot\u001b[0m \u001b[0;32min\u001b[0m \u001b[0mkwargs\u001b[0m\u001b[0;34m:\u001b[0m\u001b[0;34m\u001b[0m\u001b[0;34m\u001b[0m\u001b[0m\n",
      "\u001b[0;32m~/anaconda3/envs/python3/lib/python3.6/site-packages/pandas/core/generic.py\u001b[0m in \u001b[0;36m_get_cleaned_column_resolvers\u001b[0;34m(self)\u001b[0m\n\u001b[1;32m    442\u001b[0m \u001b[0;34m\u001b[0m\u001b[0m\n\u001b[1;32m    443\u001b[0m         return {\n\u001b[0;32m--> 444\u001b[0;31m             \u001b[0mclean_column_name\u001b[0m\u001b[0;34m(\u001b[0m\u001b[0mk\u001b[0m\u001b[0;34m)\u001b[0m\u001b[0;34m:\u001b[0m \u001b[0mv\u001b[0m \u001b[0;32mfor\u001b[0m \u001b[0mk\u001b[0m\u001b[0;34m,\u001b[0m \u001b[0mv\u001b[0m \u001b[0;32min\u001b[0m \u001b[0mself\u001b[0m\u001b[0;34m.\u001b[0m\u001b[0mitems\u001b[0m\u001b[0;34m(\u001b[0m\u001b[0;34m)\u001b[0m \u001b[0;32mif\u001b[0m \u001b[0;32mnot\u001b[0m \u001b[0misinstance\u001b[0m\u001b[0;34m(\u001b[0m\u001b[0mk\u001b[0m\u001b[0;34m,\u001b[0m \u001b[0mint\u001b[0m\u001b[0;34m)\u001b[0m\u001b[0;34m\u001b[0m\u001b[0;34m\u001b[0m\u001b[0m\n\u001b[0m\u001b[1;32m    445\u001b[0m         }\n\u001b[1;32m    446\u001b[0m \u001b[0;34m\u001b[0m\u001b[0m\n",
      "\u001b[0;32m~/anaconda3/envs/python3/lib/python3.6/site-packages/pandas/core/generic.py\u001b[0m in \u001b[0;36m<dictcomp>\u001b[0;34m(.0)\u001b[0m\n\u001b[1;32m    441\u001b[0m             \u001b[0;32mreturn\u001b[0m \u001b[0;34m{\u001b[0m\u001b[0mclean_column_name\u001b[0m\u001b[0;34m(\u001b[0m\u001b[0mself\u001b[0m\u001b[0;34m.\u001b[0m\u001b[0mname\u001b[0m\u001b[0;34m)\u001b[0m\u001b[0;34m:\u001b[0m \u001b[0mself\u001b[0m\u001b[0;34m}\u001b[0m\u001b[0;34m\u001b[0m\u001b[0;34m\u001b[0m\u001b[0m\n\u001b[1;32m    442\u001b[0m \u001b[0;34m\u001b[0m\u001b[0m\n\u001b[0;32m--> 443\u001b[0;31m         return {\n\u001b[0m\u001b[1;32m    444\u001b[0m             \u001b[0mclean_column_name\u001b[0m\u001b[0;34m(\u001b[0m\u001b[0mk\u001b[0m\u001b[0;34m)\u001b[0m\u001b[0;34m:\u001b[0m \u001b[0mv\u001b[0m \u001b[0;32mfor\u001b[0m \u001b[0mk\u001b[0m\u001b[0;34m,\u001b[0m \u001b[0mv\u001b[0m \u001b[0;32min\u001b[0m \u001b[0mself\u001b[0m\u001b[0;34m.\u001b[0m\u001b[0mitems\u001b[0m\u001b[0;34m(\u001b[0m\u001b[0;34m)\u001b[0m \u001b[0;32mif\u001b[0m \u001b[0;32mnot\u001b[0m \u001b[0misinstance\u001b[0m\u001b[0;34m(\u001b[0m\u001b[0mk\u001b[0m\u001b[0;34m,\u001b[0m \u001b[0mint\u001b[0m\u001b[0;34m)\u001b[0m\u001b[0;34m\u001b[0m\u001b[0;34m\u001b[0m\u001b[0m\n\u001b[1;32m    445\u001b[0m         }\n",
      "\u001b[0;32m~/anaconda3/envs/python3/lib/python3.6/site-packages/pandas/core/frame.py\u001b[0m in \u001b[0;36mitems\u001b[0;34m(self)\u001b[0m\n\u001b[1;32m    955\u001b[0m         \u001b[0;32mif\u001b[0m \u001b[0mself\u001b[0m\u001b[0;34m.\u001b[0m\u001b[0mcolumns\u001b[0m\u001b[0;34m.\u001b[0m\u001b[0mis_unique\u001b[0m \u001b[0;32mand\u001b[0m \u001b[0mhasattr\u001b[0m\u001b[0;34m(\u001b[0m\u001b[0mself\u001b[0m\u001b[0;34m,\u001b[0m \u001b[0;34m\"_item_cache\"\u001b[0m\u001b[0;34m)\u001b[0m\u001b[0;34m:\u001b[0m\u001b[0;34m\u001b[0m\u001b[0;34m\u001b[0m\u001b[0m\n\u001b[1;32m    956\u001b[0m             \u001b[0;32mfor\u001b[0m \u001b[0mk\u001b[0m \u001b[0;32min\u001b[0m \u001b[0mself\u001b[0m\u001b[0;34m.\u001b[0m\u001b[0mcolumns\u001b[0m\u001b[0;34m:\u001b[0m\u001b[0;34m\u001b[0m\u001b[0;34m\u001b[0m\u001b[0m\n\u001b[0;32m--> 957\u001b[0;31m                 \u001b[0;32myield\u001b[0m \u001b[0mk\u001b[0m\u001b[0;34m,\u001b[0m \u001b[0mself\u001b[0m\u001b[0;34m.\u001b[0m\u001b[0m_get_item_cache\u001b[0m\u001b[0;34m(\u001b[0m\u001b[0mk\u001b[0m\u001b[0;34m)\u001b[0m\u001b[0;34m\u001b[0m\u001b[0;34m\u001b[0m\u001b[0m\n\u001b[0m\u001b[1;32m    958\u001b[0m         \u001b[0;32melse\u001b[0m\u001b[0;34m:\u001b[0m\u001b[0;34m\u001b[0m\u001b[0;34m\u001b[0m\u001b[0m\n\u001b[1;32m    959\u001b[0m             \u001b[0;32mfor\u001b[0m \u001b[0mi\u001b[0m\u001b[0;34m,\u001b[0m \u001b[0mk\u001b[0m \u001b[0;32min\u001b[0m \u001b[0menumerate\u001b[0m\u001b[0;34m(\u001b[0m\u001b[0mself\u001b[0m\u001b[0;34m.\u001b[0m\u001b[0mcolumns\u001b[0m\u001b[0;34m)\u001b[0m\u001b[0;34m:\u001b[0m\u001b[0;34m\u001b[0m\u001b[0;34m\u001b[0m\u001b[0m\n",
      "\u001b[0;32m~/anaconda3/envs/python3/lib/python3.6/site-packages/pandas/core/generic.py\u001b[0m in \u001b[0;36m_get_item_cache\u001b[0;34m(self, item)\u001b[0m\n\u001b[1;32m   3545\u001b[0m \u001b[0;34m\u001b[0m\u001b[0m\n\u001b[1;32m   3546\u001b[0m             \u001b[0mcache\u001b[0m\u001b[0;34m[\u001b[0m\u001b[0mitem\u001b[0m\u001b[0;34m]\u001b[0m \u001b[0;34m=\u001b[0m \u001b[0mres\u001b[0m\u001b[0;34m\u001b[0m\u001b[0;34m\u001b[0m\u001b[0m\n\u001b[0;32m-> 3547\u001b[0;31m             \u001b[0mres\u001b[0m\u001b[0;34m.\u001b[0m\u001b[0m_set_as_cached\u001b[0m\u001b[0;34m(\u001b[0m\u001b[0mitem\u001b[0m\u001b[0;34m,\u001b[0m \u001b[0mself\u001b[0m\u001b[0;34m)\u001b[0m\u001b[0;34m\u001b[0m\u001b[0;34m\u001b[0m\u001b[0m\n\u001b[0m\u001b[1;32m   3548\u001b[0m \u001b[0;34m\u001b[0m\u001b[0m\n\u001b[1;32m   3549\u001b[0m             \u001b[0;31m# for a chain\u001b[0m\u001b[0;34m\u001b[0m\u001b[0;34m\u001b[0m\u001b[0;34m\u001b[0m\u001b[0m\n",
      "\u001b[0;32m~/anaconda3/envs/python3/lib/python3.6/site-packages/pandas/core/generic.py\u001b[0m in \u001b[0;36m_set_as_cached\u001b[0;34m(self, item, cacher)\u001b[0m\n\u001b[1;32m   3183\u001b[0m         \u001b[0mcacher\u001b[0m\u001b[0;34m.\u001b[0m\u001b[0;34m\u001b[0m\u001b[0;34m\u001b[0m\u001b[0m\n\u001b[1;32m   3184\u001b[0m         \"\"\"\n\u001b[0;32m-> 3185\u001b[0;31m         \u001b[0mself\u001b[0m\u001b[0;34m.\u001b[0m\u001b[0m_cacher\u001b[0m \u001b[0;34m=\u001b[0m \u001b[0;34m(\u001b[0m\u001b[0mitem\u001b[0m\u001b[0;34m,\u001b[0m \u001b[0mweakref\u001b[0m\u001b[0;34m.\u001b[0m\u001b[0mref\u001b[0m\u001b[0;34m(\u001b[0m\u001b[0mcacher\u001b[0m\u001b[0;34m)\u001b[0m\u001b[0;34m)\u001b[0m\u001b[0;34m\u001b[0m\u001b[0;34m\u001b[0m\u001b[0m\n\u001b[0m\u001b[1;32m   3186\u001b[0m \u001b[0;34m\u001b[0m\u001b[0m\n\u001b[1;32m   3187\u001b[0m     \u001b[0;32mdef\u001b[0m \u001b[0m_reset_cacher\u001b[0m\u001b[0;34m(\u001b[0m\u001b[0mself\u001b[0m\u001b[0;34m)\u001b[0m \u001b[0;34m->\u001b[0m \u001b[0;32mNone\u001b[0m\u001b[0;34m:\u001b[0m\u001b[0;34m\u001b[0m\u001b[0;34m\u001b[0m\u001b[0m\n",
      "\u001b[0;32m~/anaconda3/envs/python3/lib/python3.6/site-packages/pandas/core/generic.py\u001b[0m in \u001b[0;36m__setattr__\u001b[0;34m(self, name, value)\u001b[0m\n\u001b[1;32m   5159\u001b[0m         \u001b[0;31m# (note that this matches __getattr__, above).\u001b[0m\u001b[0;34m\u001b[0m\u001b[0;34m\u001b[0m\u001b[0;34m\u001b[0m\u001b[0m\n\u001b[1;32m   5160\u001b[0m         \u001b[0;32mif\u001b[0m \u001b[0mname\u001b[0m \u001b[0;32min\u001b[0m \u001b[0mself\u001b[0m\u001b[0;34m.\u001b[0m\u001b[0m_internal_names_set\u001b[0m\u001b[0;34m:\u001b[0m\u001b[0;34m\u001b[0m\u001b[0;34m\u001b[0m\u001b[0m\n\u001b[0;32m-> 5161\u001b[0;31m             \u001b[0mobject\u001b[0m\u001b[0;34m.\u001b[0m\u001b[0m__setattr__\u001b[0m\u001b[0;34m(\u001b[0m\u001b[0mself\u001b[0m\u001b[0;34m,\u001b[0m \u001b[0mname\u001b[0m\u001b[0;34m,\u001b[0m \u001b[0mvalue\u001b[0m\u001b[0;34m)\u001b[0m\u001b[0;34m\u001b[0m\u001b[0;34m\u001b[0m\u001b[0m\n\u001b[0m\u001b[1;32m   5162\u001b[0m         \u001b[0;32melif\u001b[0m \u001b[0mname\u001b[0m \u001b[0;32min\u001b[0m \u001b[0mself\u001b[0m\u001b[0;34m.\u001b[0m\u001b[0m_metadata\u001b[0m\u001b[0;34m:\u001b[0m\u001b[0;34m\u001b[0m\u001b[0;34m\u001b[0m\u001b[0m\n\u001b[1;32m   5163\u001b[0m             \u001b[0mobject\u001b[0m\u001b[0;34m.\u001b[0m\u001b[0m__setattr__\u001b[0m\u001b[0;34m(\u001b[0m\u001b[0mself\u001b[0m\u001b[0;34m,\u001b[0m \u001b[0mname\u001b[0m\u001b[0;34m,\u001b[0m \u001b[0mvalue\u001b[0m\u001b[0;34m)\u001b[0m\u001b[0;34m\u001b[0m\u001b[0;34m\u001b[0m\u001b[0m\n",
      "\u001b[0;31mKeyboardInterrupt\u001b[0m: "
     ]
    }
   ],
   "source": [
    "cleaned = pd.DataFrame()\n",
    "for customer in tqdm(customers):\n",
    "    temp = df.query('person_id == @customer')\n",
    "    idx = temp.groupby('time').sum().query('amount > 0 and completed == 1').index\n",
    "    print(idx)\n",
    "    #temp = temp[temp.time.isin(idx)].query('received != 1')\n",
    "    #temp['person_id'] = customer\n",
    "    #cleaned = pd.concat([cleaned, temp], axis=1)"
   ]
  },
  {
   "cell_type": "code",
   "execution_count": 66,
   "id": "de3fee8e",
   "metadata": {},
   "outputs": [
    {
     "data": {
      "text/html": [
       "<div>\n",
       "<style scoped>\n",
       "    .dataframe tbody tr th:only-of-type {\n",
       "        vertical-align: middle;\n",
       "    }\n",
       "\n",
       "    .dataframe tbody tr th {\n",
       "        vertical-align: top;\n",
       "    }\n",
       "\n",
       "    .dataframe thead th {\n",
       "        text-align: right;\n",
       "    }\n",
       "</style>\n",
       "<table border=\"1\" class=\"dataframe\">\n",
       "  <thead>\n",
       "    <tr style=\"text-align: right;\">\n",
       "      <th></th>\n",
       "      <th>gender</th>\n",
       "      <th>age</th>\n",
       "      <th>time</th>\n",
       "      <th>received</th>\n",
       "      <th>viewed</th>\n",
       "      <th>completed</th>\n",
       "      <th>transaction</th>\n",
       "      <th>amount</th>\n",
       "      <th>offer_type</th>\n",
       "      <th>ticks</th>\n",
       "      <th>validity</th>\n",
       "    </tr>\n",
       "  </thead>\n",
       "  <tbody>\n",
       "    <tr>\n",
       "      <th>60155</th>\n",
       "      <td>M</td>\n",
       "      <td>33.0</td>\n",
       "      <td>228</td>\n",
       "      <td>0</td>\n",
       "      <td>0</td>\n",
       "      <td>0</td>\n",
       "      <td>1</td>\n",
       "      <td>22.16</td>\n",
       "      <td>NaN</td>\n",
       "      <td>NaN</td>\n",
       "      <td>NaN</td>\n",
       "    </tr>\n",
       "    <tr>\n",
       "      <th>60156</th>\n",
       "      <td>M</td>\n",
       "      <td>33.0</td>\n",
       "      <td>414</td>\n",
       "      <td>0</td>\n",
       "      <td>0</td>\n",
       "      <td>0</td>\n",
       "      <td>1</td>\n",
       "      <td>8.57</td>\n",
       "      <td>NaN</td>\n",
       "      <td>NaN</td>\n",
       "      <td>NaN</td>\n",
       "    </tr>\n",
       "    <tr>\n",
       "      <th>172997</th>\n",
       "      <td>M</td>\n",
       "      <td>33.0</td>\n",
       "      <td>504</td>\n",
       "      <td>1</td>\n",
       "      <td>0</td>\n",
       "      <td>0</td>\n",
       "      <td>0</td>\n",
       "      <td>NaN</td>\n",
       "      <td>discount</td>\n",
       "      <td>discount_2_10_10</td>\n",
       "      <td>744.0</td>\n",
       "    </tr>\n",
       "    <tr>\n",
       "      <th>60157</th>\n",
       "      <td>M</td>\n",
       "      <td>33.0</td>\n",
       "      <td>528</td>\n",
       "      <td>0</td>\n",
       "      <td>0</td>\n",
       "      <td>0</td>\n",
       "      <td>1</td>\n",
       "      <td>14.11</td>\n",
       "      <td>NaN</td>\n",
       "      <td>NaN</td>\n",
       "      <td>NaN</td>\n",
       "    </tr>\n",
       "    <tr>\n",
       "      <th>172998</th>\n",
       "      <td>M</td>\n",
       "      <td>33.0</td>\n",
       "      <td>528</td>\n",
       "      <td>0</td>\n",
       "      <td>0</td>\n",
       "      <td>1</td>\n",
       "      <td>0</td>\n",
       "      <td>NaN</td>\n",
       "      <td>discount</td>\n",
       "      <td>discount_2_10_10</td>\n",
       "      <td>768.0</td>\n",
       "    </tr>\n",
       "    <tr>\n",
       "      <th>172999</th>\n",
       "      <td>M</td>\n",
       "      <td>33.0</td>\n",
       "      <td>540</td>\n",
       "      <td>0</td>\n",
       "      <td>1</td>\n",
       "      <td>0</td>\n",
       "      <td>0</td>\n",
       "      <td>NaN</td>\n",
       "      <td>discount</td>\n",
       "      <td>discount_2_10_10</td>\n",
       "      <td>780.0</td>\n",
       "    </tr>\n",
       "    <tr>\n",
       "      <th>60158</th>\n",
       "      <td>M</td>\n",
       "      <td>33.0</td>\n",
       "      <td>552</td>\n",
       "      <td>0</td>\n",
       "      <td>0</td>\n",
       "      <td>0</td>\n",
       "      <td>1</td>\n",
       "      <td>13.56</td>\n",
       "      <td>NaN</td>\n",
       "      <td>NaN</td>\n",
       "      <td>NaN</td>\n",
       "    </tr>\n",
       "    <tr>\n",
       "      <th>3526</th>\n",
       "      <td>M</td>\n",
       "      <td>33.0</td>\n",
       "      <td>576</td>\n",
       "      <td>1</td>\n",
       "      <td>0</td>\n",
       "      <td>0</td>\n",
       "      <td>0</td>\n",
       "      <td>NaN</td>\n",
       "      <td>discount</td>\n",
       "      <td>discount_2_10_7</td>\n",
       "      <td>744.0</td>\n",
       "    </tr>\n",
       "    <tr>\n",
       "      <th>3527</th>\n",
       "      <td>M</td>\n",
       "      <td>33.0</td>\n",
       "      <td>576</td>\n",
       "      <td>0</td>\n",
       "      <td>0</td>\n",
       "      <td>1</td>\n",
       "      <td>0</td>\n",
       "      <td>NaN</td>\n",
       "      <td>discount</td>\n",
       "      <td>discount_2_10_7</td>\n",
       "      <td>744.0</td>\n",
       "    </tr>\n",
       "    <tr>\n",
       "      <th>60159</th>\n",
       "      <td>M</td>\n",
       "      <td>33.0</td>\n",
       "      <td>576</td>\n",
       "      <td>0</td>\n",
       "      <td>0</td>\n",
       "      <td>0</td>\n",
       "      <td>1</td>\n",
       "      <td>10.27</td>\n",
       "      <td>NaN</td>\n",
       "      <td>NaN</td>\n",
       "      <td>NaN</td>\n",
       "    </tr>\n",
       "    <tr>\n",
       "      <th>60160</th>\n",
       "      <td>M</td>\n",
       "      <td>33.0</td>\n",
       "      <td>660</td>\n",
       "      <td>0</td>\n",
       "      <td>0</td>\n",
       "      <td>0</td>\n",
       "      <td>1</td>\n",
       "      <td>12.36</td>\n",
       "      <td>NaN</td>\n",
       "      <td>NaN</td>\n",
       "      <td>NaN</td>\n",
       "    </tr>\n",
       "    <tr>\n",
       "      <th>60161</th>\n",
       "      <td>M</td>\n",
       "      <td>33.0</td>\n",
       "      <td>690</td>\n",
       "      <td>0</td>\n",
       "      <td>0</td>\n",
       "      <td>0</td>\n",
       "      <td>1</td>\n",
       "      <td>28.16</td>\n",
       "      <td>NaN</td>\n",
       "      <td>NaN</td>\n",
       "      <td>NaN</td>\n",
       "    </tr>\n",
       "    <tr>\n",
       "      <th>60162</th>\n",
       "      <td>M</td>\n",
       "      <td>33.0</td>\n",
       "      <td>696</td>\n",
       "      <td>0</td>\n",
       "      <td>0</td>\n",
       "      <td>0</td>\n",
       "      <td>1</td>\n",
       "      <td>18.41</td>\n",
       "      <td>NaN</td>\n",
       "      <td>NaN</td>\n",
       "      <td>NaN</td>\n",
       "    </tr>\n",
       "  </tbody>\n",
       "</table>\n",
       "</div>"
      ],
      "text/plain": [
       "       gender   age  time  received  viewed  completed  transaction  amount  \\\n",
       "60155       M  33.0   228         0       0          0            1   22.16   \n",
       "60156       M  33.0   414         0       0          0            1    8.57   \n",
       "172997      M  33.0   504         1       0          0            0     NaN   \n",
       "60157       M  33.0   528         0       0          0            1   14.11   \n",
       "172998      M  33.0   528         0       0          1            0     NaN   \n",
       "172999      M  33.0   540         0       1          0            0     NaN   \n",
       "60158       M  33.0   552         0       0          0            1   13.56   \n",
       "3526        M  33.0   576         1       0          0            0     NaN   \n",
       "3527        M  33.0   576         0       0          1            0     NaN   \n",
       "60159       M  33.0   576         0       0          0            1   10.27   \n",
       "60160       M  33.0   660         0       0          0            1   12.36   \n",
       "60161       M  33.0   690         0       0          0            1   28.16   \n",
       "60162       M  33.0   696         0       0          0            1   18.41   \n",
       "\n",
       "       offer_type             ticks  validity  \n",
       "60155         NaN               NaN       NaN  \n",
       "60156         NaN               NaN       NaN  \n",
       "172997   discount  discount_2_10_10     744.0  \n",
       "60157         NaN               NaN       NaN  \n",
       "172998   discount  discount_2_10_10     768.0  \n",
       "172999   discount  discount_2_10_10     780.0  \n",
       "60158         NaN               NaN       NaN  \n",
       "3526     discount   discount_2_10_7     744.0  \n",
       "3527     discount   discount_2_10_7     744.0  \n",
       "60159         NaN               NaN       NaN  \n",
       "60160         NaN               NaN       NaN  \n",
       "60161         NaN               NaN       NaN  \n",
       "60162         NaN               NaN       NaN  "
      ]
     },
     "execution_count": 66,
     "metadata": {},
     "output_type": "execute_result"
    }
   ],
   "source": [
    "columns = ['gender', 'age', 'time', 'received', 'viewed', 'completed', 'transaction', 'amount','offer_type', 'ticks', 'validity']\n",
    "df = full_df.sort_values(by=['person_id', 'time']).query('person_id == \"0009655768c64bdeb2e877511632db8f\"').loc[:,columns]\n",
    "transaction = df.query('transaction == 1')\n",
    "time_frame = transaction.time.max() - transaction.time.min()\n",
    "total_amount = transaction.amount.sum()\n",
    "\n",
    "discount_transaction = df.query('offer_type == \"discount\" or transaction == 1')\n",
    "discount_transaction"
   ]
  },
  {
   "cell_type": "code",
   "execution_count": 73,
   "id": "bc5353de",
   "metadata": {},
   "outputs": [],
   "source": [
    "idx = discount_transaction.groupby('time').sum().query('amount > 0 and completed == 1').index\n"
   ]
  },
  {
   "cell_type": "code",
   "execution_count": 76,
   "id": "0f1d6ae8",
   "metadata": {},
   "outputs": [
    {
     "data": {
      "text/html": [
       "<div>\n",
       "<style scoped>\n",
       "    .dataframe tbody tr th:only-of-type {\n",
       "        vertical-align: middle;\n",
       "    }\n",
       "\n",
       "    .dataframe tbody tr th {\n",
       "        vertical-align: top;\n",
       "    }\n",
       "\n",
       "    .dataframe thead th {\n",
       "        text-align: right;\n",
       "    }\n",
       "</style>\n",
       "<table border=\"1\" class=\"dataframe\">\n",
       "  <thead>\n",
       "    <tr style=\"text-align: right;\">\n",
       "      <th></th>\n",
       "      <th>gender</th>\n",
       "      <th>age</th>\n",
       "      <th>time</th>\n",
       "      <th>received</th>\n",
       "      <th>viewed</th>\n",
       "      <th>completed</th>\n",
       "      <th>transaction</th>\n",
       "      <th>amount</th>\n",
       "      <th>offer_type</th>\n",
       "      <th>ticks</th>\n",
       "      <th>validity</th>\n",
       "    </tr>\n",
       "  </thead>\n",
       "  <tbody>\n",
       "    <tr>\n",
       "      <th>60157</th>\n",
       "      <td>M</td>\n",
       "      <td>33.0</td>\n",
       "      <td>528</td>\n",
       "      <td>0</td>\n",
       "      <td>0</td>\n",
       "      <td>0</td>\n",
       "      <td>1</td>\n",
       "      <td>14.11</td>\n",
       "      <td>NaN</td>\n",
       "      <td>NaN</td>\n",
       "      <td>NaN</td>\n",
       "    </tr>\n",
       "    <tr>\n",
       "      <th>172998</th>\n",
       "      <td>M</td>\n",
       "      <td>33.0</td>\n",
       "      <td>528</td>\n",
       "      <td>0</td>\n",
       "      <td>0</td>\n",
       "      <td>1</td>\n",
       "      <td>0</td>\n",
       "      <td>NaN</td>\n",
       "      <td>discount</td>\n",
       "      <td>discount_2_10_10</td>\n",
       "      <td>768.0</td>\n",
       "    </tr>\n",
       "    <tr>\n",
       "      <th>3527</th>\n",
       "      <td>M</td>\n",
       "      <td>33.0</td>\n",
       "      <td>576</td>\n",
       "      <td>0</td>\n",
       "      <td>0</td>\n",
       "      <td>1</td>\n",
       "      <td>0</td>\n",
       "      <td>NaN</td>\n",
       "      <td>discount</td>\n",
       "      <td>discount_2_10_7</td>\n",
       "      <td>744.0</td>\n",
       "    </tr>\n",
       "    <tr>\n",
       "      <th>60159</th>\n",
       "      <td>M</td>\n",
       "      <td>33.0</td>\n",
       "      <td>576</td>\n",
       "      <td>0</td>\n",
       "      <td>0</td>\n",
       "      <td>0</td>\n",
       "      <td>1</td>\n",
       "      <td>10.27</td>\n",
       "      <td>NaN</td>\n",
       "      <td>NaN</td>\n",
       "      <td>NaN</td>\n",
       "    </tr>\n",
       "  </tbody>\n",
       "</table>\n",
       "</div>"
      ],
      "text/plain": [
       "       gender   age  time  received  viewed  completed  transaction  amount  \\\n",
       "60157       M  33.0   528         0       0          0            1   14.11   \n",
       "172998      M  33.0   528         0       0          1            0     NaN   \n",
       "3527        M  33.0   576         0       0          1            0     NaN   \n",
       "60159       M  33.0   576         0       0          0            1   10.27   \n",
       "\n",
       "       offer_type             ticks  validity  \n",
       "60157         NaN               NaN       NaN  \n",
       "172998   discount  discount_2_10_10     768.0  \n",
       "3527     discount   discount_2_10_7     744.0  \n",
       "60159         NaN               NaN       NaN  "
      ]
     },
     "execution_count": 76,
     "metadata": {},
     "output_type": "execute_result"
    }
   ],
   "source": [
    "discount_transaction[discount_transaction.time.isin(idx)].query('received != 1')"
   ]
  },
  {
   "cell_type": "code",
   "execution_count": 59,
   "id": "b134a4f2",
   "metadata": {},
   "outputs": [],
   "source": [
    "test=discount_transaction.iterrows()\n"
   ]
  },
  {
   "cell_type": "code",
   "execution_count": 65,
   "id": "f540941d",
   "metadata": {},
   "outputs": [
    {
     "data": {
      "text/plain": [
       "(172999,\n",
       " gender                        M\n",
       " age                          33\n",
       " time                        540\n",
       " received                      0\n",
       " viewed                        1\n",
       " completed                     0\n",
       " transaction                   0\n",
       " amount                      NaN\n",
       " offer_type             discount\n",
       " ticks          discount_2_10_10\n",
       " validity                    780\n",
       " Name: 172999, dtype: object)"
      ]
     },
     "execution_count": 65,
     "metadata": {},
     "output_type": "execute_result"
    }
   ],
   "source": [
    "next(test)"
   ]
  }
 ],
 "metadata": {
  "kernelspec": {
   "display_name": "conda_python3",
   "language": "python",
   "name": "conda_python3"
  },
  "language_info": {
   "codemirror_mode": {
    "name": "ipython",
    "version": 3
   },
   "file_extension": ".py",
   "mimetype": "text/x-python",
   "name": "python",
   "nbconvert_exporter": "python",
   "pygments_lexer": "ipython3",
   "version": "3.6.13"
  }
 },
 "nbformat": 4,
 "nbformat_minor": 5
}
