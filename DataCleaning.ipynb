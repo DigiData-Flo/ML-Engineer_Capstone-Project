{
 "cells": [
  {
   "cell_type": "markdown",
   "id": "4009ba67",
   "metadata": {},
   "source": [
    "# Data Cleaning\n",
    "\n",
    "First of all we have to import the basic python libaries."
   ]
  },
  {
   "cell_type": "code",
   "execution_count": 1,
   "id": "7ebd1e3c",
   "metadata": {},
   "outputs": [],
   "source": [
    "import pandas as pd\n",
    "import numpy as np\n",
    "import math\n",
    "import json\n",
    "import matplotlib.pyplot as plt\n",
    "import seaborn as sns\n",
    "%matplotlib inline\n",
    "%config InlineBackend.figure_format = 'retina'\n",
    "\n"
   ]
  },
  {
   "cell_type": "markdown",
   "id": "a06151dd",
   "metadata": {},
   "source": [
    "## Read the raw data files\n",
    "The project provides 3 three files as described in the dataset section. The files are formated json, we use the pandas read_json method to create dataframes."
   ]
  },
  {
   "cell_type": "code",
   "execution_count": 2,
   "id": "76a3972c",
   "metadata": {},
   "outputs": [],
   "source": [
    "# read in the json files\n",
    "portfolio = pd.read_json('data/portfolio.json', orient='records', lines=True)\n",
    "profile = pd.read_json('data/profile.json', orient='records', lines=True)\n",
    "transcript = pd.read_json('data/transcript.json', orient='records', lines=True)"
   ]
  },
  {
   "cell_type": "markdown",
   "id": "9f58ed38",
   "metadata": {},
   "source": [
    "## Portfolio\n",
    "\n",
    "We start to clean the portfolio dataset. Let's display the first columns to see how the data looks in a dataframe."
   ]
  },
  {
   "cell_type": "code",
   "execution_count": 3,
   "id": "bc140745",
   "metadata": {},
   "outputs": [
    {
     "data": {
      "text/html": [
       "<div>\n",
       "<style scoped>\n",
       "    .dataframe tbody tr th:only-of-type {\n",
       "        vertical-align: middle;\n",
       "    }\n",
       "\n",
       "    .dataframe tbody tr th {\n",
       "        vertical-align: top;\n",
       "    }\n",
       "\n",
       "    .dataframe thead th {\n",
       "        text-align: right;\n",
       "    }\n",
       "</style>\n",
       "<table border=\"1\" class=\"dataframe\">\n",
       "  <thead>\n",
       "    <tr style=\"text-align: right;\">\n",
       "      <th>index</th>\n",
       "      <th>reward</th>\n",
       "      <th>channels</th>\n",
       "      <th>difficulty</th>\n",
       "      <th>duration</th>\n",
       "      <th>offer_type</th>\n",
       "      <th>id</th>\n",
       "    </tr>\n",
       "  </thead>\n",
       "  <tbody>\n",
       "    <tr>\n",
       "      <th>0</th>\n",
       "      <td>10</td>\n",
       "      <td>[email, mobile, social]</td>\n",
       "      <td>10</td>\n",
       "      <td>7</td>\n",
       "      <td>bogo</td>\n",
       "      <td>ae264e3637204a6fb9bb56bc8210ddfd</td>\n",
       "    </tr>\n",
       "    <tr>\n",
       "      <th>1</th>\n",
       "      <td>10</td>\n",
       "      <td>[web, email, mobile, social]</td>\n",
       "      <td>10</td>\n",
       "      <td>5</td>\n",
       "      <td>bogo</td>\n",
       "      <td>4d5c57ea9a6940dd891ad53e9dbe8da0</td>\n",
       "    </tr>\n",
       "    <tr>\n",
       "      <th>2</th>\n",
       "      <td>0</td>\n",
       "      <td>[web, email, mobile]</td>\n",
       "      <td>0</td>\n",
       "      <td>4</td>\n",
       "      <td>informational</td>\n",
       "      <td>3f207df678b143eea3cee63160fa8bed</td>\n",
       "    </tr>\n",
       "  </tbody>\n",
       "</table>\n",
       "</div>"
      ],
      "text/plain": [
       "index  reward                      channels  difficulty  duration  \\\n",
       "0          10       [email, mobile, social]          10         7   \n",
       "1          10  [web, email, mobile, social]          10         5   \n",
       "2           0          [web, email, mobile]           0         4   \n",
       "\n",
       "index     offer_type                                id  \n",
       "0               bogo  ae264e3637204a6fb9bb56bc8210ddfd  \n",
       "1               bogo  4d5c57ea9a6940dd891ad53e9dbe8da0  \n",
       "2      informational  3f207df678b143eea3cee63160fa8bed  "
      ]
     },
     "execution_count": 3,
     "metadata": {},
     "output_type": "execute_result"
    }
   ],
   "source": [
    "portfolio.columns.name = 'index'\n",
    "portfolio.index.name = None\n",
    "portfolio.head(3)\n"
   ]
  },
  {
   "cell_type": "markdown",
   "id": "a2a89a69",
   "metadata": {},
   "source": [
    "### Portfolio Assessing Data\n",
    "* One Hot encoding channels: The channels used to reeive the offers are organized in list datatypes. This should be changed. I will do split the channels, that I get an own column for each channel.\n",
    "* Add an alternative column with an offer_name build from type_reward_difficulty_duration\n",
    "* Change duration values from days to hours. In later coming preprocessing steps I have to combine the timestamp of events with the offer duration. Timestamps are in hours so I will change the duration also to hours.\n",
    "* Change column name id to offer_id. This is also for harmonization with the other datasets, to simplify an later merging process.\n",
    "* Add one hot encoded vector for offer_type columns to reduce later preprocessing steps.\n",
    "\n",
    "Before I start I create a copy from portfolio dataframe where I can do my changes.\n"
   ]
  },
  {
   "cell_type": "code",
   "execution_count": 4,
   "id": "438ec2d8",
   "metadata": {},
   "outputs": [],
   "source": [
    "# Create a copy to keep the original dataset\n",
    "clean_portfolio = portfolio.copy()"
   ]
  },
  {
   "cell_type": "code",
   "execution_count": null,
   "id": "43658eb7",
   "metadata": {},
   "outputs": [],
   "source": []
  },
  {
   "cell_type": "code",
   "execution_count": null,
   "id": "976380a8",
   "metadata": {},
   "outputs": [],
   "source": []
  },
  {
   "cell_type": "markdown",
   "id": "2e7e7a00",
   "metadata": {},
   "source": [
    "#### One Hot Encoding for channels column"
   ]
  },
  {
   "cell_type": "code",
   "execution_count": 5,
   "id": "ebe29987",
   "metadata": {},
   "outputs": [],
   "source": [
    "# One hot encoding channels\n",
    "from sklearn.preprocessing import MultiLabelBinarizer\n",
    "\n",
    "mlb = MultiLabelBinarizer(sparse_output=True)\n",
    "\n",
    "clean_portfolio = clean_portfolio.join(\n",
    "            pd.DataFrame.sparse.from_spmatrix(\n",
    "                mlb.fit_transform(clean_portfolio.pop('channels')),\n",
    "                index=portfolio.index,\n",
    "                columns=mlb.classes_))\n",
    "\n",
    "clean_portfolio.loc[:, ['email', 'mobile', 'social', 'web']] = clean_portfolio.loc[:, ['email', 'mobile', 'social', 'web']].astype(int) "
   ]
  },
  {
   "cell_type": "code",
   "execution_count": 6,
   "id": "215fd70c",
   "metadata": {},
   "outputs": [
    {
     "name": "stdout",
     "output_type": "stream",
     "text": [
      "<class 'pandas.core.frame.DataFrame'>\n",
      "RangeIndex: 10 entries, 0 to 9\n",
      "Data columns (total 9 columns):\n",
      " #   Column      Non-Null Count  Dtype           \n",
      "---  ------      --------------  -----           \n",
      " 0   reward      10 non-null     int64           \n",
      " 1   difficulty  10 non-null     int64           \n",
      " 2   duration    10 non-null     int64           \n",
      " 3   offer_type  10 non-null     object          \n",
      " 4   id          10 non-null     object          \n",
      " 5   email       10 non-null     Sparse[int64, 0]\n",
      " 6   mobile      10 non-null     Sparse[int64, 0]\n",
      " 7   social      10 non-null     Sparse[int64, 0]\n",
      " 8   web         10 non-null     Sparse[int64, 0]\n",
      "dtypes: Sparse[int64, 0](4), int64(3), object(2)\n",
      "memory usage: 924.0+ bytes\n"
     ]
    },
    {
     "data": {
      "text/html": [
       "<div>\n",
       "<style scoped>\n",
       "    .dataframe tbody tr th:only-of-type {\n",
       "        vertical-align: middle;\n",
       "    }\n",
       "\n",
       "    .dataframe tbody tr th {\n",
       "        vertical-align: top;\n",
       "    }\n",
       "\n",
       "    .dataframe thead th {\n",
       "        text-align: right;\n",
       "    }\n",
       "</style>\n",
       "<table border=\"1\" class=\"dataframe\">\n",
       "  <thead>\n",
       "    <tr style=\"text-align: right;\">\n",
       "      <th>index</th>\n",
       "      <th>email</th>\n",
       "      <th>mobile</th>\n",
       "      <th>social</th>\n",
       "      <th>web</th>\n",
       "    </tr>\n",
       "  </thead>\n",
       "  <tbody>\n",
       "    <tr>\n",
       "      <th>0</th>\n",
       "      <td>1</td>\n",
       "      <td>1</td>\n",
       "      <td>1</td>\n",
       "      <td>0</td>\n",
       "    </tr>\n",
       "    <tr>\n",
       "      <th>1</th>\n",
       "      <td>1</td>\n",
       "      <td>1</td>\n",
       "      <td>1</td>\n",
       "      <td>1</td>\n",
       "    </tr>\n",
       "    <tr>\n",
       "      <th>2</th>\n",
       "      <td>1</td>\n",
       "      <td>1</td>\n",
       "      <td>0</td>\n",
       "      <td>1</td>\n",
       "    </tr>\n",
       "  </tbody>\n",
       "</table>\n",
       "</div>"
      ],
      "text/plain": [
       "index  email  mobile  social  web\n",
       "0          1       1       1    0\n",
       "1          1       1       1    1\n",
       "2          1       1       0    1"
      ]
     },
     "execution_count": 6,
     "metadata": {},
     "output_type": "execute_result"
    }
   ],
   "source": [
    "clean_portfolio.info()\n",
    "clean_portfolio.columns.name='index'\n",
    "clean_portfolio.iloc[:3,5:]"
   ]
  },
  {
   "cell_type": "code",
   "execution_count": 7,
   "id": "4752cc54",
   "metadata": {},
   "outputs": [
    {
     "data": {
      "text/html": [
       "<div>\n",
       "<style scoped>\n",
       "    .dataframe tbody tr th:only-of-type {\n",
       "        vertical-align: middle;\n",
       "    }\n",
       "\n",
       "    .dataframe tbody tr th {\n",
       "        vertical-align: top;\n",
       "    }\n",
       "\n",
       "    .dataframe thead th {\n",
       "        text-align: right;\n",
       "    }\n",
       "</style>\n",
       "<table border=\"1\" class=\"dataframe\">\n",
       "  <thead>\n",
       "    <tr style=\"text-align: right;\">\n",
       "      <th>index</th>\n",
       "      <th>reward</th>\n",
       "      <th>difficulty</th>\n",
       "      <th>duration</th>\n",
       "      <th>offer_type</th>\n",
       "      <th>id</th>\n",
       "      <th>email</th>\n",
       "      <th>mobile</th>\n",
       "      <th>social</th>\n",
       "      <th>web</th>\n",
       "    </tr>\n",
       "  </thead>\n",
       "  <tbody>\n",
       "    <tr>\n",
       "      <th>0</th>\n",
       "      <td>10</td>\n",
       "      <td>10</td>\n",
       "      <td>7</td>\n",
       "      <td>bogo</td>\n",
       "      <td>ae264e3637204a6fb9bb56bc8210ddfd</td>\n",
       "      <td>1</td>\n",
       "      <td>1</td>\n",
       "      <td>1</td>\n",
       "      <td>0</td>\n",
       "    </tr>\n",
       "    <tr>\n",
       "      <th>1</th>\n",
       "      <td>10</td>\n",
       "      <td>10</td>\n",
       "      <td>5</td>\n",
       "      <td>bogo</td>\n",
       "      <td>4d5c57ea9a6940dd891ad53e9dbe8da0</td>\n",
       "      <td>1</td>\n",
       "      <td>1</td>\n",
       "      <td>1</td>\n",
       "      <td>1</td>\n",
       "    </tr>\n",
       "    <tr>\n",
       "      <th>2</th>\n",
       "      <td>0</td>\n",
       "      <td>0</td>\n",
       "      <td>4</td>\n",
       "      <td>informational</td>\n",
       "      <td>3f207df678b143eea3cee63160fa8bed</td>\n",
       "      <td>1</td>\n",
       "      <td>1</td>\n",
       "      <td>0</td>\n",
       "      <td>1</td>\n",
       "    </tr>\n",
       "  </tbody>\n",
       "</table>\n",
       "</div>"
      ],
      "text/plain": [
       "index  reward  difficulty  duration     offer_type  \\\n",
       "0          10          10         7           bogo   \n",
       "1          10          10         5           bogo   \n",
       "2           0           0         4  informational   \n",
       "\n",
       "index                                id  email  mobile  social  web  \n",
       "0      ae264e3637204a6fb9bb56bc8210ddfd      1       1       1    0  \n",
       "1      4d5c57ea9a6940dd891ad53e9dbe8da0      1       1       1    1  \n",
       "2      3f207df678b143eea3cee63160fa8bed      1       1       0    1  "
      ]
     },
     "execution_count": 7,
     "metadata": {},
     "output_type": "execute_result"
    }
   ],
   "source": [
    "clean_portfolio.columns.name = 'index'\n",
    "clean_portfolio.index.name = None\n",
    "clean_portfolio.iloc[:3]"
   ]
  },
  {
   "cell_type": "markdown",
   "id": "72545ff2",
   "metadata": {},
   "source": [
    "Now the channels column is replace and I get for each channel an seperate column with a null one declaration.\n",
    "\n",
    "#### Create column called with alternative offer name\n",
    "The column will be named as 'ticks'"
   ]
  },
  {
   "cell_type": "code",
   "execution_count": 8,
   "id": "067d7922",
   "metadata": {},
   "outputs": [],
   "source": [
    "# There will come several plots where the offer_id is on an axis a label\n",
    "# The offer_id tells us nothing about the offer itself. \n",
    "# I create a column ticks with concatenate offer specific feature names\n",
    "clean_portfolio['ticks'] = clean_portfolio.offer_type+'_'+clean_portfolio.reward.astype(str)\\\n",
    "                        +'_'+clean_portfolio.difficulty.astype(str)\\\n",
    "                        +'_'+(clean_portfolio.duration).astype(int).astype(str)\n",
    "\n",
    "\n"
   ]
  },
  {
   "cell_type": "code",
   "execution_count": 9,
   "id": "3e4ca972",
   "metadata": {},
   "outputs": [
    {
     "data": {
      "text/html": [
       "<div>\n",
       "<style scoped>\n",
       "    .dataframe tbody tr th:only-of-type {\n",
       "        vertical-align: middle;\n",
       "    }\n",
       "\n",
       "    .dataframe tbody tr th {\n",
       "        vertical-align: top;\n",
       "    }\n",
       "\n",
       "    .dataframe thead th {\n",
       "        text-align: right;\n",
       "    }\n",
       "</style>\n",
       "<table border=\"1\" class=\"dataframe\">\n",
       "  <thead>\n",
       "    <tr style=\"text-align: right;\">\n",
       "      <th>index</th>\n",
       "      <th>email</th>\n",
       "      <th>mobile</th>\n",
       "      <th>social</th>\n",
       "      <th>web</th>\n",
       "      <th>ticks</th>\n",
       "    </tr>\n",
       "  </thead>\n",
       "  <tbody>\n",
       "    <tr>\n",
       "      <th>0</th>\n",
       "      <td>1</td>\n",
       "      <td>1</td>\n",
       "      <td>1</td>\n",
       "      <td>0</td>\n",
       "      <td>bogo_10_10_7</td>\n",
       "    </tr>\n",
       "    <tr>\n",
       "      <th>1</th>\n",
       "      <td>1</td>\n",
       "      <td>1</td>\n",
       "      <td>1</td>\n",
       "      <td>1</td>\n",
       "      <td>bogo_10_10_5</td>\n",
       "    </tr>\n",
       "    <tr>\n",
       "      <th>2</th>\n",
       "      <td>1</td>\n",
       "      <td>1</td>\n",
       "      <td>0</td>\n",
       "      <td>1</td>\n",
       "      <td>informational_0_0_4</td>\n",
       "    </tr>\n",
       "  </tbody>\n",
       "</table>\n",
       "</div>"
      ],
      "text/plain": [
       "index  email  mobile  social  web                ticks\n",
       "0          1       1       1    0         bogo_10_10_7\n",
       "1          1       1       1    1         bogo_10_10_5\n",
       "2          1       1       0    1  informational_0_0_4"
      ]
     },
     "execution_count": 9,
     "metadata": {},
     "output_type": "execute_result"
    }
   ],
   "source": [
    "\n",
    "clean_portfolio.iloc[:3,-5:]"
   ]
  },
  {
   "cell_type": "markdown",
   "id": "fd34ea04",
   "metadata": {},
   "source": [
    "The alternative column name is added as additinal column 'ticks'\n",
    "\n",
    "#### Change format of duration from days to hours"
   ]
  },
  {
   "cell_type": "code",
   "execution_count": 10,
   "id": "98945b59",
   "metadata": {},
   "outputs": [],
   "source": [
    "# Change duration values from days to hours\n",
    "clean_portfolio.duration = clean_portfolio.duration * 24"
   ]
  },
  {
   "cell_type": "code",
   "execution_count": 11,
   "id": "ee345f3c",
   "metadata": {},
   "outputs": [
    {
     "data": {
      "text/html": [
       "<div>\n",
       "<style scoped>\n",
       "    .dataframe tbody tr th:only-of-type {\n",
       "        vertical-align: middle;\n",
       "    }\n",
       "\n",
       "    .dataframe tbody tr th {\n",
       "        vertical-align: top;\n",
       "    }\n",
       "\n",
       "    .dataframe thead th {\n",
       "        text-align: right;\n",
       "    }\n",
       "</style>\n",
       "<table border=\"1\" class=\"dataframe\">\n",
       "  <thead>\n",
       "    <tr style=\"text-align: right;\">\n",
       "      <th>index</th>\n",
       "      <th>reward</th>\n",
       "      <th>difficulty</th>\n",
       "      <th>duration</th>\n",
       "      <th>offer_type</th>\n",
       "      <th>id</th>\n",
       "      <th>email</th>\n",
       "      <th>mobile</th>\n",
       "      <th>social</th>\n",
       "      <th>web</th>\n",
       "      <th>ticks</th>\n",
       "    </tr>\n",
       "  </thead>\n",
       "  <tbody>\n",
       "    <tr>\n",
       "      <th>0</th>\n",
       "      <td>10</td>\n",
       "      <td>10</td>\n",
       "      <td>168</td>\n",
       "      <td>bogo</td>\n",
       "      <td>ae264e3637204a6fb9bb56bc8210ddfd</td>\n",
       "      <td>1</td>\n",
       "      <td>1</td>\n",
       "      <td>1</td>\n",
       "      <td>0</td>\n",
       "      <td>bogo_10_10_7</td>\n",
       "    </tr>\n",
       "    <tr>\n",
       "      <th>1</th>\n",
       "      <td>10</td>\n",
       "      <td>10</td>\n",
       "      <td>120</td>\n",
       "      <td>bogo</td>\n",
       "      <td>4d5c57ea9a6940dd891ad53e9dbe8da0</td>\n",
       "      <td>1</td>\n",
       "      <td>1</td>\n",
       "      <td>1</td>\n",
       "      <td>1</td>\n",
       "      <td>bogo_10_10_5</td>\n",
       "    </tr>\n",
       "    <tr>\n",
       "      <th>2</th>\n",
       "      <td>0</td>\n",
       "      <td>0</td>\n",
       "      <td>96</td>\n",
       "      <td>informational</td>\n",
       "      <td>3f207df678b143eea3cee63160fa8bed</td>\n",
       "      <td>1</td>\n",
       "      <td>1</td>\n",
       "      <td>0</td>\n",
       "      <td>1</td>\n",
       "      <td>informational_0_0_4</td>\n",
       "    </tr>\n",
       "  </tbody>\n",
       "</table>\n",
       "</div>"
      ],
      "text/plain": [
       "index  reward  difficulty  duration     offer_type  \\\n",
       "0          10          10       168           bogo   \n",
       "1          10          10       120           bogo   \n",
       "2           0           0        96  informational   \n",
       "\n",
       "index                                id  email  mobile  social  web  \\\n",
       "0      ae264e3637204a6fb9bb56bc8210ddfd      1       1       1    0   \n",
       "1      4d5c57ea9a6940dd891ad53e9dbe8da0      1       1       1    1   \n",
       "2      3f207df678b143eea3cee63160fa8bed      1       1       0    1   \n",
       "\n",
       "index                ticks  \n",
       "0             bogo_10_10_7  \n",
       "1             bogo_10_10_5  \n",
       "2      informational_0_0_4  "
      ]
     },
     "execution_count": 11,
     "metadata": {},
     "output_type": "execute_result"
    }
   ],
   "source": [
    "clean_portfolio.head(3)"
   ]
  },
  {
   "cell_type": "markdown",
   "id": "514052cd",
   "metadata": {},
   "source": [
    "#### Rename columns id to offer_id"
   ]
  },
  {
   "cell_type": "code",
   "execution_count": 12,
   "id": "02c1caf4",
   "metadata": {},
   "outputs": [
    {
     "data": {
      "text/html": [
       "<div>\n",
       "<style scoped>\n",
       "    .dataframe tbody tr th:only-of-type {\n",
       "        vertical-align: middle;\n",
       "    }\n",
       "\n",
       "    .dataframe tbody tr th {\n",
       "        vertical-align: top;\n",
       "    }\n",
       "\n",
       "    .dataframe thead th {\n",
       "        text-align: right;\n",
       "    }\n",
       "</style>\n",
       "<table border=\"1\" class=\"dataframe\">\n",
       "  <thead>\n",
       "    <tr style=\"text-align: right;\">\n",
       "      <th>index</th>\n",
       "      <th>reward</th>\n",
       "      <th>difficulty</th>\n",
       "      <th>duration</th>\n",
       "      <th>offer_type</th>\n",
       "      <th>offer_id</th>\n",
       "      <th>email</th>\n",
       "      <th>mobile</th>\n",
       "      <th>social</th>\n",
       "      <th>web</th>\n",
       "      <th>ticks</th>\n",
       "    </tr>\n",
       "  </thead>\n",
       "  <tbody>\n",
       "    <tr>\n",
       "      <th>0</th>\n",
       "      <td>10</td>\n",
       "      <td>10</td>\n",
       "      <td>168</td>\n",
       "      <td>bogo</td>\n",
       "      <td>ae264e3637204a6fb9bb56bc8210ddfd</td>\n",
       "      <td>1</td>\n",
       "      <td>1</td>\n",
       "      <td>1</td>\n",
       "      <td>0</td>\n",
       "      <td>bogo_10_10_7</td>\n",
       "    </tr>\n",
       "    <tr>\n",
       "      <th>1</th>\n",
       "      <td>10</td>\n",
       "      <td>10</td>\n",
       "      <td>120</td>\n",
       "      <td>bogo</td>\n",
       "      <td>4d5c57ea9a6940dd891ad53e9dbe8da0</td>\n",
       "      <td>1</td>\n",
       "      <td>1</td>\n",
       "      <td>1</td>\n",
       "      <td>1</td>\n",
       "      <td>bogo_10_10_5</td>\n",
       "    </tr>\n",
       "    <tr>\n",
       "      <th>2</th>\n",
       "      <td>0</td>\n",
       "      <td>0</td>\n",
       "      <td>96</td>\n",
       "      <td>informational</td>\n",
       "      <td>3f207df678b143eea3cee63160fa8bed</td>\n",
       "      <td>1</td>\n",
       "      <td>1</td>\n",
       "      <td>0</td>\n",
       "      <td>1</td>\n",
       "      <td>informational_0_0_4</td>\n",
       "    </tr>\n",
       "  </tbody>\n",
       "</table>\n",
       "</div>"
      ],
      "text/plain": [
       "index  reward  difficulty  duration     offer_type  \\\n",
       "0          10          10       168           bogo   \n",
       "1          10          10       120           bogo   \n",
       "2           0           0        96  informational   \n",
       "\n",
       "index                          offer_id  email  mobile  social  web  \\\n",
       "0      ae264e3637204a6fb9bb56bc8210ddfd      1       1       1    0   \n",
       "1      4d5c57ea9a6940dd891ad53e9dbe8da0      1       1       1    1   \n",
       "2      3f207df678b143eea3cee63160fa8bed      1       1       0    1   \n",
       "\n",
       "index                ticks  \n",
       "0             bogo_10_10_7  \n",
       "1             bogo_10_10_5  \n",
       "2      informational_0_0_4  "
      ]
     },
     "execution_count": 12,
     "metadata": {},
     "output_type": "execute_result"
    }
   ],
   "source": [
    "# Change column name id to offer_id\n",
    "clean_portfolio = clean_portfolio.rename(columns={'id': 'offer_id'})\n",
    "clean_portfolio.head(3)"
   ]
  },
  {
   "cell_type": "markdown",
   "id": "3e111f93",
   "metadata": {},
   "source": [
    "#### One hot encode vector for offer_type column"
   ]
  },
  {
   "cell_type": "code",
   "execution_count": 13,
   "id": "228859cf",
   "metadata": {},
   "outputs": [
    {
     "data": {
      "text/html": [
       "<div>\n",
       "<style scoped>\n",
       "    .dataframe tbody tr th:only-of-type {\n",
       "        vertical-align: middle;\n",
       "    }\n",
       "\n",
       "    .dataframe tbody tr th {\n",
       "        vertical-align: top;\n",
       "    }\n",
       "\n",
       "    .dataframe thead th {\n",
       "        text-align: right;\n",
       "    }\n",
       "</style>\n",
       "<table border=\"1\" class=\"dataframe\">\n",
       "  <thead>\n",
       "    <tr style=\"text-align: right;\">\n",
       "      <th></th>\n",
       "      <th>reward</th>\n",
       "      <th>difficulty</th>\n",
       "      <th>duration</th>\n",
       "      <th>offer_type</th>\n",
       "      <th>offer_id</th>\n",
       "      <th>email</th>\n",
       "      <th>mobile</th>\n",
       "      <th>social</th>\n",
       "      <th>web</th>\n",
       "      <th>ticks</th>\n",
       "      <th>bogo</th>\n",
       "      <th>discount</th>\n",
       "      <th>informational</th>\n",
       "    </tr>\n",
       "  </thead>\n",
       "  <tbody>\n",
       "    <tr>\n",
       "      <th>0</th>\n",
       "      <td>10</td>\n",
       "      <td>10</td>\n",
       "      <td>168</td>\n",
       "      <td>bogo</td>\n",
       "      <td>ae264e3637204a6fb9bb56bc8210ddfd</td>\n",
       "      <td>1</td>\n",
       "      <td>1</td>\n",
       "      <td>1</td>\n",
       "      <td>0</td>\n",
       "      <td>bogo_10_10_7</td>\n",
       "      <td>1</td>\n",
       "      <td>0</td>\n",
       "      <td>0</td>\n",
       "    </tr>\n",
       "    <tr>\n",
       "      <th>1</th>\n",
       "      <td>10</td>\n",
       "      <td>10</td>\n",
       "      <td>120</td>\n",
       "      <td>bogo</td>\n",
       "      <td>4d5c57ea9a6940dd891ad53e9dbe8da0</td>\n",
       "      <td>1</td>\n",
       "      <td>1</td>\n",
       "      <td>1</td>\n",
       "      <td>1</td>\n",
       "      <td>bogo_10_10_5</td>\n",
       "      <td>1</td>\n",
       "      <td>0</td>\n",
       "      <td>0</td>\n",
       "    </tr>\n",
       "    <tr>\n",
       "      <th>2</th>\n",
       "      <td>0</td>\n",
       "      <td>0</td>\n",
       "      <td>96</td>\n",
       "      <td>informational</td>\n",
       "      <td>3f207df678b143eea3cee63160fa8bed</td>\n",
       "      <td>1</td>\n",
       "      <td>1</td>\n",
       "      <td>0</td>\n",
       "      <td>1</td>\n",
       "      <td>informational_0_0_4</td>\n",
       "      <td>0</td>\n",
       "      <td>0</td>\n",
       "      <td>1</td>\n",
       "    </tr>\n",
       "    <tr>\n",
       "      <th>3</th>\n",
       "      <td>5</td>\n",
       "      <td>5</td>\n",
       "      <td>168</td>\n",
       "      <td>bogo</td>\n",
       "      <td>9b98b8c7a33c4b65b9aebfe6a799e6d9</td>\n",
       "      <td>1</td>\n",
       "      <td>1</td>\n",
       "      <td>0</td>\n",
       "      <td>1</td>\n",
       "      <td>bogo_5_5_7</td>\n",
       "      <td>1</td>\n",
       "      <td>0</td>\n",
       "      <td>0</td>\n",
       "    </tr>\n",
       "    <tr>\n",
       "      <th>4</th>\n",
       "      <td>5</td>\n",
       "      <td>20</td>\n",
       "      <td>240</td>\n",
       "      <td>discount</td>\n",
       "      <td>0b1e1539f2cc45b7b9fa7c272da2e1d7</td>\n",
       "      <td>1</td>\n",
       "      <td>0</td>\n",
       "      <td>0</td>\n",
       "      <td>1</td>\n",
       "      <td>discount_5_20_10</td>\n",
       "      <td>0</td>\n",
       "      <td>1</td>\n",
       "      <td>0</td>\n",
       "    </tr>\n",
       "  </tbody>\n",
       "</table>\n",
       "</div>"
      ],
      "text/plain": [
       "   reward  difficulty  duration     offer_type  \\\n",
       "0      10          10       168           bogo   \n",
       "1      10          10       120           bogo   \n",
       "2       0           0        96  informational   \n",
       "3       5           5       168           bogo   \n",
       "4       5          20       240       discount   \n",
       "\n",
       "                           offer_id  email  mobile  social  web  \\\n",
       "0  ae264e3637204a6fb9bb56bc8210ddfd      1       1       1    0   \n",
       "1  4d5c57ea9a6940dd891ad53e9dbe8da0      1       1       1    1   \n",
       "2  3f207df678b143eea3cee63160fa8bed      1       1       0    1   \n",
       "3  9b98b8c7a33c4b65b9aebfe6a799e6d9      1       1       0    1   \n",
       "4  0b1e1539f2cc45b7b9fa7c272da2e1d7      1       0       0    1   \n",
       "\n",
       "                 ticks  bogo  discount  informational  \n",
       "0         bogo_10_10_7     1         0              0  \n",
       "1         bogo_10_10_5     1         0              0  \n",
       "2  informational_0_0_4     0         0              1  \n",
       "3           bogo_5_5_7     1         0              0  \n",
       "4     discount_5_20_10     0         1              0  "
      ]
     },
     "execution_count": 13,
     "metadata": {},
     "output_type": "execute_result"
    }
   ],
   "source": [
    "clean_portfolio = clean_portfolio.join(pd.get_dummies(clean_portfolio.offer_type))\n",
    "clean_portfolio.head()"
   ]
  },
  {
   "cell_type": "markdown",
   "id": "46c2a17b",
   "metadata": {},
   "source": [
    "#### Write the cleaned portfolio to a file\n",
    "I write the cleaned portfolio data to a csv file, that I can use it in further notebooks"
   ]
  },
  {
   "cell_type": "code",
   "execution_count": 14,
   "id": "d141fe38",
   "metadata": {},
   "outputs": [],
   "source": [
    "clean_portfolio.to_csv('data/clean_portfolio.csv', index=False)"
   ]
  },
  {
   "cell_type": "markdown",
   "id": "24211d7a",
   "metadata": {},
   "source": [
    "## Profile\n",
    "Let's display the first columns to see how the data looks in a dataframe.\n"
   ]
  },
  {
   "cell_type": "code",
   "execution_count": 15,
   "id": "09af6f6b",
   "metadata": {},
   "outputs": [
    {
     "data": {
      "text/html": [
       "<div>\n",
       "<style scoped>\n",
       "    .dataframe tbody tr th:only-of-type {\n",
       "        vertical-align: middle;\n",
       "    }\n",
       "\n",
       "    .dataframe tbody tr th {\n",
       "        vertical-align: top;\n",
       "    }\n",
       "\n",
       "    .dataframe thead th {\n",
       "        text-align: right;\n",
       "    }\n",
       "</style>\n",
       "<table border=\"1\" class=\"dataframe\">\n",
       "  <thead>\n",
       "    <tr style=\"text-align: right;\">\n",
       "      <th>index</th>\n",
       "      <th>gender</th>\n",
       "      <th>age</th>\n",
       "      <th>id</th>\n",
       "      <th>became_member_on</th>\n",
       "      <th>income</th>\n",
       "    </tr>\n",
       "  </thead>\n",
       "  <tbody>\n",
       "    <tr>\n",
       "      <th>0</th>\n",
       "      <td>None</td>\n",
       "      <td>118</td>\n",
       "      <td>68be06ca386d4c31939f3a4f0e3dd783</td>\n",
       "      <td>20170212</td>\n",
       "      <td>NaN</td>\n",
       "    </tr>\n",
       "    <tr>\n",
       "      <th>1</th>\n",
       "      <td>F</td>\n",
       "      <td>55</td>\n",
       "      <td>0610b486422d4921ae7d2bf64640c50b</td>\n",
       "      <td>20170715</td>\n",
       "      <td>112000.0</td>\n",
       "    </tr>\n",
       "    <tr>\n",
       "      <th>2</th>\n",
       "      <td>None</td>\n",
       "      <td>118</td>\n",
       "      <td>38fe809add3b4fcf9315a9694bb96ff5</td>\n",
       "      <td>20180712</td>\n",
       "      <td>NaN</td>\n",
       "    </tr>\n",
       "  </tbody>\n",
       "</table>\n",
       "</div>"
      ],
      "text/plain": [
       "index gender  age                                id  became_member_on  \\\n",
       "0       None  118  68be06ca386d4c31939f3a4f0e3dd783          20170212   \n",
       "1          F   55  0610b486422d4921ae7d2bf64640c50b          20170715   \n",
       "2       None  118  38fe809add3b4fcf9315a9694bb96ff5          20180712   \n",
       "\n",
       "index    income  \n",
       "0           NaN  \n",
       "1      112000.0  \n",
       "2           NaN  "
      ]
     },
     "execution_count": 15,
     "metadata": {},
     "output_type": "execute_result"
    }
   ],
   "source": [
    "profile.columns.name='index'\n",
    "profile.head(3)"
   ]
  },
  {
   "cell_type": "markdown",
   "id": "c6fd7b70",
   "metadata": {},
   "source": [
    "### Profile Assessing data\n",
    "\n",
    "* convert became_member_on to datatime format\n",
    "* Add columns for year, month, day, member_since_days in relation to today\n",
    "* Modify features from users with no gender no income and age 118 years to gender 'U' for unknown and income and age to mean values from the other customers.\n",
    "* Change column name id to person_id\n",
    "* Add One hot Encoding columns for gender columns, to reduce later preprocessing steps"
   ]
  },
  {
   "cell_type": "code",
   "execution_count": 16,
   "id": "6fd36455",
   "metadata": {},
   "outputs": [
    {
     "data": {
      "text/html": [
       "<div>\n",
       "<style scoped>\n",
       "    .dataframe tbody tr th:only-of-type {\n",
       "        vertical-align: middle;\n",
       "    }\n",
       "\n",
       "    .dataframe tbody tr th {\n",
       "        vertical-align: top;\n",
       "    }\n",
       "\n",
       "    .dataframe thead th {\n",
       "        text-align: right;\n",
       "    }\n",
       "</style>\n",
       "<table border=\"1\" class=\"dataframe\">\n",
       "  <thead>\n",
       "    <tr style=\"text-align: right;\">\n",
       "      <th>index</th>\n",
       "      <th>gender</th>\n",
       "      <th>age</th>\n",
       "      <th>id</th>\n",
       "      <th>became_member_on</th>\n",
       "      <th>income</th>\n",
       "    </tr>\n",
       "  </thead>\n",
       "  <tbody>\n",
       "    <tr>\n",
       "      <th>0</th>\n",
       "      <td>None</td>\n",
       "      <td>118</td>\n",
       "      <td>68be06ca386d4c31939f3a4f0e3dd783</td>\n",
       "      <td>20170212</td>\n",
       "      <td>NaN</td>\n",
       "    </tr>\n",
       "    <tr>\n",
       "      <th>1</th>\n",
       "      <td>F</td>\n",
       "      <td>55</td>\n",
       "      <td>0610b486422d4921ae7d2bf64640c50b</td>\n",
       "      <td>20170715</td>\n",
       "      <td>112000.0</td>\n",
       "    </tr>\n",
       "    <tr>\n",
       "      <th>2</th>\n",
       "      <td>None</td>\n",
       "      <td>118</td>\n",
       "      <td>38fe809add3b4fcf9315a9694bb96ff5</td>\n",
       "      <td>20180712</td>\n",
       "      <td>NaN</td>\n",
       "    </tr>\n",
       "  </tbody>\n",
       "</table>\n",
       "</div>"
      ],
      "text/plain": [
       "index gender  age                                id  became_member_on  \\\n",
       "0       None  118  68be06ca386d4c31939f3a4f0e3dd783          20170212   \n",
       "1          F   55  0610b486422d4921ae7d2bf64640c50b          20170715   \n",
       "2       None  118  38fe809add3b4fcf9315a9694bb96ff5          20180712   \n",
       "\n",
       "index    income  \n",
       "0           NaN  \n",
       "1      112000.0  \n",
       "2           NaN  "
      ]
     },
     "execution_count": 16,
     "metadata": {},
     "output_type": "execute_result"
    }
   ],
   "source": [
    "# create a copy to keepthe original dataframe\n",
    "clean_profile = profile.copy()\n",
    "\n",
    "profile.head(3)"
   ]
  },
  {
   "cell_type": "markdown",
   "id": "635ef321",
   "metadata": {},
   "source": [
    "#### Convert became_member_on column"
   ]
  },
  {
   "cell_type": "code",
   "execution_count": 17,
   "id": "bd8396a0",
   "metadata": {},
   "outputs": [
    {
     "data": {
      "text/html": [
       "<div>\n",
       "<style scoped>\n",
       "    .dataframe tbody tr th:only-of-type {\n",
       "        vertical-align: middle;\n",
       "    }\n",
       "\n",
       "    .dataframe tbody tr th {\n",
       "        vertical-align: top;\n",
       "    }\n",
       "\n",
       "    .dataframe thead th {\n",
       "        text-align: right;\n",
       "    }\n",
       "</style>\n",
       "<table border=\"1\" class=\"dataframe\">\n",
       "  <thead>\n",
       "    <tr style=\"text-align: right;\">\n",
       "      <th>index</th>\n",
       "      <th>gender</th>\n",
       "      <th>age</th>\n",
       "      <th>id</th>\n",
       "      <th>became_member_on</th>\n",
       "      <th>income</th>\n",
       "    </tr>\n",
       "  </thead>\n",
       "  <tbody>\n",
       "    <tr>\n",
       "      <th>0</th>\n",
       "      <td>None</td>\n",
       "      <td>118</td>\n",
       "      <td>68be06ca386d4c31939f3a4f0e3dd783</td>\n",
       "      <td>2017-02-12</td>\n",
       "      <td>NaN</td>\n",
       "    </tr>\n",
       "    <tr>\n",
       "      <th>1</th>\n",
       "      <td>F</td>\n",
       "      <td>55</td>\n",
       "      <td>0610b486422d4921ae7d2bf64640c50b</td>\n",
       "      <td>2017-07-15</td>\n",
       "      <td>112000.0</td>\n",
       "    </tr>\n",
       "    <tr>\n",
       "      <th>2</th>\n",
       "      <td>None</td>\n",
       "      <td>118</td>\n",
       "      <td>38fe809add3b4fcf9315a9694bb96ff5</td>\n",
       "      <td>2018-07-12</td>\n",
       "      <td>NaN</td>\n",
       "    </tr>\n",
       "  </tbody>\n",
       "</table>\n",
       "</div>"
      ],
      "text/plain": [
       "index gender  age                                id became_member_on    income\n",
       "0       None  118  68be06ca386d4c31939f3a4f0e3dd783       2017-02-12       NaN\n",
       "1          F   55  0610b486422d4921ae7d2bf64640c50b       2017-07-15  112000.0\n",
       "2       None  118  38fe809add3b4fcf9315a9694bb96ff5       2018-07-12       NaN"
      ]
     },
     "execution_count": 17,
     "metadata": {},
     "output_type": "execute_result"
    }
   ],
   "source": [
    "# convert became_member_on column to datetime\n",
    "clean_profile.became_member_on = pd.to_datetime(clean_profile.became_member_on, format='%Y%m%d')\n",
    "clean_profile.head(3)\n"
   ]
  },
  {
   "cell_type": "markdown",
   "id": "057055b5",
   "metadata": {},
   "source": [
    "#### Add columns from become_member_on column"
   ]
  },
  {
   "cell_type": "code",
   "execution_count": 18,
   "id": "dfba902f",
   "metadata": {},
   "outputs": [
    {
     "data": {
      "text/html": [
       "<div>\n",
       "<style scoped>\n",
       "    .dataframe tbody tr th:only-of-type {\n",
       "        vertical-align: middle;\n",
       "    }\n",
       "\n",
       "    .dataframe tbody tr th {\n",
       "        vertical-align: top;\n",
       "    }\n",
       "\n",
       "    .dataframe thead th {\n",
       "        text-align: right;\n",
       "    }\n",
       "</style>\n",
       "<table border=\"1\" class=\"dataframe\">\n",
       "  <thead>\n",
       "    <tr style=\"text-align: right;\">\n",
       "      <th>index</th>\n",
       "      <th>gender</th>\n",
       "      <th>age</th>\n",
       "      <th>id</th>\n",
       "      <th>became_member_on</th>\n",
       "      <th>income</th>\n",
       "      <th>year</th>\n",
       "      <th>month</th>\n",
       "      <th>day</th>\n",
       "      <th>member_since_days</th>\n",
       "    </tr>\n",
       "  </thead>\n",
       "  <tbody>\n",
       "    <tr>\n",
       "      <th>0</th>\n",
       "      <td>None</td>\n",
       "      <td>118</td>\n",
       "      <td>68be06ca386d4c31939f3a4f0e3dd783</td>\n",
       "      <td>2017-02-12</td>\n",
       "      <td>NaN</td>\n",
       "      <td>2017</td>\n",
       "      <td>2</td>\n",
       "      <td>6</td>\n",
       "      <td>1700</td>\n",
       "    </tr>\n",
       "    <tr>\n",
       "      <th>1</th>\n",
       "      <td>F</td>\n",
       "      <td>55</td>\n",
       "      <td>0610b486422d4921ae7d2bf64640c50b</td>\n",
       "      <td>2017-07-15</td>\n",
       "      <td>112000.0</td>\n",
       "      <td>2017</td>\n",
       "      <td>7</td>\n",
       "      <td>5</td>\n",
       "      <td>1547</td>\n",
       "    </tr>\n",
       "    <tr>\n",
       "      <th>2</th>\n",
       "      <td>None</td>\n",
       "      <td>118</td>\n",
       "      <td>38fe809add3b4fcf9315a9694bb96ff5</td>\n",
       "      <td>2018-07-12</td>\n",
       "      <td>NaN</td>\n",
       "      <td>2018</td>\n",
       "      <td>7</td>\n",
       "      <td>3</td>\n",
       "      <td>1185</td>\n",
       "    </tr>\n",
       "  </tbody>\n",
       "</table>\n",
       "</div>"
      ],
      "text/plain": [
       "index gender  age                                id became_member_on  \\\n",
       "0       None  118  68be06ca386d4c31939f3a4f0e3dd783       2017-02-12   \n",
       "1          F   55  0610b486422d4921ae7d2bf64640c50b       2017-07-15   \n",
       "2       None  118  38fe809add3b4fcf9315a9694bb96ff5       2018-07-12   \n",
       "\n",
       "index    income  year  month  day  member_since_days  \n",
       "0           NaN  2017      2    6               1700  \n",
       "1      112000.0  2017      7    5               1547  \n",
       "2           NaN  2018      7    3               1185  "
      ]
     },
     "execution_count": 18,
     "metadata": {},
     "output_type": "execute_result"
    }
   ],
   "source": [
    "# Add columns for year, month, day, member_since_days in relation to today\n",
    "clean_profile.loc[:, 'year'] = clean_profile.became_member_on.dt.year\n",
    "clean_profile.loc[:, 'month'] = clean_profile.became_member_on.dt.month\n",
    "clean_profile.loc[:, 'day'] = clean_profile.became_member_on.dt.weekday\n",
    "clean_profile.loc[:, 'member_since_days'] = (pd.to_datetime('today') - clean_profile.became_member_on).astype('timedelta64[D]').astype(int)\n",
    "\n",
    "clean_profile.head(3)"
   ]
  },
  {
   "cell_type": "code",
   "execution_count": 19,
   "id": "9a243072",
   "metadata": {},
   "outputs": [
    {
     "name": "stdout",
     "output_type": "stream",
     "text": [
      "<class 'pandas.core.frame.DataFrame'>\n",
      "RangeIndex: 17000 entries, 0 to 16999\n",
      "Data columns (total 9 columns):\n",
      " #   Column             Non-Null Count  Dtype         \n",
      "---  ------             --------------  -----         \n",
      " 0   gender             14825 non-null  object        \n",
      " 1   age                17000 non-null  int64         \n",
      " 2   id                 17000 non-null  object        \n",
      " 3   became_member_on   17000 non-null  datetime64[ns]\n",
      " 4   income             14825 non-null  float64       \n",
      " 5   year               17000 non-null  int64         \n",
      " 6   month              17000 non-null  int64         \n",
      " 7   day                17000 non-null  int64         \n",
      " 8   member_since_days  17000 non-null  int64         \n",
      "dtypes: datetime64[ns](1), float64(1), int64(5), object(2)\n",
      "memory usage: 1.2+ MB\n"
     ]
    }
   ],
   "source": [
    "clean_profile.info()"
   ]
  },
  {
   "cell_type": "code",
   "execution_count": 20,
   "id": "eff43079",
   "metadata": {},
   "outputs": [
    {
     "data": {
      "text/html": [
       "<div>\n",
       "<style scoped>\n",
       "    .dataframe tbody tr th:only-of-type {\n",
       "        vertical-align: middle;\n",
       "    }\n",
       "\n",
       "    .dataframe tbody tr th {\n",
       "        vertical-align: top;\n",
       "    }\n",
       "\n",
       "    .dataframe thead th {\n",
       "        text-align: right;\n",
       "    }\n",
       "</style>\n",
       "<table border=\"1\" class=\"dataframe\">\n",
       "  <thead>\n",
       "    <tr style=\"text-align: right;\">\n",
       "      <th>index</th>\n",
       "      <th>became_member_on</th>\n",
       "      <th>year</th>\n",
       "      <th>month</th>\n",
       "      <th>day</th>\n",
       "      <th>member_since_days</th>\n",
       "    </tr>\n",
       "  </thead>\n",
       "  <tbody>\n",
       "    <tr>\n",
       "      <th>0</th>\n",
       "      <td>2017-02-12</td>\n",
       "      <td>2017</td>\n",
       "      <td>2</td>\n",
       "      <td>6</td>\n",
       "      <td>1700</td>\n",
       "    </tr>\n",
       "    <tr>\n",
       "      <th>1</th>\n",
       "      <td>2017-07-15</td>\n",
       "      <td>2017</td>\n",
       "      <td>7</td>\n",
       "      <td>5</td>\n",
       "      <td>1547</td>\n",
       "    </tr>\n",
       "    <tr>\n",
       "      <th>2</th>\n",
       "      <td>2018-07-12</td>\n",
       "      <td>2018</td>\n",
       "      <td>7</td>\n",
       "      <td>3</td>\n",
       "      <td>1185</td>\n",
       "    </tr>\n",
       "  </tbody>\n",
       "</table>\n",
       "</div>"
      ],
      "text/plain": [
       "index became_member_on  year  month  day  member_since_days\n",
       "0           2017-02-12  2017      2    6               1700\n",
       "1           2017-07-15  2017      7    5               1547\n",
       "2           2018-07-12  2018      7    3               1185"
      ]
     },
     "execution_count": 20,
     "metadata": {},
     "output_type": "execute_result"
    }
   ],
   "source": [
    "clean_profile.iloc[:3,[3, 5,6,7,8]]"
   ]
  },
  {
   "cell_type": "code",
   "execution_count": null,
   "id": "f12dc95f",
   "metadata": {},
   "outputs": [],
   "source": []
  },
  {
   "cell_type": "markdown",
   "id": "d6fa3069",
   "metadata": {},
   "source": [
    "#### Replace gender nan values\n",
    "\n",
    "To have a possibility to use the customer group who does not give demographic features I fill this with dummy values. For gender I define 'U' for unknown."
   ]
  },
  {
   "cell_type": "code",
   "execution_count": 21,
   "id": "88343910",
   "metadata": {},
   "outputs": [
    {
     "data": {
      "text/html": [
       "<div>\n",
       "<style scoped>\n",
       "    .dataframe tbody tr th:only-of-type {\n",
       "        vertical-align: middle;\n",
       "    }\n",
       "\n",
       "    .dataframe tbody tr th {\n",
       "        vertical-align: top;\n",
       "    }\n",
       "\n",
       "    .dataframe thead th {\n",
       "        text-align: right;\n",
       "    }\n",
       "</style>\n",
       "<table border=\"1\" class=\"dataframe\">\n",
       "  <thead>\n",
       "    <tr style=\"text-align: right;\">\n",
       "      <th>index</th>\n",
       "      <th>gender</th>\n",
       "      <th>age</th>\n",
       "      <th>id</th>\n",
       "      <th>became_member_on</th>\n",
       "      <th>income</th>\n",
       "      <th>year</th>\n",
       "      <th>month</th>\n",
       "      <th>day</th>\n",
       "      <th>member_since_days</th>\n",
       "    </tr>\n",
       "  </thead>\n",
       "  <tbody>\n",
       "    <tr>\n",
       "      <th>0</th>\n",
       "      <td>U</td>\n",
       "      <td>118</td>\n",
       "      <td>68be06ca386d4c31939f3a4f0e3dd783</td>\n",
       "      <td>2017-02-12</td>\n",
       "      <td>NaN</td>\n",
       "      <td>2017</td>\n",
       "      <td>2</td>\n",
       "      <td>6</td>\n",
       "      <td>1700</td>\n",
       "    </tr>\n",
       "    <tr>\n",
       "      <th>1</th>\n",
       "      <td>F</td>\n",
       "      <td>55</td>\n",
       "      <td>0610b486422d4921ae7d2bf64640c50b</td>\n",
       "      <td>2017-07-15</td>\n",
       "      <td>112000.0</td>\n",
       "      <td>2017</td>\n",
       "      <td>7</td>\n",
       "      <td>5</td>\n",
       "      <td>1547</td>\n",
       "    </tr>\n",
       "    <tr>\n",
       "      <th>2</th>\n",
       "      <td>U</td>\n",
       "      <td>118</td>\n",
       "      <td>38fe809add3b4fcf9315a9694bb96ff5</td>\n",
       "      <td>2018-07-12</td>\n",
       "      <td>NaN</td>\n",
       "      <td>2018</td>\n",
       "      <td>7</td>\n",
       "      <td>3</td>\n",
       "      <td>1185</td>\n",
       "    </tr>\n",
       "  </tbody>\n",
       "</table>\n",
       "</div>"
      ],
      "text/plain": [
       "index gender  age                                id became_member_on  \\\n",
       "0          U  118  68be06ca386d4c31939f3a4f0e3dd783       2017-02-12   \n",
       "1          F   55  0610b486422d4921ae7d2bf64640c50b       2017-07-15   \n",
       "2          U  118  38fe809add3b4fcf9315a9694bb96ff5       2018-07-12   \n",
       "\n",
       "index    income  year  month  day  member_since_days  \n",
       "0           NaN  2017      2    6               1700  \n",
       "1      112000.0  2017      7    5               1547  \n",
       "2           NaN  2018      7    3               1185  "
      ]
     },
     "execution_count": 21,
     "metadata": {},
     "output_type": "execute_result"
    }
   ],
   "source": [
    "# Modify gender column NaN values to 'U' for unknown\n",
    "clean_profile.gender = clean_profile.gender.fillna('U')\n",
    "clean_profile.head(3)"
   ]
  },
  {
   "cell_type": "markdown",
   "id": "4f02abd5",
   "metadata": {},
   "source": [
    "#### Fill missing income values\n",
    "\n",
    "The missing income values I fill with the mean income."
   ]
  },
  {
   "cell_type": "code",
   "execution_count": 22,
   "id": "939e3e5a",
   "metadata": {},
   "outputs": [
    {
     "data": {
      "text/html": [
       "<div>\n",
       "<style scoped>\n",
       "    .dataframe tbody tr th:only-of-type {\n",
       "        vertical-align: middle;\n",
       "    }\n",
       "\n",
       "    .dataframe tbody tr th {\n",
       "        vertical-align: top;\n",
       "    }\n",
       "\n",
       "    .dataframe thead th {\n",
       "        text-align: right;\n",
       "    }\n",
       "</style>\n",
       "<table border=\"1\" class=\"dataframe\">\n",
       "  <thead>\n",
       "    <tr style=\"text-align: right;\">\n",
       "      <th>index</th>\n",
       "      <th>gender</th>\n",
       "      <th>age</th>\n",
       "      <th>id</th>\n",
       "      <th>became_member_on</th>\n",
       "      <th>income</th>\n",
       "      <th>year</th>\n",
       "      <th>month</th>\n",
       "      <th>day</th>\n",
       "      <th>member_since_days</th>\n",
       "    </tr>\n",
       "  </thead>\n",
       "  <tbody>\n",
       "    <tr>\n",
       "      <th>0</th>\n",
       "      <td>U</td>\n",
       "      <td>118</td>\n",
       "      <td>68be06ca386d4c31939f3a4f0e3dd783</td>\n",
       "      <td>2017-02-12</td>\n",
       "      <td>65404.991568</td>\n",
       "      <td>2017</td>\n",
       "      <td>2</td>\n",
       "      <td>6</td>\n",
       "      <td>1700</td>\n",
       "    </tr>\n",
       "    <tr>\n",
       "      <th>1</th>\n",
       "      <td>F</td>\n",
       "      <td>55</td>\n",
       "      <td>0610b486422d4921ae7d2bf64640c50b</td>\n",
       "      <td>2017-07-15</td>\n",
       "      <td>112000.000000</td>\n",
       "      <td>2017</td>\n",
       "      <td>7</td>\n",
       "      <td>5</td>\n",
       "      <td>1547</td>\n",
       "    </tr>\n",
       "    <tr>\n",
       "      <th>2</th>\n",
       "      <td>U</td>\n",
       "      <td>118</td>\n",
       "      <td>38fe809add3b4fcf9315a9694bb96ff5</td>\n",
       "      <td>2018-07-12</td>\n",
       "      <td>65404.991568</td>\n",
       "      <td>2018</td>\n",
       "      <td>7</td>\n",
       "      <td>3</td>\n",
       "      <td>1185</td>\n",
       "    </tr>\n",
       "  </tbody>\n",
       "</table>\n",
       "</div>"
      ],
      "text/plain": [
       "index gender  age                                id became_member_on  \\\n",
       "0          U  118  68be06ca386d4c31939f3a4f0e3dd783       2017-02-12   \n",
       "1          F   55  0610b486422d4921ae7d2bf64640c50b       2017-07-15   \n",
       "2          U  118  38fe809add3b4fcf9315a9694bb96ff5       2018-07-12   \n",
       "\n",
       "index         income  year  month  day  member_since_days  \n",
       "0       65404.991568  2017      2    6               1700  \n",
       "1      112000.000000  2017      7    5               1547  \n",
       "2       65404.991568  2018      7    3               1185  "
      ]
     },
     "execution_count": 22,
     "metadata": {},
     "output_type": "execute_result"
    }
   ],
   "source": [
    "# Modify income columns NaN values with mean Income \n",
    "clean_profile.income = clean_profile.income.fillna(clean_profile.income.mean())\n",
    "clean_profile.head(3)"
   ]
  },
  {
   "cell_type": "markdown",
   "id": "646af58d",
   "metadata": {},
   "source": [
    "#### Modify the age of customers with age = 118 to the mean age"
   ]
  },
  {
   "cell_type": "code",
   "execution_count": 23,
   "id": "4e28e856",
   "metadata": {},
   "outputs": [
    {
     "data": {
      "text/html": [
       "<div>\n",
       "<style scoped>\n",
       "    .dataframe tbody tr th:only-of-type {\n",
       "        vertical-align: middle;\n",
       "    }\n",
       "\n",
       "    .dataframe tbody tr th {\n",
       "        vertical-align: top;\n",
       "    }\n",
       "\n",
       "    .dataframe thead th {\n",
       "        text-align: right;\n",
       "    }\n",
       "</style>\n",
       "<table border=\"1\" class=\"dataframe\">\n",
       "  <thead>\n",
       "    <tr style=\"text-align: right;\">\n",
       "      <th>index</th>\n",
       "      <th>gender</th>\n",
       "      <th>age</th>\n",
       "      <th>id</th>\n",
       "      <th>became_member_on</th>\n",
       "      <th>income</th>\n",
       "      <th>year</th>\n",
       "      <th>month</th>\n",
       "      <th>day</th>\n",
       "      <th>member_since_days</th>\n",
       "    </tr>\n",
       "  </thead>\n",
       "  <tbody>\n",
       "    <tr>\n",
       "      <th>0</th>\n",
       "      <td>U</td>\n",
       "      <td>54.393524</td>\n",
       "      <td>68be06ca386d4c31939f3a4f0e3dd783</td>\n",
       "      <td>2017-02-12</td>\n",
       "      <td>65404.991568</td>\n",
       "      <td>2017</td>\n",
       "      <td>2</td>\n",
       "      <td>6</td>\n",
       "      <td>1700</td>\n",
       "    </tr>\n",
       "    <tr>\n",
       "      <th>1</th>\n",
       "      <td>F</td>\n",
       "      <td>55.000000</td>\n",
       "      <td>0610b486422d4921ae7d2bf64640c50b</td>\n",
       "      <td>2017-07-15</td>\n",
       "      <td>112000.000000</td>\n",
       "      <td>2017</td>\n",
       "      <td>7</td>\n",
       "      <td>5</td>\n",
       "      <td>1547</td>\n",
       "    </tr>\n",
       "    <tr>\n",
       "      <th>2</th>\n",
       "      <td>U</td>\n",
       "      <td>54.393524</td>\n",
       "      <td>38fe809add3b4fcf9315a9694bb96ff5</td>\n",
       "      <td>2018-07-12</td>\n",
       "      <td>65404.991568</td>\n",
       "      <td>2018</td>\n",
       "      <td>7</td>\n",
       "      <td>3</td>\n",
       "      <td>1185</td>\n",
       "    </tr>\n",
       "  </tbody>\n",
       "</table>\n",
       "</div>"
      ],
      "text/plain": [
       "index gender        age                                id became_member_on  \\\n",
       "0          U  54.393524  68be06ca386d4c31939f3a4f0e3dd783       2017-02-12   \n",
       "1          F  55.000000  0610b486422d4921ae7d2bf64640c50b       2017-07-15   \n",
       "2          U  54.393524  38fe809add3b4fcf9315a9694bb96ff5       2018-07-12   \n",
       "\n",
       "index         income  year  month  day  member_since_days  \n",
       "0       65404.991568  2017      2    6               1700  \n",
       "1      112000.000000  2017      7    5               1547  \n",
       "2       65404.991568  2018      7    3               1185  "
      ]
     },
     "execution_count": 23,
     "metadata": {},
     "output_type": "execute_result"
    }
   ],
   "source": [
    "# Modify age values 118 to mean values\n",
    "# Get the index of age == 118 customers\n",
    "idx = clean_profile[clean_profile.age == 118].index\n",
    "# calculate mean for customers age != 118\n",
    "mean = clean_profile.loc[~clean_profile.index.isin(idx)].age.mean()\n",
    "# Replace age 118 by mean age\n",
    "clean_profile.loc[idx, 'age'] = mean\n",
    "clean_profile.head(3)"
   ]
  },
  {
   "cell_type": "markdown",
   "id": "c4aaf1b3",
   "metadata": {},
   "source": [
    "#### Change column name id to person_id"
   ]
  },
  {
   "cell_type": "code",
   "execution_count": 24,
   "id": "a4e1560a",
   "metadata": {},
   "outputs": [
    {
     "data": {
      "text/html": [
       "<div>\n",
       "<style scoped>\n",
       "    .dataframe tbody tr th:only-of-type {\n",
       "        vertical-align: middle;\n",
       "    }\n",
       "\n",
       "    .dataframe tbody tr th {\n",
       "        vertical-align: top;\n",
       "    }\n",
       "\n",
       "    .dataframe thead th {\n",
       "        text-align: right;\n",
       "    }\n",
       "</style>\n",
       "<table border=\"1\" class=\"dataframe\">\n",
       "  <thead>\n",
       "    <tr style=\"text-align: right;\">\n",
       "      <th>index</th>\n",
       "      <th>gender</th>\n",
       "      <th>age</th>\n",
       "      <th>person_id</th>\n",
       "      <th>became_member_on</th>\n",
       "      <th>income</th>\n",
       "      <th>year</th>\n",
       "      <th>month</th>\n",
       "      <th>day</th>\n",
       "      <th>member_since_days</th>\n",
       "    </tr>\n",
       "  </thead>\n",
       "  <tbody>\n",
       "    <tr>\n",
       "      <th>0</th>\n",
       "      <td>U</td>\n",
       "      <td>54.393524</td>\n",
       "      <td>68be06ca386d4c31939f3a4f0e3dd783</td>\n",
       "      <td>2017-02-12</td>\n",
       "      <td>65404.991568</td>\n",
       "      <td>2017</td>\n",
       "      <td>2</td>\n",
       "      <td>6</td>\n",
       "      <td>1700</td>\n",
       "    </tr>\n",
       "    <tr>\n",
       "      <th>1</th>\n",
       "      <td>F</td>\n",
       "      <td>55.000000</td>\n",
       "      <td>0610b486422d4921ae7d2bf64640c50b</td>\n",
       "      <td>2017-07-15</td>\n",
       "      <td>112000.000000</td>\n",
       "      <td>2017</td>\n",
       "      <td>7</td>\n",
       "      <td>5</td>\n",
       "      <td>1547</td>\n",
       "    </tr>\n",
       "    <tr>\n",
       "      <th>2</th>\n",
       "      <td>U</td>\n",
       "      <td>54.393524</td>\n",
       "      <td>38fe809add3b4fcf9315a9694bb96ff5</td>\n",
       "      <td>2018-07-12</td>\n",
       "      <td>65404.991568</td>\n",
       "      <td>2018</td>\n",
       "      <td>7</td>\n",
       "      <td>3</td>\n",
       "      <td>1185</td>\n",
       "    </tr>\n",
       "  </tbody>\n",
       "</table>\n",
       "</div>"
      ],
      "text/plain": [
       "index gender        age                         person_id became_member_on  \\\n",
       "0          U  54.393524  68be06ca386d4c31939f3a4f0e3dd783       2017-02-12   \n",
       "1          F  55.000000  0610b486422d4921ae7d2bf64640c50b       2017-07-15   \n",
       "2          U  54.393524  38fe809add3b4fcf9315a9694bb96ff5       2018-07-12   \n",
       "\n",
       "index         income  year  month  day  member_since_days  \n",
       "0       65404.991568  2017      2    6               1700  \n",
       "1      112000.000000  2017      7    5               1547  \n",
       "2       65404.991568  2018      7    3               1185  "
      ]
     },
     "execution_count": 24,
     "metadata": {},
     "output_type": "execute_result"
    }
   ],
   "source": [
    "clean_profile = clean_profile.rename(columns={'id': 'person_id'})\n",
    "clean_profile.head(3)"
   ]
  },
  {
   "cell_type": "markdown",
   "id": "bd560964",
   "metadata": {},
   "source": [
    "#### Add columns for each gender as one hot encoding"
   ]
  },
  {
   "cell_type": "code",
   "execution_count": 25,
   "id": "1be9441f",
   "metadata": {},
   "outputs": [
    {
     "data": {
      "text/html": [
       "<div>\n",
       "<style scoped>\n",
       "    .dataframe tbody tr th:only-of-type {\n",
       "        vertical-align: middle;\n",
       "    }\n",
       "\n",
       "    .dataframe tbody tr th {\n",
       "        vertical-align: top;\n",
       "    }\n",
       "\n",
       "    .dataframe thead th {\n",
       "        text-align: right;\n",
       "    }\n",
       "</style>\n",
       "<table border=\"1\" class=\"dataframe\">\n",
       "  <thead>\n",
       "    <tr style=\"text-align: right;\">\n",
       "      <th></th>\n",
       "      <th>F</th>\n",
       "      <th>M</th>\n",
       "      <th>O</th>\n",
       "      <th>U</th>\n",
       "    </tr>\n",
       "  </thead>\n",
       "  <tbody>\n",
       "    <tr>\n",
       "      <th>0</th>\n",
       "      <td>0</td>\n",
       "      <td>0</td>\n",
       "      <td>0</td>\n",
       "      <td>1</td>\n",
       "    </tr>\n",
       "    <tr>\n",
       "      <th>1</th>\n",
       "      <td>1</td>\n",
       "      <td>0</td>\n",
       "      <td>0</td>\n",
       "      <td>0</td>\n",
       "    </tr>\n",
       "    <tr>\n",
       "      <th>2</th>\n",
       "      <td>0</td>\n",
       "      <td>0</td>\n",
       "      <td>0</td>\n",
       "      <td>1</td>\n",
       "    </tr>\n",
       "  </tbody>\n",
       "</table>\n",
       "</div>"
      ],
      "text/plain": [
       "   F  M  O  U\n",
       "0  0  0  0  1\n",
       "1  1  0  0  0\n",
       "2  0  0  0  1"
      ]
     },
     "execution_count": 25,
     "metadata": {},
     "output_type": "execute_result"
    }
   ],
   "source": [
    "clean_profile = clean_profile.join(pd.get_dummies(clean_profile.gender))\n",
    "\n",
    "clean_profile.iloc[:3,-4:]"
   ]
  },
  {
   "cell_type": "code",
   "execution_count": 26,
   "id": "d3b636b3",
   "metadata": {},
   "outputs": [
    {
     "data": {
      "text/html": [
       "<div>\n",
       "<style scoped>\n",
       "    .dataframe tbody tr th:only-of-type {\n",
       "        vertical-align: middle;\n",
       "    }\n",
       "\n",
       "    .dataframe tbody tr th {\n",
       "        vertical-align: top;\n",
       "    }\n",
       "\n",
       "    .dataframe thead th {\n",
       "        text-align: right;\n",
       "    }\n",
       "</style>\n",
       "<table border=\"1\" class=\"dataframe\">\n",
       "  <thead>\n",
       "    <tr style=\"text-align: right;\">\n",
       "      <th>index</th>\n",
       "      <th>F</th>\n",
       "      <th>M</th>\n",
       "      <th>O</th>\n",
       "      <th>U</th>\n",
       "    </tr>\n",
       "  </thead>\n",
       "  <tbody>\n",
       "    <tr>\n",
       "      <th>0</th>\n",
       "      <td>0</td>\n",
       "      <td>0</td>\n",
       "      <td>0</td>\n",
       "      <td>1</td>\n",
       "    </tr>\n",
       "    <tr>\n",
       "      <th>1</th>\n",
       "      <td>1</td>\n",
       "      <td>0</td>\n",
       "      <td>0</td>\n",
       "      <td>0</td>\n",
       "    </tr>\n",
       "    <tr>\n",
       "      <th>2</th>\n",
       "      <td>0</td>\n",
       "      <td>0</td>\n",
       "      <td>0</td>\n",
       "      <td>1</td>\n",
       "    </tr>\n",
       "  </tbody>\n",
       "</table>\n",
       "</div>"
      ],
      "text/plain": [
       "index  F  M  O  U\n",
       "0      0  0  0  1\n",
       "1      1  0  0  0\n",
       "2      0  0  0  1"
      ]
     },
     "execution_count": 26,
     "metadata": {},
     "output_type": "execute_result"
    }
   ],
   "source": [
    "clean_profile.columns.name='index'\n",
    "clean_profile.iloc[:3,-4:]"
   ]
  },
  {
   "cell_type": "markdown",
   "id": "54fc64fe",
   "metadata": {},
   "source": [
    "#### Write cleaned profile data to csv file"
   ]
  },
  {
   "cell_type": "code",
   "execution_count": 27,
   "id": "b0c029c7",
   "metadata": {},
   "outputs": [],
   "source": [
    "clean_profile.to_csv('data/clean_profile.csv', index=False)"
   ]
  },
  {
   "cell_type": "code",
   "execution_count": null,
   "id": "5423ae39",
   "metadata": {},
   "outputs": [],
   "source": []
  },
  {
   "cell_type": "markdown",
   "id": "892cf0b6",
   "metadata": {},
   "source": [
    "### Transcript\n",
    "\n",
    "Let's have a look on the dataframe\n"
   ]
  },
  {
   "cell_type": "code",
   "execution_count": 28,
   "id": "b9375abf",
   "metadata": {},
   "outputs": [
    {
     "data": {
      "text/html": [
       "<div>\n",
       "<style scoped>\n",
       "    .dataframe tbody tr th:only-of-type {\n",
       "        vertical-align: middle;\n",
       "    }\n",
       "\n",
       "    .dataframe tbody tr th {\n",
       "        vertical-align: top;\n",
       "    }\n",
       "\n",
       "    .dataframe thead th {\n",
       "        text-align: right;\n",
       "    }\n",
       "</style>\n",
       "<table border=\"1\" class=\"dataframe\">\n",
       "  <thead>\n",
       "    <tr style=\"text-align: right;\">\n",
       "      <th>index</th>\n",
       "      <th>person</th>\n",
       "      <th>event</th>\n",
       "      <th>value</th>\n",
       "      <th>time</th>\n",
       "    </tr>\n",
       "  </thead>\n",
       "  <tbody>\n",
       "    <tr>\n",
       "      <th>0</th>\n",
       "      <td>78afa995795e4d85b5d9ceeca43f5fef</td>\n",
       "      <td>offer received</td>\n",
       "      <td>{'offer id': '9b98b8c7a33c4b65b9aebfe6a799e6d9'}</td>\n",
       "      <td>0</td>\n",
       "    </tr>\n",
       "    <tr>\n",
       "      <th>1</th>\n",
       "      <td>a03223e636434f42ac4c3df47e8bac43</td>\n",
       "      <td>offer received</td>\n",
       "      <td>{'offer id': '0b1e1539f2cc45b7b9fa7c272da2e1d7'}</td>\n",
       "      <td>0</td>\n",
       "    </tr>\n",
       "    <tr>\n",
       "      <th>2</th>\n",
       "      <td>e2127556f4f64592b11af22de27a7932</td>\n",
       "      <td>offer received</td>\n",
       "      <td>{'offer id': '2906b810c7d4411798c6938adc9daaa5'}</td>\n",
       "      <td>0</td>\n",
       "    </tr>\n",
       "  </tbody>\n",
       "</table>\n",
       "</div>"
      ],
      "text/plain": [
       "index                            person           event  \\\n",
       "0      78afa995795e4d85b5d9ceeca43f5fef  offer received   \n",
       "1      a03223e636434f42ac4c3df47e8bac43  offer received   \n",
       "2      e2127556f4f64592b11af22de27a7932  offer received   \n",
       "\n",
       "index                                             value  time  \n",
       "0      {'offer id': '9b98b8c7a33c4b65b9aebfe6a799e6d9'}     0  \n",
       "1      {'offer id': '0b1e1539f2cc45b7b9fa7c272da2e1d7'}     0  \n",
       "2      {'offer id': '2906b810c7d4411798c6938adc9daaa5'}     0  "
      ]
     },
     "execution_count": 28,
     "metadata": {},
     "output_type": "execute_result"
    }
   ],
   "source": [
    "transcript.columns.name='index'\n",
    "transcript.head(3)"
   ]
  },
  {
   "cell_type": "markdown",
   "id": "d977494a",
   "metadata": {},
   "source": [
    "### Assessing Transcript data\n",
    "\n",
    "* Rename column name person to person_id\n",
    "* One hot encoding of column event\n",
    "* Clear column value\n",
    "* Drop duplicate rows after normalizing value column"
   ]
  },
  {
   "cell_type": "code",
   "execution_count": 29,
   "id": "eff4ab16",
   "metadata": {},
   "outputs": [],
   "source": [
    "# Create a copy to keep the original dataframe\n",
    "clean_transcript = transcript.copy()"
   ]
  },
  {
   "cell_type": "markdown",
   "id": "db0edcff",
   "metadata": {},
   "source": [
    "#### Rename person column"
   ]
  },
  {
   "cell_type": "code",
   "execution_count": 30,
   "id": "8c16161f",
   "metadata": {},
   "outputs": [],
   "source": [
    "# Rename column person to person_id\n",
    "clean_transcript = clean_transcript.rename(columns={'person': 'person_id'})"
   ]
  },
  {
   "cell_type": "markdown",
   "id": "d670663f",
   "metadata": {},
   "source": [
    "#### One hot encoding for event column"
   ]
  },
  {
   "cell_type": "code",
   "execution_count": 31,
   "id": "8c1954bc",
   "metadata": {},
   "outputs": [],
   "source": [
    "# One Hot Encoding column event\n",
    "clean_transcript = pd.get_dummies(data=clean_transcript, columns=['event'])"
   ]
  },
  {
   "cell_type": "code",
   "execution_count": 32,
   "id": "9148d9b9",
   "metadata": {},
   "outputs": [
    {
     "data": {
      "text/html": [
       "<div>\n",
       "<style scoped>\n",
       "    .dataframe tbody tr th:only-of-type {\n",
       "        vertical-align: middle;\n",
       "    }\n",
       "\n",
       "    .dataframe tbody tr th {\n",
       "        vertical-align: top;\n",
       "    }\n",
       "\n",
       "    .dataframe thead th {\n",
       "        text-align: right;\n",
       "    }\n",
       "</style>\n",
       "<table border=\"1\" class=\"dataframe\">\n",
       "  <thead>\n",
       "    <tr style=\"text-align: right;\">\n",
       "      <th></th>\n",
       "      <th>person_id</th>\n",
       "      <th>value</th>\n",
       "      <th>time</th>\n",
       "      <th>event_offer completed</th>\n",
       "      <th>event_offer received</th>\n",
       "      <th>event_offer viewed</th>\n",
       "      <th>event_transaction</th>\n",
       "    </tr>\n",
       "  </thead>\n",
       "  <tbody>\n",
       "    <tr>\n",
       "      <th>0</th>\n",
       "      <td>78afa995795e4d85b5d9ceeca43f5fef</td>\n",
       "      <td>{'offer id': '9b98b8c7a33c4b65b9aebfe6a799e6d9'}</td>\n",
       "      <td>0</td>\n",
       "      <td>0</td>\n",
       "      <td>1</td>\n",
       "      <td>0</td>\n",
       "      <td>0</td>\n",
       "    </tr>\n",
       "    <tr>\n",
       "      <th>1</th>\n",
       "      <td>a03223e636434f42ac4c3df47e8bac43</td>\n",
       "      <td>{'offer id': '0b1e1539f2cc45b7b9fa7c272da2e1d7'}</td>\n",
       "      <td>0</td>\n",
       "      <td>0</td>\n",
       "      <td>1</td>\n",
       "      <td>0</td>\n",
       "      <td>0</td>\n",
       "    </tr>\n",
       "    <tr>\n",
       "      <th>2</th>\n",
       "      <td>e2127556f4f64592b11af22de27a7932</td>\n",
       "      <td>{'offer id': '2906b810c7d4411798c6938adc9daaa5'}</td>\n",
       "      <td>0</td>\n",
       "      <td>0</td>\n",
       "      <td>1</td>\n",
       "      <td>0</td>\n",
       "      <td>0</td>\n",
       "    </tr>\n",
       "  </tbody>\n",
       "</table>\n",
       "</div>"
      ],
      "text/plain": [
       "                          person_id  \\\n",
       "0  78afa995795e4d85b5d9ceeca43f5fef   \n",
       "1  a03223e636434f42ac4c3df47e8bac43   \n",
       "2  e2127556f4f64592b11af22de27a7932   \n",
       "\n",
       "                                              value  time  \\\n",
       "0  {'offer id': '9b98b8c7a33c4b65b9aebfe6a799e6d9'}     0   \n",
       "1  {'offer id': '0b1e1539f2cc45b7b9fa7c272da2e1d7'}     0   \n",
       "2  {'offer id': '2906b810c7d4411798c6938adc9daaa5'}     0   \n",
       "\n",
       "   event_offer completed  event_offer received  event_offer viewed  \\\n",
       "0                      0                     1                   0   \n",
       "1                      0                     1                   0   \n",
       "2                      0                     1                   0   \n",
       "\n",
       "   event_transaction  \n",
       "0                  0  \n",
       "1                  0  \n",
       "2                  0  "
      ]
     },
     "execution_count": 32,
     "metadata": {},
     "output_type": "execute_result"
    }
   ],
   "source": [
    "clean_transcript.head(3)"
   ]
  },
  {
   "cell_type": "markdown",
   "id": "ce729b62",
   "metadata": {},
   "source": [
    "#### Normalize the value column\n",
    "\n",
    "The value columns contains json data. We can use the pandas json_normalize method. After we do this, we get two columns `offer_id` and `offer id`. These two columns with same variable but different column names must be merged in one column.\n",
    "The additional column reward can be droped, because this column is part of the portfolio dataset.\n"
   ]
  },
  {
   "cell_type": "code",
   "execution_count": 33,
   "id": "43aa6cbc",
   "metadata": {},
   "outputs": [],
   "source": [
    "# Normalize column value\n",
    "normalized = pd.json_normalize(data=clean_transcript.value)\n",
    "# Index where column 'offer id' has values\n",
    "idx_1 = normalized['offer id'].dropna().index\n",
    "# Set values from column 'offer id' in column 'offer_id'\n",
    "normalized.loc[idx_1, 'offer_id'] = normalized.loc[idx_1, 'offer id']\n",
    "# Drop columns 'offer id' and 'reward'\n",
    "normalized = normalized.drop(columns=['offer id', 'reward'])\n",
    "# Join normalize dataframe with transcript\n",
    "clean_transcript = clean_transcript.join(normalized)\n",
    "# Drop column value from clean_trancript, no longer needed\n",
    "clean_transcript = clean_transcript.drop(columns='value')"
   ]
  },
  {
   "cell_type": "code",
   "execution_count": 34,
   "id": "3bdfd58f",
   "metadata": {},
   "outputs": [
    {
     "data": {
      "text/html": [
       "<div>\n",
       "<style scoped>\n",
       "    .dataframe tbody tr th:only-of-type {\n",
       "        vertical-align: middle;\n",
       "    }\n",
       "\n",
       "    .dataframe tbody tr th {\n",
       "        vertical-align: top;\n",
       "    }\n",
       "\n",
       "    .dataframe thead th {\n",
       "        text-align: right;\n",
       "    }\n",
       "</style>\n",
       "<table border=\"1\" class=\"dataframe\">\n",
       "  <thead>\n",
       "    <tr style=\"text-align: right;\">\n",
       "      <th></th>\n",
       "      <th>person_id</th>\n",
       "      <th>time</th>\n",
       "      <th>event_offer completed</th>\n",
       "      <th>event_offer received</th>\n",
       "      <th>event_offer viewed</th>\n",
       "      <th>event_transaction</th>\n",
       "      <th>amount</th>\n",
       "      <th>offer_id</th>\n",
       "    </tr>\n",
       "  </thead>\n",
       "  <tbody>\n",
       "    <tr>\n",
       "      <th>0</th>\n",
       "      <td>78afa995795e4d85b5d9ceeca43f5fef</td>\n",
       "      <td>0</td>\n",
       "      <td>0</td>\n",
       "      <td>1</td>\n",
       "      <td>0</td>\n",
       "      <td>0</td>\n",
       "      <td>NaN</td>\n",
       "      <td>9b98b8c7a33c4b65b9aebfe6a799e6d9</td>\n",
       "    </tr>\n",
       "    <tr>\n",
       "      <th>1</th>\n",
       "      <td>a03223e636434f42ac4c3df47e8bac43</td>\n",
       "      <td>0</td>\n",
       "      <td>0</td>\n",
       "      <td>1</td>\n",
       "      <td>0</td>\n",
       "      <td>0</td>\n",
       "      <td>NaN</td>\n",
       "      <td>0b1e1539f2cc45b7b9fa7c272da2e1d7</td>\n",
       "    </tr>\n",
       "    <tr>\n",
       "      <th>2</th>\n",
       "      <td>e2127556f4f64592b11af22de27a7932</td>\n",
       "      <td>0</td>\n",
       "      <td>0</td>\n",
       "      <td>1</td>\n",
       "      <td>0</td>\n",
       "      <td>0</td>\n",
       "      <td>NaN</td>\n",
       "      <td>2906b810c7d4411798c6938adc9daaa5</td>\n",
       "    </tr>\n",
       "  </tbody>\n",
       "</table>\n",
       "</div>"
      ],
      "text/plain": [
       "                          person_id  time  event_offer completed  \\\n",
       "0  78afa995795e4d85b5d9ceeca43f5fef     0                      0   \n",
       "1  a03223e636434f42ac4c3df47e8bac43     0                      0   \n",
       "2  e2127556f4f64592b11af22de27a7932     0                      0   \n",
       "\n",
       "   event_offer received  event_offer viewed  event_transaction  amount  \\\n",
       "0                     1                   0                  0     NaN   \n",
       "1                     1                   0                  0     NaN   \n",
       "2                     1                   0                  0     NaN   \n",
       "\n",
       "                           offer_id  \n",
       "0  9b98b8c7a33c4b65b9aebfe6a799e6d9  \n",
       "1  0b1e1539f2cc45b7b9fa7c272da2e1d7  \n",
       "2  2906b810c7d4411798c6938adc9daaa5  "
      ]
     },
     "execution_count": 34,
     "metadata": {},
     "output_type": "execute_result"
    }
   ],
   "source": [
    "clean_transcript.head(3)"
   ]
  },
  {
   "cell_type": "markdown",
   "id": "a262232e",
   "metadata": {},
   "source": [
    "#### Drop duplicate rows"
   ]
  },
  {
   "cell_type": "code",
   "execution_count": 35,
   "id": "3aa01478",
   "metadata": {},
   "outputs": [],
   "source": [
    "# Drop duplicate rows\n",
    "clean_transcript = clean_transcript.drop_duplicates()"
   ]
  },
  {
   "cell_type": "markdown",
   "id": "a19462a8",
   "metadata": {},
   "source": [
    "#### Rename columns from one hot hot encoding offer_type"
   ]
  },
  {
   "cell_type": "code",
   "execution_count": 36,
   "id": "8506980c",
   "metadata": {},
   "outputs": [],
   "source": [
    "clean_transcript = clean_transcript.rename(columns={'event_offer received': 'received', \n",
    "                         'event_offer viewed':'viewed', \n",
    "                         'event_offer completed':'completed',\n",
    "                         'event_transaction': 'transaction'})\n",
    "\n"
   ]
  },
  {
   "cell_type": "code",
   "execution_count": 37,
   "id": "205ffa71",
   "metadata": {},
   "outputs": [
    {
     "data": {
      "text/html": [
       "<div>\n",
       "<style scoped>\n",
       "    .dataframe tbody tr th:only-of-type {\n",
       "        vertical-align: middle;\n",
       "    }\n",
       "\n",
       "    .dataframe tbody tr th {\n",
       "        vertical-align: top;\n",
       "    }\n",
       "\n",
       "    .dataframe thead th {\n",
       "        text-align: right;\n",
       "    }\n",
       "</style>\n",
       "<table border=\"1\" class=\"dataframe\">\n",
       "  <thead>\n",
       "    <tr style=\"text-align: right;\">\n",
       "      <th>index</th>\n",
       "      <th>person_id</th>\n",
       "      <th>time</th>\n",
       "      <th>completed</th>\n",
       "      <th>received</th>\n",
       "      <th>viewed</th>\n",
       "      <th>transaction</th>\n",
       "      <th>amount</th>\n",
       "      <th>offer_id</th>\n",
       "    </tr>\n",
       "  </thead>\n",
       "  <tbody>\n",
       "    <tr>\n",
       "      <th>1</th>\n",
       "      <td>a03223e636434f42ac4c3df47e8bac43</td>\n",
       "      <td>0</td>\n",
       "      <td>0</td>\n",
       "      <td>1</td>\n",
       "      <td>0</td>\n",
       "      <td>0</td>\n",
       "      <td>NaN</td>\n",
       "      <td>0b1e1539f2cc45b7b9fa7c272da2e1d7</td>\n",
       "    </tr>\n",
       "    <tr>\n",
       "      <th>2</th>\n",
       "      <td>e2127556f4f64592b11af22de27a7932</td>\n",
       "      <td>0</td>\n",
       "      <td>0</td>\n",
       "      <td>1</td>\n",
       "      <td>0</td>\n",
       "      <td>0</td>\n",
       "      <td>NaN</td>\n",
       "      <td>2906b810c7d4411798c6938adc9daaa5</td>\n",
       "    </tr>\n",
       "    <tr>\n",
       "      <th>12657</th>\n",
       "      <td>9fa9ae8f57894cc9a3b8a9bbe0fc1b2f</td>\n",
       "      <td>0</td>\n",
       "      <td>0</td>\n",
       "      <td>0</td>\n",
       "      <td>0</td>\n",
       "      <td>1</td>\n",
       "      <td>34.56</td>\n",
       "      <td>NaN</td>\n",
       "    </tr>\n",
       "  </tbody>\n",
       "</table>\n",
       "</div>"
      ],
      "text/plain": [
       "index                         person_id  time  completed  received  viewed  \\\n",
       "1      a03223e636434f42ac4c3df47e8bac43     0          0         1       0   \n",
       "2      e2127556f4f64592b11af22de27a7932     0          0         1       0   \n",
       "12657  9fa9ae8f57894cc9a3b8a9bbe0fc1b2f     0          0         0       0   \n",
       "\n",
       "index  transaction  amount                          offer_id  \n",
       "1                0     NaN  0b1e1539f2cc45b7b9fa7c272da2e1d7  \n",
       "2                0     NaN  2906b810c7d4411798c6938adc9daaa5  \n",
       "12657            1   34.56                               NaN  "
      ]
     },
     "execution_count": 37,
     "metadata": {},
     "output_type": "execute_result"
    }
   ],
   "source": [
    "clean_transcript.columns.name='index'\n",
    "clean_transcript.query('transaction == 1')\n",
    "\n",
    "clean_transcript.iloc[[1,2,12657], :]"
   ]
  },
  {
   "cell_type": "code",
   "execution_count": 38,
   "id": "21100c83",
   "metadata": {},
   "outputs": [
    {
     "data": {
      "text/plain": [
       "transaction        138953\n",
       "offer received      76277\n",
       "offer viewed        57725\n",
       "offer completed     33579\n",
       "Name: event, dtype: int64"
      ]
     },
     "execution_count": 38,
     "metadata": {},
     "output_type": "execute_result"
    }
   ],
   "source": [
    "transcript.event.value_counts()"
   ]
  },
  {
   "cell_type": "markdown",
   "id": "35b678c4",
   "metadata": {},
   "source": [
    "#### Write the cleaned datafraame to csv file. "
   ]
  },
  {
   "cell_type": "code",
   "execution_count": 39,
   "id": "37731eab",
   "metadata": {},
   "outputs": [],
   "source": [
    "clean_transcript.to_csv('data/clean_transcript.csv', index=False)"
   ]
  },
  {
   "cell_type": "markdown",
   "id": "6f2ba098",
   "metadata": {},
   "source": [
    "### Merge all dataframes"
   ]
  },
  {
   "cell_type": "code",
   "execution_count": 40,
   "id": "4d2a89fe",
   "metadata": {},
   "outputs": [
    {
     "data": {
      "text/plain": [
       "Index(['reward', 'difficulty', 'duration', 'offer_type', 'offer_id', 'email',\n",
       "       'mobile', 'social', 'web', 'ticks', 'bogo', 'discount',\n",
       "       'informational'],\n",
       "      dtype='object')"
      ]
     },
     "execution_count": 40,
     "metadata": {},
     "output_type": "execute_result"
    }
   ],
   "source": [
    "clean_portfolio.columns"
   ]
  },
  {
   "cell_type": "code",
   "execution_count": 41,
   "id": "ccac5828",
   "metadata": {},
   "outputs": [],
   "source": [
    "# Full Dataframe = Merge Profile and clean_transcript\n",
    "full_df = clean_profile.merge(clean_transcript, how='outer', left_on='person_id', right_on='person_id')\n",
    "# Merge Full Dataframe with Portfolio \n",
    "full_df = full_df.merge(clean_portfolio, how='outer', left_on='offer_id', right_on='offer_id')"
   ]
  },
  {
   "cell_type": "markdown",
   "id": "230c2b99",
   "metadata": {},
   "source": [
    "### Assessing full_df\n",
    "* Add columns validity from time + duration"
   ]
  },
  {
   "cell_type": "code",
   "execution_count": 42,
   "id": "a82964bf",
   "metadata": {},
   "outputs": [
    {
     "data": {
      "text/plain": [
       "0         168.0\n",
       "1         168.0\n",
       "2         168.0\n",
       "3         168.0\n",
       "4         168.0\n",
       "          ...  \n",
       "306132    120.0\n",
       "306133    120.0\n",
       "306134    120.0\n",
       "306135    120.0\n",
       "306136    120.0\n",
       "Name: duration, Length: 306137, dtype: float64"
      ]
     },
     "execution_count": 42,
     "metadata": {},
     "output_type": "execute_result"
    }
   ],
   "source": [
    "full_df.duration"
   ]
  },
  {
   "cell_type": "code",
   "execution_count": 43,
   "id": "365e6b6b",
   "metadata": {},
   "outputs": [],
   "source": [
    "full_df['validity'] = full_df.time + full_df.duration"
   ]
  },
  {
   "cell_type": "code",
   "execution_count": 44,
   "id": "5129ff83",
   "metadata": {},
   "outputs": [
    {
     "data": {
      "text/html": [
       "<div>\n",
       "<style scoped>\n",
       "    .dataframe tbody tr th:only-of-type {\n",
       "        vertical-align: middle;\n",
       "    }\n",
       "\n",
       "    .dataframe tbody tr th {\n",
       "        vertical-align: top;\n",
       "    }\n",
       "\n",
       "    .dataframe thead th {\n",
       "        text-align: right;\n",
       "    }\n",
       "</style>\n",
       "<table border=\"1\" class=\"dataframe\">\n",
       "  <thead>\n",
       "    <tr style=\"text-align: right;\">\n",
       "      <th>index</th>\n",
       "      <th>time</th>\n",
       "      <th>duration</th>\n",
       "      <th>validity</th>\n",
       "    </tr>\n",
       "  </thead>\n",
       "  <tbody>\n",
       "    <tr>\n",
       "      <th>0</th>\n",
       "      <td>168</td>\n",
       "      <td>168.0</td>\n",
       "      <td>336.0</td>\n",
       "    </tr>\n",
       "    <tr>\n",
       "      <th>1</th>\n",
       "      <td>216</td>\n",
       "      <td>168.0</td>\n",
       "      <td>384.0</td>\n",
       "    </tr>\n",
       "    <tr>\n",
       "      <th>2</th>\n",
       "      <td>0</td>\n",
       "      <td>168.0</td>\n",
       "      <td>168.0</td>\n",
       "    </tr>\n",
       "    <tr>\n",
       "      <th>3</th>\n",
       "      <td>18</td>\n",
       "      <td>168.0</td>\n",
       "      <td>186.0</td>\n",
       "    </tr>\n",
       "  </tbody>\n",
       "</table>\n",
       "</div>"
      ],
      "text/plain": [
       "index  time  duration  validity\n",
       "0       168     168.0     336.0\n",
       "1       216     168.0     384.0\n",
       "2         0     168.0     168.0\n",
       "3        18     168.0     186.0"
      ]
     },
     "execution_count": 44,
     "metadata": {},
     "output_type": "execute_result"
    }
   ],
   "source": [
    "full_df.columns.name = 'index'\n",
    "full_df.loc[:3, ['time', 'duration', 'validity']]"
   ]
  },
  {
   "cell_type": "markdown",
   "id": "d29c7bae",
   "metadata": {},
   "source": [
    "#### Write full dataframe to csv file."
   ]
  },
  {
   "cell_type": "code",
   "execution_count": 45,
   "id": "63cceb3a",
   "metadata": {},
   "outputs": [],
   "source": [
    "# Save full_df to csv\n",
    "full_df.to_csv('data/full.csv', index=False)"
   ]
  }
 ],
 "metadata": {
  "kernelspec": {
   "display_name": "conda_python3",
   "language": "python",
   "name": "conda_python3"
  },
  "language_info": {
   "codemirror_mode": {
    "name": "ipython",
    "version": 3
   },
   "file_extension": ".py",
   "mimetype": "text/x-python",
   "name": "python",
   "nbconvert_exporter": "python",
   "pygments_lexer": "ipython3",
   "version": "3.6.13"
  }
 },
 "nbformat": 4,
 "nbformat_minor": 5
}
